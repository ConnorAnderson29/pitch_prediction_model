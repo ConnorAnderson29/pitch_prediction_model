{
 "cells": [
  {
   "cell_type": "markdown",
   "metadata": {},
   "source": [
    "# First Neural Network Experiement\n"
   ]
  },
  {
   "cell_type": "markdown",
   "metadata": {},
   "source": [
    "## Pipeline Preparation"
   ]
  },
  {
   "cell_type": "code",
   "execution_count": 1,
   "metadata": {},
   "outputs": [
    {
     "name": "stderr",
     "output_type": "stream",
     "text": [
      "Using TensorFlow backend.\n"
     ]
    }
   ],
   "source": [
    "import numpy as np\n",
    "import pandas as pd\n",
    "np.random.seed(0)\n",
    "import matplotlib.pyplot as plt\n",
    "from sklearn.model_selection import train_test_split, cross_val_score\n",
    "from sklearn.metrics import accuracy_score, confusion_matrix, classification_report\n",
    "from sklearn.tree import DecisionTreeClassifier\n",
    "from sklearn.ensemble import BaggingClassifier, RandomForestClassifier, GradientBoostingClassifier\n",
    "from sklearn.preprocessing import OneHotEncoder\n",
    "from sklearn_pandas import DataFrameMapper, FunctionTransformer, gen_features, pipeline\n",
    "from sklearn_pandas.pipeline import Pipeline\n",
    "from sklearn.compose import ColumnTransformer\n",
    "import seaborn as sns\n",
    "from sklearn.metrics import f1_score, accuracy_score, roc_auc_score\n",
    "from sklearn.preprocessing import LabelBinarizer\n",
    "import xgboost as xgb\n",
    "import os\n",
    "import pitch_functions\n",
    "import sklearn"
   ]
  },
  {
   "cell_type": "code",
   "execution_count": 2,
   "metadata": {},
   "outputs": [],
   "source": [
    "from matplotlib import pyplot as plt\n",
    "import numpy as np\n",
    "from sklearn.model_selection import train_test_split\n",
    "from sklearn import metrics\n",
    "from sklearn.preprocessing import StandardScaler\n",
    "from keras.models import Sequential\n",
    "from keras.layers import Dense, LSTM\n",
    "\n",
    "from keras.utils import to_categorical\n",
    "from sklearn.feature_extraction.text import TfidfVectorizer"
   ]
  },
  {
   "cell_type": "code",
   "execution_count": 3,
   "metadata": {},
   "outputs": [],
   "source": [
    "os.environ['KMP_DUPLICATE_LIB_OK']='True'"
   ]
  },
  {
   "cell_type": "code",
   "execution_count": 4,
   "metadata": {},
   "outputs": [],
   "source": [
    "pd.set_option('display.max_columns', None)"
   ]
  },
  {
   "cell_type": "code",
   "execution_count": 9,
   "metadata": {},
   "outputs": [],
   "source": [
    "each_pitch_clean = pd.read_csv('../raw_data/cleaned_pitches.csv')"
   ]
  },
  {
   "cell_type": "code",
   "execution_count": 10,
   "metadata": {},
   "outputs": [],
   "source": [
    "pitch_clean = each_pitch_clean.dropna().copy()"
   ]
  },
  {
   "cell_type": "code",
   "execution_count": 11,
   "metadata": {},
   "outputs": [],
   "source": [
    "pitch_clean = pitch_clean[:10000]"
   ]
  },
  {
   "cell_type": "code",
   "execution_count": 12,
   "metadata": {},
   "outputs": [],
   "source": [
    "target = pitch_clean['pitch_type']"
   ]
  },
  {
   "cell_type": "code",
   "execution_count": 13,
   "metadata": {},
   "outputs": [],
   "source": [
    "predictors = pitch_clean.drop(['pitch_type'], axis=1)"
   ]
  },
  {
   "cell_type": "code",
   "execution_count": 9,
   "metadata": {},
   "outputs": [],
   "source": [
    "cat_features = list(predictors.select_dtypes(include='object'))\n",
    "cat_features.extend(['about.inning', 'pitchData.zone', 'count'])"
   ]
  },
  {
   "cell_type": "code",
   "execution_count": 99,
   "metadata": {},
   "outputs": [
    {
     "data": {
      "text/plain": [
       "['about.halfInning',\n",
       " 'details.call.description',\n",
       " 'details.description',\n",
       " 'matchup.batSide.code',\n",
       " 'matchup.pitchHand.code',\n",
       " 'matchup.splits.menOnBase',\n",
       " 'count',\n",
       " 'about.inning',\n",
       " 'pitchData.zone',\n",
       " 'count']"
      ]
     },
     "execution_count": 99,
     "metadata": {},
     "output_type": "execute_result"
    }
   ],
   "source": [
    "cat_features"
   ]
  },
  {
   "cell_type": "markdown",
   "metadata": {},
   "source": [
    "## Data Prep for Neural Network \n",
    "- Game Plan for Today\n",
    "- Engineer the count column with a string of what the count is - maybe turn each ball and strike into a string and then combine them.\n",
    "- One Hot Encode the final data frame with all categorical columns \n",
    "- Create Final Dataframe for computer work today, then look into creating a neural network on the cloud. "
   ]
  },
  {
   "cell_type": "code",
   "execution_count": 100,
   "metadata": {},
   "outputs": [],
   "source": [
    "pitches_dict = {'Fastball': 0, 'Breaking_Ball': 1, 'Changeup': 2}"
   ]
  },
  {
   "cell_type": "code",
   "execution_count": 101,
   "metadata": {},
   "outputs": [],
   "source": [
    "pitches_numerical = target.map(pitches_dict)"
   ]
  },
  {
   "cell_type": "code",
   "execution_count": 5,
   "metadata": {},
   "outputs": [],
   "source": [
    "final_df_test = pd.read_csv('../raw_data/all_2018_pitches.csv')"
   ]
  },
  {
   "cell_type": "code",
   "execution_count": 6,
   "metadata": {},
   "outputs": [],
   "source": [
    "final_df_test = final_df_test.drop(['Unnamed: 0'], axis=1)"
   ]
  },
  {
   "cell_type": "code",
   "execution_count": 7,
   "metadata": {},
   "outputs": [],
   "source": [
    "target = final_df_test['pitch_type']\n"
   ]
  },
  {
   "cell_type": "code",
   "execution_count": 8,
   "metadata": {},
   "outputs": [],
   "source": [
    "predictors = final_df_test.drop(['pitch_type', 'hitter', 'pitcher'], axis=1).copy()"
   ]
  },
  {
   "cell_type": "code",
   "execution_count": 10,
   "metadata": {},
   "outputs": [],
   "source": [
    "X_train, X_test, y_train, y_test = train_test_split(predictors, \n",
    "                                                    target, \n",
    "                                                    random_state=10)"
   ]
  },
  {
   "cell_type": "code",
   "execution_count": 11,
   "metadata": {},
   "outputs": [
    {
     "name": "stdout",
     "output_type": "stream",
     "text": [
      "415206\n",
      "415206\n"
     ]
    }
   ],
   "source": [
    "print(len(X_train)) \n",
    "print(len(y_train))"
   ]
  },
  {
   "cell_type": "code",
   "execution_count": 12,
   "metadata": {},
   "outputs": [
    {
     "name": "stdout",
     "output_type": "stream",
     "text": [
      "138403\n",
      "138403\n"
     ]
    }
   ],
   "source": [
    "print(len(X_test)) \n",
    "print(len(y_test))"
   ]
  },
  {
   "cell_type": "code",
   "execution_count": 13,
   "metadata": {},
   "outputs": [],
   "source": [
    "encoder = OneHotEncoder(handle_unknown='ignore', categories='auto')"
   ]
  },
  {
   "cell_type": "code",
   "execution_count": 14,
   "metadata": {},
   "outputs": [
    {
     "data": {
      "text/plain": [
       "Index(['WAR_x', 'WHIP', 'ERA', 'SO', 'SLG', 'OPS', 'WAR_y', 'about.atBatIndex',\n",
       "       'about.halfInning', 'about.inning', 'details.call.description',\n",
       "       'details.description', 'matchup.batSide.code', 'matchup.pitchHand.code',\n",
       "       'matchup.pitcher.id', 'matchup.splits.menOnBase',\n",
       "       'pitchData.nastyFactor', 'pitchData.zone', 'pitchNumber',\n",
       "       'prior_pitch_type', 'count'],\n",
       "      dtype='object')"
      ]
     },
     "execution_count": 14,
     "metadata": {},
     "output_type": "execute_result"
    }
   ],
   "source": [
    "X_train.columns"
   ]
  },
  {
   "cell_type": "code",
   "execution_count": 15,
   "metadata": {},
   "outputs": [
    {
     "data": {
      "text/html": [
       "<div>\n",
       "<style scoped>\n",
       "    .dataframe tbody tr th:only-of-type {\n",
       "        vertical-align: middle;\n",
       "    }\n",
       "\n",
       "    .dataframe tbody tr th {\n",
       "        vertical-align: top;\n",
       "    }\n",
       "\n",
       "    .dataframe thead th {\n",
       "        text-align: right;\n",
       "    }\n",
       "</style>\n",
       "<table border=\"1\" class=\"dataframe\">\n",
       "  <thead>\n",
       "    <tr style=\"text-align: right;\">\n",
       "      <th></th>\n",
       "      <th>WAR_x</th>\n",
       "      <th>WHIP</th>\n",
       "      <th>ERA</th>\n",
       "      <th>SO</th>\n",
       "      <th>SLG</th>\n",
       "      <th>OPS</th>\n",
       "      <th>WAR_y</th>\n",
       "      <th>about.atBatIndex</th>\n",
       "      <th>about.halfInning</th>\n",
       "      <th>about.inning</th>\n",
       "      <th>details.call.description</th>\n",
       "      <th>details.description</th>\n",
       "      <th>matchup.batSide.code</th>\n",
       "      <th>matchup.pitchHand.code</th>\n",
       "      <th>matchup.pitcher.id</th>\n",
       "      <th>matchup.splits.menOnBase</th>\n",
       "      <th>pitchData.nastyFactor</th>\n",
       "      <th>pitchData.zone</th>\n",
       "      <th>pitchNumber</th>\n",
       "      <th>prior_pitch_type</th>\n",
       "      <th>count</th>\n",
       "    </tr>\n",
       "  </thead>\n",
       "  <tbody>\n",
       "    <tr>\n",
       "      <th>396000</th>\n",
       "      <td>-0.1</td>\n",
       "      <td>1.50</td>\n",
       "      <td>4.73</td>\n",
       "      <td>66</td>\n",
       "      <td>0.425</td>\n",
       "      <td>0.747</td>\n",
       "      <td>1.9</td>\n",
       "      <td>67</td>\n",
       "      <td>top</td>\n",
       "      <td>8</td>\n",
       "      <td>Ball - Called</td>\n",
       "      <td>Ball</td>\n",
       "      <td>L</td>\n",
       "      <td>L</td>\n",
       "      <td>518617</td>\n",
       "      <td>Empty</td>\n",
       "      <td>62.78</td>\n",
       "      <td>13.0</td>\n",
       "      <td>2.0</td>\n",
       "      <td>1.0</td>\n",
       "      <td>1.0-1.0</td>\n",
       "    </tr>\n",
       "    <tr>\n",
       "      <th>106585</th>\n",
       "      <td>0.9</td>\n",
       "      <td>1.34</td>\n",
       "      <td>3.10</td>\n",
       "      <td>53</td>\n",
       "      <td>0.409</td>\n",
       "      <td>0.733</td>\n",
       "      <td>2.5</td>\n",
       "      <td>47</td>\n",
       "      <td>top</td>\n",
       "      <td>6</td>\n",
       "      <td>Ball - Called</td>\n",
       "      <td>Ball In Dirt</td>\n",
       "      <td>R</td>\n",
       "      <td>L</td>\n",
       "      <td>605177</td>\n",
       "      <td>RISP</td>\n",
       "      <td>8.44</td>\n",
       "      <td>13.0</td>\n",
       "      <td>7.0</td>\n",
       "      <td>1.0</td>\n",
       "      <td>4.0-2.0</td>\n",
       "    </tr>\n",
       "  </tbody>\n",
       "</table>\n",
       "</div>"
      ],
      "text/plain": [
       "        WAR_x  WHIP   ERA  SO    SLG    OPS  WAR_y  about.atBatIndex  \\\n",
       "396000   -0.1  1.50  4.73  66  0.425  0.747    1.9                67   \n",
       "106585    0.9  1.34  3.10  53  0.409  0.733    2.5                47   \n",
       "\n",
       "       about.halfInning  about.inning details.call.description  \\\n",
       "396000              top             8            Ball - Called   \n",
       "106585              top             6            Ball - Called   \n",
       "\n",
       "       details.description matchup.batSide.code matchup.pitchHand.code  \\\n",
       "396000                Ball                    L                      L   \n",
       "106585        Ball In Dirt                    R                      L   \n",
       "\n",
       "        matchup.pitcher.id matchup.splits.menOnBase  pitchData.nastyFactor  \\\n",
       "396000              518617                    Empty                  62.78   \n",
       "106585              605177                     RISP                   8.44   \n",
       "\n",
       "        pitchData.zone  pitchNumber  prior_pitch_type    count  \n",
       "396000            13.0          2.0               1.0  1.0-1.0  \n",
       "106585            13.0          7.0               1.0  4.0-2.0  "
      ]
     },
     "execution_count": 15,
     "metadata": {},
     "output_type": "execute_result"
    }
   ],
   "source": [
    "X_train.head(2)"
   ]
  },
  {
   "cell_type": "markdown",
   "metadata": {},
   "source": [
    "- New Dataframe with columns from all categories that need to be one-hot-encoded.\n",
    "- Use the data frame that was created then "
   ]
  },
  {
   "cell_type": "code",
   "execution_count": 16,
   "metadata": {},
   "outputs": [
    {
     "data": {
      "text/html": [
       "<div>\n",
       "<style scoped>\n",
       "    .dataframe tbody tr th:only-of-type {\n",
       "        vertical-align: middle;\n",
       "    }\n",
       "\n",
       "    .dataframe tbody tr th {\n",
       "        vertical-align: top;\n",
       "    }\n",
       "\n",
       "    .dataframe thead th {\n",
       "        text-align: right;\n",
       "    }\n",
       "</style>\n",
       "<table border=\"1\" class=\"dataframe\">\n",
       "  <thead>\n",
       "    <tr style=\"text-align: right;\">\n",
       "      <th></th>\n",
       "      <th>about.halfInning</th>\n",
       "      <th>details.call.description</th>\n",
       "      <th>details.description</th>\n",
       "      <th>matchup.batSide.code</th>\n",
       "      <th>matchup.pitchHand.code</th>\n",
       "      <th>matchup.splits.menOnBase</th>\n",
       "      <th>count</th>\n",
       "      <th>about.inning</th>\n",
       "      <th>pitchData.zone</th>\n",
       "      <th>count</th>\n",
       "    </tr>\n",
       "  </thead>\n",
       "  <tbody>\n",
       "    <tr>\n",
       "      <th>396000</th>\n",
       "      <td>top</td>\n",
       "      <td>Ball - Called</td>\n",
       "      <td>Ball</td>\n",
       "      <td>L</td>\n",
       "      <td>L</td>\n",
       "      <td>Empty</td>\n",
       "      <td>1.0-1.0</td>\n",
       "      <td>8</td>\n",
       "      <td>13.0</td>\n",
       "      <td>1.0-1.0</td>\n",
       "    </tr>\n",
       "    <tr>\n",
       "      <th>106585</th>\n",
       "      <td>top</td>\n",
       "      <td>Ball - Called</td>\n",
       "      <td>Ball In Dirt</td>\n",
       "      <td>R</td>\n",
       "      <td>L</td>\n",
       "      <td>RISP</td>\n",
       "      <td>4.0-2.0</td>\n",
       "      <td>6</td>\n",
       "      <td>13.0</td>\n",
       "      <td>4.0-2.0</td>\n",
       "    </tr>\n",
       "    <tr>\n",
       "      <th>43872</th>\n",
       "      <td>top</td>\n",
       "      <td>Strike - Swinging</td>\n",
       "      <td>Swinging Strike</td>\n",
       "      <td>L</td>\n",
       "      <td>R</td>\n",
       "      <td>Empty</td>\n",
       "      <td>0.0-2.0</td>\n",
       "      <td>3</td>\n",
       "      <td>5.0</td>\n",
       "      <td>0.0-2.0</td>\n",
       "    </tr>\n",
       "    <tr>\n",
       "      <th>300476</th>\n",
       "      <td>top</td>\n",
       "      <td>Strike - Swinging</td>\n",
       "      <td>Foul</td>\n",
       "      <td>L</td>\n",
       "      <td>L</td>\n",
       "      <td>Empty</td>\n",
       "      <td>2.0-2.0</td>\n",
       "      <td>6</td>\n",
       "      <td>4.0</td>\n",
       "      <td>2.0-2.0</td>\n",
       "    </tr>\n",
       "    <tr>\n",
       "      <th>508866</th>\n",
       "      <td>bottom</td>\n",
       "      <td>Ball - Called</td>\n",
       "      <td>Ball</td>\n",
       "      <td>R</td>\n",
       "      <td>R</td>\n",
       "      <td>Empty</td>\n",
       "      <td>2.0-1.0</td>\n",
       "      <td>7</td>\n",
       "      <td>14.0</td>\n",
       "      <td>2.0-1.0</td>\n",
       "    </tr>\n",
       "  </tbody>\n",
       "</table>\n",
       "</div>"
      ],
      "text/plain": [
       "       about.halfInning details.call.description details.description  \\\n",
       "396000              top            Ball - Called                Ball   \n",
       "106585              top            Ball - Called        Ball In Dirt   \n",
       "43872               top        Strike - Swinging     Swinging Strike   \n",
       "300476              top        Strike - Swinging                Foul   \n",
       "508866           bottom            Ball - Called                Ball   \n",
       "\n",
       "       matchup.batSide.code matchup.pitchHand.code matchup.splits.menOnBase  \\\n",
       "396000                    L                      L                    Empty   \n",
       "106585                    R                      L                     RISP   \n",
       "43872                     L                      R                    Empty   \n",
       "300476                    L                      L                    Empty   \n",
       "508866                    R                      R                    Empty   \n",
       "\n",
       "          count  about.inning  pitchData.zone    count  \n",
       "396000  1.0-1.0             8            13.0  1.0-1.0  \n",
       "106585  4.0-2.0             6            13.0  4.0-2.0  \n",
       "43872   0.0-2.0             3             5.0  0.0-2.0  \n",
       "300476  2.0-2.0             6             4.0  2.0-2.0  \n",
       "508866  2.0-1.0             7            14.0  2.0-1.0  "
      ]
     },
     "execution_count": 16,
     "metadata": {},
     "output_type": "execute_result"
    }
   ],
   "source": [
    "X_train_c = X_train[cat_features]\n",
    "X_train_c.head()\n"
   ]
  },
  {
   "cell_type": "code",
   "execution_count": 17,
   "metadata": {},
   "outputs": [],
   "source": [
    "X_test_c = X_test[cat_features]"
   ]
  },
  {
   "cell_type": "code",
   "execution_count": 18,
   "metadata": {},
   "outputs": [],
   "source": [
    "y_train_c = to_categorical(y_train)"
   ]
  },
  {
   "cell_type": "code",
   "execution_count": 19,
   "metadata": {},
   "outputs": [],
   "source": [
    "y_test_c = to_categorical(y_test)"
   ]
  },
  {
   "cell_type": "code",
   "execution_count": 20,
   "metadata": {},
   "outputs": [
    {
     "data": {
      "text/plain": [
       "OneHotEncoder(categorical_features=None, categories='auto',\n",
       "       dtype=<class 'numpy.float64'>, handle_unknown='ignore',\n",
       "       n_values=None, sparse=True)"
      ]
     },
     "execution_count": 20,
     "metadata": {},
     "output_type": "execute_result"
    }
   ],
   "source": [
    "encoder.fit(X_train_c)"
   ]
  },
  {
   "cell_type": "code",
   "execution_count": 21,
   "metadata": {},
   "outputs": [],
   "source": [
    "X_train_1 = pd.DataFrame(encoder.transform(X_train_c).todense(),\n",
    "                   columns=encoder.get_feature_names())"
   ]
  },
  {
   "cell_type": "code",
   "execution_count": 22,
   "metadata": {},
   "outputs": [
    {
     "data": {
      "text/html": [
       "<div>\n",
       "<style scoped>\n",
       "    .dataframe tbody tr th:only-of-type {\n",
       "        vertical-align: middle;\n",
       "    }\n",
       "\n",
       "    .dataframe tbody tr th {\n",
       "        vertical-align: top;\n",
       "    }\n",
       "\n",
       "    .dataframe thead th {\n",
       "        text-align: right;\n",
       "    }\n",
       "</style>\n",
       "<table border=\"1\" class=\"dataframe\">\n",
       "  <thead>\n",
       "    <tr style=\"text-align: right;\">\n",
       "      <th></th>\n",
       "      <th>x0_bottom</th>\n",
       "      <th>x0_top</th>\n",
       "      <th>x1_Ball - Called</th>\n",
       "      <th>x1_Hit Into Play - Out(s)</th>\n",
       "      <th>x1_Strike - Swinging</th>\n",
       "      <th>x2_Ball</th>\n",
       "      <th>x2_Ball In Dirt</th>\n",
       "      <th>x2_Called Strike</th>\n",
       "      <th>x2_Foul</th>\n",
       "      <th>x2_Foul Bunt</th>\n",
       "      <th>x2_Foul Tip</th>\n",
       "      <th>x2_Hit By Pitch</th>\n",
       "      <th>x2_In play, no out</th>\n",
       "      <th>x2_In play, out(s)</th>\n",
       "      <th>x2_In play, run(s)</th>\n",
       "      <th>x2_Missed Bunt</th>\n",
       "      <th>x2_Swinging Strike</th>\n",
       "      <th>x2_Swinging Strike (Blocked)</th>\n",
       "      <th>x3_L</th>\n",
       "      <th>x3_R</th>\n",
       "      <th>x4_L</th>\n",
       "      <th>x4_R</th>\n",
       "      <th>x5_Empty</th>\n",
       "      <th>x5_Loaded</th>\n",
       "      <th>x5_Men_On</th>\n",
       "      <th>x5_RISP</th>\n",
       "      <th>x6_0.0-1.0</th>\n",
       "      <th>x6_0.0-2.0</th>\n",
       "      <th>x6_0.0-3.0</th>\n",
       "      <th>x6_1.0-0.0</th>\n",
       "      <th>x6_1.0-1.0</th>\n",
       "      <th>x6_1.0-2.0</th>\n",
       "      <th>x6_1.0-3.0</th>\n",
       "      <th>x6_2.0-0.0</th>\n",
       "      <th>x6_2.0-1.0</th>\n",
       "      <th>x6_2.0-2.0</th>\n",
       "      <th>x6_2.0-3.0</th>\n",
       "      <th>x6_3.0-0.0</th>\n",
       "      <th>x6_3.0-1.0</th>\n",
       "      <th>x6_3.0-2.0</th>\n",
       "      <th>x6_3.0-3.0</th>\n",
       "      <th>x6_4.0-0.0</th>\n",
       "      <th>x6_4.0-1.0</th>\n",
       "      <th>x6_4.0-2.0</th>\n",
       "      <th>x6_4.0-3.0</th>\n",
       "      <th>x7_1</th>\n",
       "      <th>x7_2</th>\n",
       "      <th>x7_3</th>\n",
       "      <th>x7_4</th>\n",
       "      <th>x7_5</th>\n",
       "      <th>x7_6</th>\n",
       "      <th>x7_7</th>\n",
       "      <th>x7_8</th>\n",
       "      <th>x7_9</th>\n",
       "      <th>x7_10</th>\n",
       "      <th>x7_11</th>\n",
       "      <th>x7_12</th>\n",
       "      <th>x7_13</th>\n",
       "      <th>x7_14</th>\n",
       "      <th>x7_15</th>\n",
       "      <th>x7_16</th>\n",
       "      <th>x7_17</th>\n",
       "      <th>x8_1.0</th>\n",
       "      <th>x8_2.0</th>\n",
       "      <th>x8_3.0</th>\n",
       "      <th>x8_4.0</th>\n",
       "      <th>x8_5.0</th>\n",
       "      <th>x8_6.0</th>\n",
       "      <th>x8_7.0</th>\n",
       "      <th>x8_8.0</th>\n",
       "      <th>x8_9.0</th>\n",
       "      <th>x8_11.0</th>\n",
       "      <th>x8_12.0</th>\n",
       "      <th>x8_13.0</th>\n",
       "      <th>x8_14.0</th>\n",
       "      <th>x9_0.0-1.0</th>\n",
       "      <th>x9_0.0-2.0</th>\n",
       "      <th>x9_0.0-3.0</th>\n",
       "      <th>x9_1.0-0.0</th>\n",
       "      <th>x9_1.0-1.0</th>\n",
       "      <th>x9_1.0-2.0</th>\n",
       "      <th>x9_1.0-3.0</th>\n",
       "      <th>x9_2.0-0.0</th>\n",
       "      <th>x9_2.0-1.0</th>\n",
       "      <th>x9_2.0-2.0</th>\n",
       "      <th>x9_2.0-3.0</th>\n",
       "      <th>x9_3.0-0.0</th>\n",
       "      <th>x9_3.0-1.0</th>\n",
       "      <th>x9_3.0-2.0</th>\n",
       "      <th>x9_3.0-3.0</th>\n",
       "      <th>x9_4.0-0.0</th>\n",
       "      <th>x9_4.0-1.0</th>\n",
       "      <th>x9_4.0-2.0</th>\n",
       "      <th>x9_4.0-3.0</th>\n",
       "    </tr>\n",
       "  </thead>\n",
       "  <tbody>\n",
       "    <tr>\n",
       "      <th>0</th>\n",
       "      <td>0.0</td>\n",
       "      <td>1.0</td>\n",
       "      <td>1.0</td>\n",
       "      <td>0.0</td>\n",
       "      <td>0.0</td>\n",
       "      <td>1.0</td>\n",
       "      <td>0.0</td>\n",
       "      <td>0.0</td>\n",
       "      <td>0.0</td>\n",
       "      <td>0.0</td>\n",
       "      <td>0.0</td>\n",
       "      <td>0.0</td>\n",
       "      <td>0.0</td>\n",
       "      <td>0.0</td>\n",
       "      <td>0.0</td>\n",
       "      <td>0.0</td>\n",
       "      <td>0.0</td>\n",
       "      <td>0.0</td>\n",
       "      <td>1.0</td>\n",
       "      <td>0.0</td>\n",
       "      <td>1.0</td>\n",
       "      <td>0.0</td>\n",
       "      <td>1.0</td>\n",
       "      <td>0.0</td>\n",
       "      <td>0.0</td>\n",
       "      <td>0.0</td>\n",
       "      <td>0.0</td>\n",
       "      <td>0.0</td>\n",
       "      <td>0.0</td>\n",
       "      <td>0.0</td>\n",
       "      <td>1.0</td>\n",
       "      <td>0.0</td>\n",
       "      <td>0.0</td>\n",
       "      <td>0.0</td>\n",
       "      <td>0.0</td>\n",
       "      <td>0.0</td>\n",
       "      <td>0.0</td>\n",
       "      <td>0.0</td>\n",
       "      <td>0.0</td>\n",
       "      <td>0.0</td>\n",
       "      <td>0.0</td>\n",
       "      <td>0.0</td>\n",
       "      <td>0.0</td>\n",
       "      <td>0.0</td>\n",
       "      <td>0.0</td>\n",
       "      <td>0.0</td>\n",
       "      <td>0.0</td>\n",
       "      <td>0.0</td>\n",
       "      <td>0.0</td>\n",
       "      <td>0.0</td>\n",
       "      <td>0.0</td>\n",
       "      <td>0.0</td>\n",
       "      <td>1.0</td>\n",
       "      <td>0.0</td>\n",
       "      <td>0.0</td>\n",
       "      <td>0.0</td>\n",
       "      <td>0.0</td>\n",
       "      <td>0.0</td>\n",
       "      <td>0.0</td>\n",
       "      <td>0.0</td>\n",
       "      <td>0.0</td>\n",
       "      <td>0.0</td>\n",
       "      <td>0.0</td>\n",
       "      <td>0.0</td>\n",
       "      <td>0.0</td>\n",
       "      <td>0.0</td>\n",
       "      <td>0.0</td>\n",
       "      <td>0.0</td>\n",
       "      <td>0.0</td>\n",
       "      <td>0.0</td>\n",
       "      <td>0.0</td>\n",
       "      <td>0.0</td>\n",
       "      <td>0.0</td>\n",
       "      <td>1.0</td>\n",
       "      <td>0.0</td>\n",
       "      <td>0.0</td>\n",
       "      <td>0.0</td>\n",
       "      <td>0.0</td>\n",
       "      <td>0.0</td>\n",
       "      <td>1.0</td>\n",
       "      <td>0.0</td>\n",
       "      <td>0.0</td>\n",
       "      <td>0.0</td>\n",
       "      <td>0.0</td>\n",
       "      <td>0.0</td>\n",
       "      <td>0.0</td>\n",
       "      <td>0.0</td>\n",
       "      <td>0.0</td>\n",
       "      <td>0.0</td>\n",
       "      <td>0.0</td>\n",
       "      <td>0.0</td>\n",
       "      <td>0.0</td>\n",
       "      <td>0.0</td>\n",
       "      <td>0.0</td>\n",
       "    </tr>\n",
       "    <tr>\n",
       "      <th>1</th>\n",
       "      <td>0.0</td>\n",
       "      <td>1.0</td>\n",
       "      <td>1.0</td>\n",
       "      <td>0.0</td>\n",
       "      <td>0.0</td>\n",
       "      <td>0.0</td>\n",
       "      <td>1.0</td>\n",
       "      <td>0.0</td>\n",
       "      <td>0.0</td>\n",
       "      <td>0.0</td>\n",
       "      <td>0.0</td>\n",
       "      <td>0.0</td>\n",
       "      <td>0.0</td>\n",
       "      <td>0.0</td>\n",
       "      <td>0.0</td>\n",
       "      <td>0.0</td>\n",
       "      <td>0.0</td>\n",
       "      <td>0.0</td>\n",
       "      <td>0.0</td>\n",
       "      <td>1.0</td>\n",
       "      <td>1.0</td>\n",
       "      <td>0.0</td>\n",
       "      <td>0.0</td>\n",
       "      <td>0.0</td>\n",
       "      <td>0.0</td>\n",
       "      <td>1.0</td>\n",
       "      <td>0.0</td>\n",
       "      <td>0.0</td>\n",
       "      <td>0.0</td>\n",
       "      <td>0.0</td>\n",
       "      <td>0.0</td>\n",
       "      <td>0.0</td>\n",
       "      <td>0.0</td>\n",
       "      <td>0.0</td>\n",
       "      <td>0.0</td>\n",
       "      <td>0.0</td>\n",
       "      <td>0.0</td>\n",
       "      <td>0.0</td>\n",
       "      <td>0.0</td>\n",
       "      <td>0.0</td>\n",
       "      <td>0.0</td>\n",
       "      <td>0.0</td>\n",
       "      <td>0.0</td>\n",
       "      <td>1.0</td>\n",
       "      <td>0.0</td>\n",
       "      <td>0.0</td>\n",
       "      <td>0.0</td>\n",
       "      <td>0.0</td>\n",
       "      <td>0.0</td>\n",
       "      <td>0.0</td>\n",
       "      <td>1.0</td>\n",
       "      <td>0.0</td>\n",
       "      <td>0.0</td>\n",
       "      <td>0.0</td>\n",
       "      <td>0.0</td>\n",
       "      <td>0.0</td>\n",
       "      <td>0.0</td>\n",
       "      <td>0.0</td>\n",
       "      <td>0.0</td>\n",
       "      <td>0.0</td>\n",
       "      <td>0.0</td>\n",
       "      <td>0.0</td>\n",
       "      <td>0.0</td>\n",
       "      <td>0.0</td>\n",
       "      <td>0.0</td>\n",
       "      <td>0.0</td>\n",
       "      <td>0.0</td>\n",
       "      <td>0.0</td>\n",
       "      <td>0.0</td>\n",
       "      <td>0.0</td>\n",
       "      <td>0.0</td>\n",
       "      <td>0.0</td>\n",
       "      <td>0.0</td>\n",
       "      <td>1.0</td>\n",
       "      <td>0.0</td>\n",
       "      <td>0.0</td>\n",
       "      <td>0.0</td>\n",
       "      <td>0.0</td>\n",
       "      <td>0.0</td>\n",
       "      <td>0.0</td>\n",
       "      <td>0.0</td>\n",
       "      <td>0.0</td>\n",
       "      <td>0.0</td>\n",
       "      <td>0.0</td>\n",
       "      <td>0.0</td>\n",
       "      <td>0.0</td>\n",
       "      <td>0.0</td>\n",
       "      <td>0.0</td>\n",
       "      <td>0.0</td>\n",
       "      <td>0.0</td>\n",
       "      <td>0.0</td>\n",
       "      <td>0.0</td>\n",
       "      <td>1.0</td>\n",
       "      <td>0.0</td>\n",
       "    </tr>\n",
       "  </tbody>\n",
       "</table>\n",
       "</div>"
      ],
      "text/plain": [
       "   x0_bottom  x0_top  x1_Ball - Called  x1_Hit Into Play - Out(s)  \\\n",
       "0        0.0     1.0               1.0                        0.0   \n",
       "1        0.0     1.0               1.0                        0.0   \n",
       "\n",
       "   x1_Strike - Swinging  x2_Ball  x2_Ball In Dirt  x2_Called Strike  x2_Foul  \\\n",
       "0                   0.0      1.0              0.0               0.0      0.0   \n",
       "1                   0.0      0.0              1.0               0.0      0.0   \n",
       "\n",
       "   x2_Foul Bunt  x2_Foul Tip  x2_Hit By Pitch  x2_In play, no out  \\\n",
       "0           0.0          0.0              0.0                 0.0   \n",
       "1           0.0          0.0              0.0                 0.0   \n",
       "\n",
       "   x2_In play, out(s)  x2_In play, run(s)  x2_Missed Bunt  x2_Swinging Strike  \\\n",
       "0                 0.0                 0.0             0.0                 0.0   \n",
       "1                 0.0                 0.0             0.0                 0.0   \n",
       "\n",
       "   x2_Swinging Strike (Blocked)  x3_L  x3_R  x4_L  x4_R  x5_Empty  x5_Loaded  \\\n",
       "0                           0.0   1.0   0.0   1.0   0.0       1.0        0.0   \n",
       "1                           0.0   0.0   1.0   1.0   0.0       0.0        0.0   \n",
       "\n",
       "   x5_Men_On  x5_RISP  x6_0.0-1.0  x6_0.0-2.0  x6_0.0-3.0  x6_1.0-0.0  \\\n",
       "0        0.0      0.0         0.0         0.0         0.0         0.0   \n",
       "1        0.0      1.0         0.0         0.0         0.0         0.0   \n",
       "\n",
       "   x6_1.0-1.0  x6_1.0-2.0  x6_1.0-3.0  x6_2.0-0.0  x6_2.0-1.0  x6_2.0-2.0  \\\n",
       "0         1.0         0.0         0.0         0.0         0.0         0.0   \n",
       "1         0.0         0.0         0.0         0.0         0.0         0.0   \n",
       "\n",
       "   x6_2.0-3.0  x6_3.0-0.0  x6_3.0-1.0  x6_3.0-2.0  x6_3.0-3.0  x6_4.0-0.0  \\\n",
       "0         0.0         0.0         0.0         0.0         0.0         0.0   \n",
       "1         0.0         0.0         0.0         0.0         0.0         0.0   \n",
       "\n",
       "   x6_4.0-1.0  x6_4.0-2.0  x6_4.0-3.0  x7_1  x7_2  x7_3  x7_4  x7_5  x7_6  \\\n",
       "0         0.0         0.0         0.0   0.0   0.0   0.0   0.0   0.0   0.0   \n",
       "1         0.0         1.0         0.0   0.0   0.0   0.0   0.0   0.0   1.0   \n",
       "\n",
       "   x7_7  x7_8  x7_9  x7_10  x7_11  x7_12  x7_13  x7_14  x7_15  x7_16  x7_17  \\\n",
       "0   0.0   1.0   0.0    0.0    0.0    0.0    0.0    0.0    0.0    0.0    0.0   \n",
       "1   0.0   0.0   0.0    0.0    0.0    0.0    0.0    0.0    0.0    0.0    0.0   \n",
       "\n",
       "   x8_1.0  x8_2.0  x8_3.0  x8_4.0  x8_5.0  x8_6.0  x8_7.0  x8_8.0  x8_9.0  \\\n",
       "0     0.0     0.0     0.0     0.0     0.0     0.0     0.0     0.0     0.0   \n",
       "1     0.0     0.0     0.0     0.0     0.0     0.0     0.0     0.0     0.0   \n",
       "\n",
       "   x8_11.0  x8_12.0  x8_13.0  x8_14.0  x9_0.0-1.0  x9_0.0-2.0  x9_0.0-3.0  \\\n",
       "0      0.0      0.0      1.0      0.0         0.0         0.0         0.0   \n",
       "1      0.0      0.0      1.0      0.0         0.0         0.0         0.0   \n",
       "\n",
       "   x9_1.0-0.0  x9_1.0-1.0  x9_1.0-2.0  x9_1.0-3.0  x9_2.0-0.0  x9_2.0-1.0  \\\n",
       "0         0.0         1.0         0.0         0.0         0.0         0.0   \n",
       "1         0.0         0.0         0.0         0.0         0.0         0.0   \n",
       "\n",
       "   x9_2.0-2.0  x9_2.0-3.0  x9_3.0-0.0  x9_3.0-1.0  x9_3.0-2.0  x9_3.0-3.0  \\\n",
       "0         0.0         0.0         0.0         0.0         0.0         0.0   \n",
       "1         0.0         0.0         0.0         0.0         0.0         0.0   \n",
       "\n",
       "   x9_4.0-0.0  x9_4.0-1.0  x9_4.0-2.0  x9_4.0-3.0  \n",
       "0         0.0         0.0         0.0         0.0  \n",
       "1         0.0         0.0         1.0         0.0  "
      ]
     },
     "execution_count": 22,
     "metadata": {},
     "output_type": "execute_result"
    }
   ],
   "source": [
    "X_train_1.head(2)"
   ]
  },
  {
   "cell_type": "code",
   "execution_count": 23,
   "metadata": {},
   "outputs": [],
   "source": [
    "X_test_1 = pd.DataFrame(encoder.transform(X_test_c).todense(),\n",
    "                   columns=encoder.get_feature_names())"
   ]
  },
  {
   "cell_type": "code",
   "execution_count": 24,
   "metadata": {},
   "outputs": [
    {
     "data": {
      "text/plain": [
       "415206"
      ]
     },
     "execution_count": 24,
     "metadata": {},
     "output_type": "execute_result"
    }
   ],
   "source": [
    "len(X_train_1)"
   ]
  },
  {
   "cell_type": "code",
   "execution_count": 25,
   "metadata": {},
   "outputs": [
    {
     "data": {
      "text/plain": [
       "(415206, 94)"
      ]
     },
     "execution_count": 25,
     "metadata": {},
     "output_type": "execute_result"
    }
   ],
   "source": [
    "X_train_1.shape"
   ]
  },
  {
   "cell_type": "code",
   "execution_count": 26,
   "metadata": {},
   "outputs": [
    {
     "data": {
      "text/plain": [
       "(138403, 94)"
      ]
     },
     "execution_count": 26,
     "metadata": {},
     "output_type": "execute_result"
    }
   ],
   "source": [
    "X_test_1.shape"
   ]
  },
  {
   "cell_type": "code",
   "execution_count": 27,
   "metadata": {},
   "outputs": [
    {
     "data": {
      "text/plain": [
       "138403"
      ]
     },
     "execution_count": 27,
     "metadata": {},
     "output_type": "execute_result"
    }
   ],
   "source": [
    "len(X_test_1)"
   ]
  },
  {
   "cell_type": "code",
   "execution_count": 28,
   "metadata": {},
   "outputs": [],
   "source": [
    "# List of Normalish Distributions\n",
    "#OPS\n",
    "#WAR_y\n",
    "#Nasty Factor\n",
    "#Drop matchup.pitcher.id or drop all players in general"
   ]
  },
  {
   "cell_type": "code",
   "execution_count": 29,
   "metadata": {},
   "outputs": [],
   "source": [
    "from keras.layers import Bidirectional, Activation\n",
    "import numpy as np"
   ]
  },
  {
   "cell_type": "code",
   "execution_count": null,
   "metadata": {},
   "outputs": [],
   "source": []
  },
  {
   "cell_type": "code",
   "execution_count": 30,
   "metadata": {},
   "outputs": [],
   "source": [
    "X_train_r = np.reshape(np.asarray(X_train_1), (X_train_1.shape[0], 1, X_train_1.shape[1]))\n",
    "X_test_r = np.reshape(np.asarray(X_test_1), (X_test_1.shape[0], 1, X_test_1.shape[1]))\n",
    "y_train_r = np.reshape(np.asarray(y_train_c), (y_train_c.shape[0], 1, y_train_c.shape[1]))\n",
    "y_test_r = np.reshape(np.asarray(y_test_c), (y_test_c.shape[0], 1, y_test_c.shape[1]))"
   ]
  },
  {
   "cell_type": "code",
   "execution_count": 31,
   "metadata": {},
   "outputs": [
    {
     "data": {
      "text/plain": [
       "(415206, 1, 94)"
      ]
     },
     "execution_count": 31,
     "metadata": {},
     "output_type": "execute_result"
    }
   ],
   "source": [
    "X_train_r.shape"
   ]
  },
  {
   "cell_type": "code",
   "execution_count": 32,
   "metadata": {},
   "outputs": [
    {
     "data": {
      "text/plain": [
       "(415206, 1, 2)"
      ]
     },
     "execution_count": 32,
     "metadata": {},
     "output_type": "execute_result"
    }
   ],
   "source": [
    "y_train_r.shape"
   ]
  },
  {
   "cell_type": "code",
   "execution_count": 33,
   "metadata": {},
   "outputs": [
    {
     "data": {
      "text/plain": [
       "(138403, 1, 94)"
      ]
     },
     "execution_count": 33,
     "metadata": {},
     "output_type": "execute_result"
    }
   ],
   "source": [
    "X_test_r.shape"
   ]
  },
  {
   "cell_type": "code",
   "execution_count": 34,
   "metadata": {},
   "outputs": [
    {
     "data": {
      "text/plain": [
       "(138403, 1, 2)"
      ]
     },
     "execution_count": 34,
     "metadata": {},
     "output_type": "execute_result"
    }
   ],
   "source": [
    "y_test_r.shape"
   ]
  },
  {
   "cell_type": "code",
   "execution_count": 35,
   "metadata": {},
   "outputs": [],
   "source": [
    "# model = Sequential()\n",
    "# model.add(Bidirectional(LSTM(10, return_sequences=True),\n",
    "#                         input_shape=(X_train_r.shape[1], X_train_r.shape[2] )))\n",
    "# model.add(Bidirectional(LSTM(10)))\n",
    "# model.add(Dense(5))\n",
    "# # model.add(Activation('softmax'))\n",
    "# model.compile(loss='categorical_crossentropy', optimizer='rmsprop')"
   ]
  },
  {
   "cell_type": "code",
   "execution_count": 36,
   "metadata": {},
   "outputs": [],
   "source": [
    "# model = Sequential()\n",
    "# inputs = X_train_1.shape[1]\n",
    "\n",
    "# model.add(Dense(inputs, activation='relu'))\n",
    "# model.add(Dense(100, activation='relu'))\n",
    "\n",
    "# model.add(Dense(3, activation='softmax'))"
   ]
  },
  {
   "cell_type": "code",
   "execution_count": 37,
   "metadata": {},
   "outputs": [],
   "source": [
    "# model.compile(optimizer='adam', loss='categorical_crossentropy', metrics=['acc'])"
   ]
  },
  {
   "cell_type": "code",
   "execution_count": 47,
   "metadata": {},
   "outputs": [],
   "source": [
    "rnn = Sequential()\n",
    "\n",
    "inputs = X_train_r.shape[2]\n",
    "\n",
    "rnn.add(LSTM(inputs, input_shape=(1, inputs), return_sequences=True))\n",
    "rnn.add(LSTM(200, return_sequences=True))\n",
    "rnn.add(LSTM(30, return_sequences=True))\n",
    "rnn.add(Dense(2, activation='softmax'))"
   ]
  },
  {
   "cell_type": "code",
   "execution_count": 48,
   "metadata": {},
   "outputs": [],
   "source": [
    "rnn.compile(optimizer='rmsprop', loss='categorical_crossentropy', metrics=['acc'])"
   ]
  },
  {
   "cell_type": "code",
   "execution_count": 49,
   "metadata": {},
   "outputs": [
    {
     "name": "stdout",
     "output_type": "stream",
     "text": [
      "WARNING:tensorflow:From /Applications/anaconda3/envs/learn-env/lib/python3.7/site-packages/tensorflow/python/ops/math_ops.py:3066: to_int32 (from tensorflow.python.ops.math_ops) is deprecated and will be removed in a future version.\n",
      "Instructions for updating:\n",
      "Use tf.cast instead.\n",
      "WARNING:tensorflow:From /Applications/anaconda3/envs/learn-env/lib/python3.7/site-packages/tensorflow/python/ops/math_grad.py:102: div (from tensorflow.python.ops.math_ops) is deprecated and will be removed in a future version.\n",
      "Instructions for updating:\n",
      "Deprecated in favor of operator or tf.math.divide.\n",
      "Train on 415206 samples, validate on 138403 samples\n",
      "Epoch 1/10\n",
      "415206/415206 [==============================] - 118s 284us/step - loss: 0.5805 - acc: 0.6997 - val_loss: 0.5755 - val_acc: 0.7027\n",
      "Epoch 2/10\n",
      "415206/415206 [==============================] - 126s 304us/step - loss: 0.5716 - acc: 0.7055 - val_loss: 0.5757 - val_acc: 0.7057\n",
      "Epoch 3/10\n",
      "415206/415206 [==============================] - 130s 312us/step - loss: 0.5697 - acc: 0.7073 - val_loss: 0.5762 - val_acc: 0.7064\n",
      "Epoch 4/10\n",
      "415206/415206 [==============================] - 135s 325us/step - loss: 0.5692 - acc: 0.7079 - val_loss: 0.5724 - val_acc: 0.7068\n",
      "Epoch 5/10\n",
      "415206/415206 [==============================] - 127s 305us/step - loss: 0.5690 - acc: 0.7084 - val_loss: 0.5727 - val_acc: 0.7069\n",
      "Epoch 6/10\n",
      "415206/415206 [==============================] - 127s 307us/step - loss: 0.5688 - acc: 0.7083 - val_loss: 0.5720 - val_acc: 0.7055\n",
      "Epoch 7/10\n",
      "415206/415206 [==============================] - 128s 309us/step - loss: 0.5680 - acc: 0.7085 - val_loss: 0.5735 - val_acc: 0.7052\n",
      "Epoch 8/10\n",
      "415206/415206 [==============================] - 128s 309us/step - loss: 0.5679 - acc: 0.7087 - val_loss: 0.5752 - val_acc: 0.7058\n",
      "Epoch 9/10\n",
      "415206/415206 [==============================] - 128s 308us/step - loss: 0.5675 - acc: 0.7096 - val_loss: 0.5715 - val_acc: 0.7071\n",
      "Epoch 10/10\n",
      "415206/415206 [==============================] - 140s 337us/step - loss: 0.5672 - acc: 0.7092 - val_loss: 0.5728 - val_acc: 0.7067\n"
     ]
    }
   ],
   "source": [
    "logg= rnn.fit(X_train_r, y_train_r,\n",
    "          validation_data = (X_test_r, y_test_r), epochs=10)"
   ]
  },
  {
   "cell_type": "code",
   "execution_count": 55,
   "metadata": {},
   "outputs": [],
   "source": [
    "test_data1 = pd.read_csv('../raw_data/2019_test_pitches.csv')\n"
   ]
  },
  {
   "cell_type": "code",
   "execution_count": 56,
   "metadata": {},
   "outputs": [],
   "source": [
    "test_data = test_data1.drop(['Unnamed: 0'], axis=1)"
   ]
  },
  {
   "cell_type": "code",
   "execution_count": 57,
   "metadata": {},
   "outputs": [],
   "source": [
    "test_predictors = test_data.drop(['pitch_type'], axis=1).copy()"
   ]
  },
  {
   "cell_type": "code",
   "execution_count": 58,
   "metadata": {},
   "outputs": [
    {
     "data": {
      "text/html": [
       "<div>\n",
       "<style scoped>\n",
       "    .dataframe tbody tr th:only-of-type {\n",
       "        vertical-align: middle;\n",
       "    }\n",
       "\n",
       "    .dataframe tbody tr th {\n",
       "        vertical-align: top;\n",
       "    }\n",
       "\n",
       "    .dataframe thead th {\n",
       "        text-align: right;\n",
       "    }\n",
       "</style>\n",
       "<table border=\"1\" class=\"dataframe\">\n",
       "  <thead>\n",
       "    <tr style=\"text-align: right;\">\n",
       "      <th></th>\n",
       "      <th>pitcher</th>\n",
       "      <th>WAR_x</th>\n",
       "      <th>WHIP</th>\n",
       "      <th>ERA</th>\n",
       "      <th>SO</th>\n",
       "      <th>hitter</th>\n",
       "      <th>SLG</th>\n",
       "      <th>OPS</th>\n",
       "      <th>WAR_y</th>\n",
       "      <th>about.atBatIndex</th>\n",
       "      <th>about.halfInning</th>\n",
       "      <th>about.inning</th>\n",
       "      <th>details.call.description</th>\n",
       "      <th>details.description</th>\n",
       "      <th>matchup.batSide.code</th>\n",
       "      <th>matchup.pitchHand.code</th>\n",
       "      <th>matchup.pitcher.id</th>\n",
       "      <th>matchup.splits.menOnBase</th>\n",
       "      <th>pitchData.nastyFactor</th>\n",
       "      <th>pitchData.zone</th>\n",
       "      <th>pitchNumber</th>\n",
       "      <th>prior_pitch_type</th>\n",
       "      <th>count</th>\n",
       "    </tr>\n",
       "  </thead>\n",
       "  <tbody>\n",
       "    <tr>\n",
       "      <th>147932</th>\n",
       "      <td>John Means</td>\n",
       "      <td>-0.2</td>\n",
       "      <td>1.8</td>\n",
       "      <td>13.5</td>\n",
       "      <td>4</td>\n",
       "      <td>Jeff Mathis</td>\n",
       "      <td>0.272</td>\n",
       "      <td>0.544</td>\n",
       "      <td>0.2</td>\n",
       "      <td>40</td>\n",
       "      <td>bottom</td>\n",
       "      <td>5</td>\n",
       "      <td>Strike - Swinging</td>\n",
       "      <td>Called Strike</td>\n",
       "      <td>R</td>\n",
       "      <td>L</td>\n",
       "      <td>607644</td>\n",
       "      <td>Men_On</td>\n",
       "      <td>35.326612</td>\n",
       "      <td>6.0</td>\n",
       "      <td>3.0</td>\n",
       "      <td>0.0</td>\n",
       "      <td>2.0-1.0</td>\n",
       "    </tr>\n",
       "  </tbody>\n",
       "</table>\n",
       "</div>"
      ],
      "text/plain": [
       "           pitcher  WAR_x  WHIP   ERA  SO       hitter    SLG    OPS  WAR_y  \\\n",
       "147932  John Means   -0.2   1.8  13.5   4  Jeff Mathis  0.272  0.544    0.2   \n",
       "\n",
       "        about.atBatIndex about.halfInning  about.inning  \\\n",
       "147932                40           bottom             5   \n",
       "\n",
       "       details.call.description details.description matchup.batSide.code  \\\n",
       "147932        Strike - Swinging       Called Strike                    R   \n",
       "\n",
       "       matchup.pitchHand.code  matchup.pitcher.id matchup.splits.menOnBase  \\\n",
       "147932                      L              607644                   Men_On   \n",
       "\n",
       "        pitchData.nastyFactor  pitchData.zone  pitchNumber  prior_pitch_type  \\\n",
       "147932              35.326612             6.0          3.0               0.0   \n",
       "\n",
       "          count  \n",
       "147932  2.0-1.0  "
      ]
     },
     "execution_count": 58,
     "metadata": {},
     "output_type": "execute_result"
    }
   ],
   "source": [
    "testing = test_predictors[-442:-441]\n",
    "testing"
   ]
  },
  {
   "cell_type": "code",
   "execution_count": 60,
   "metadata": {},
   "outputs": [],
   "source": [
    "testy = np.reshape(np.asarray(testing), (testing.shape[0], 1,testing.shape[1]))"
   ]
  },
  {
   "cell_type": "code",
   "execution_count": 62,
   "metadata": {},
   "outputs": [
    {
     "ename": "ValueError",
     "evalue": "Error when checking input: expected lstm_10_input to have shape (1, 94) but got array with shape (1, 23)",
     "output_type": "error",
     "traceback": [
      "\u001b[0;31m---------------------------------------------------------------------------\u001b[0m",
      "\u001b[0;31mValueError\u001b[0m                                Traceback (most recent call last)",
      "\u001b[0;32m<ipython-input-62-511c0b421342>\u001b[0m in \u001b[0;36m<module>\u001b[0;34m()\u001b[0m\n\u001b[0;32m----> 1\u001b[0;31m \u001b[0mlogg\u001b[0m\u001b[0;34m.\u001b[0m\u001b[0mmodel\u001b[0m\u001b[0;34m.\u001b[0m\u001b[0mpredict\u001b[0m\u001b[0;34m(\u001b[0m\u001b[0mtesty\u001b[0m\u001b[0;34m)\u001b[0m\u001b[0;34m\u001b[0m\u001b[0m\n\u001b[0m",
      "\u001b[0;32m/Applications/anaconda3/envs/learn-env/lib/python3.7/site-packages/keras/engine/training.py\u001b[0m in \u001b[0;36mpredict\u001b[0;34m(self, x, batch_size, verbose, steps)\u001b[0m\n\u001b[1;32m   1147\u001b[0m                              'argument.')\n\u001b[1;32m   1148\u001b[0m         \u001b[0;31m# Validate user data.\u001b[0m\u001b[0;34m\u001b[0m\u001b[0;34m\u001b[0m\u001b[0m\n\u001b[0;32m-> 1149\u001b[0;31m         \u001b[0mx\u001b[0m\u001b[0;34m,\u001b[0m \u001b[0m_\u001b[0m\u001b[0;34m,\u001b[0m \u001b[0m_\u001b[0m \u001b[0;34m=\u001b[0m \u001b[0mself\u001b[0m\u001b[0;34m.\u001b[0m\u001b[0m_standardize_user_data\u001b[0m\u001b[0;34m(\u001b[0m\u001b[0mx\u001b[0m\u001b[0;34m)\u001b[0m\u001b[0;34m\u001b[0m\u001b[0m\n\u001b[0m\u001b[1;32m   1150\u001b[0m         \u001b[0;32mif\u001b[0m \u001b[0mself\u001b[0m\u001b[0;34m.\u001b[0m\u001b[0mstateful\u001b[0m\u001b[0;34m:\u001b[0m\u001b[0;34m\u001b[0m\u001b[0m\n\u001b[1;32m   1151\u001b[0m             \u001b[0;32mif\u001b[0m \u001b[0mx\u001b[0m\u001b[0;34m[\u001b[0m\u001b[0;36m0\u001b[0m\u001b[0;34m]\u001b[0m\u001b[0;34m.\u001b[0m\u001b[0mshape\u001b[0m\u001b[0;34m[\u001b[0m\u001b[0;36m0\u001b[0m\u001b[0;34m]\u001b[0m \u001b[0;34m>\u001b[0m \u001b[0mbatch_size\u001b[0m \u001b[0;32mand\u001b[0m \u001b[0mx\u001b[0m\u001b[0;34m[\u001b[0m\u001b[0;36m0\u001b[0m\u001b[0;34m]\u001b[0m\u001b[0;34m.\u001b[0m\u001b[0mshape\u001b[0m\u001b[0;34m[\u001b[0m\u001b[0;36m0\u001b[0m\u001b[0;34m]\u001b[0m \u001b[0;34m%\u001b[0m \u001b[0mbatch_size\u001b[0m \u001b[0;34m!=\u001b[0m \u001b[0;36m0\u001b[0m\u001b[0;34m:\u001b[0m\u001b[0;34m\u001b[0m\u001b[0m\n",
      "\u001b[0;32m/Applications/anaconda3/envs/learn-env/lib/python3.7/site-packages/keras/engine/training.py\u001b[0m in \u001b[0;36m_standardize_user_data\u001b[0;34m(self, x, y, sample_weight, class_weight, check_array_lengths, batch_size)\u001b[0m\n\u001b[1;32m    749\u001b[0m             \u001b[0mfeed_input_shapes\u001b[0m\u001b[0;34m,\u001b[0m\u001b[0;34m\u001b[0m\u001b[0m\n\u001b[1;32m    750\u001b[0m             \u001b[0mcheck_batch_axis\u001b[0m\u001b[0;34m=\u001b[0m\u001b[0;32mFalse\u001b[0m\u001b[0;34m,\u001b[0m  \u001b[0;31m# Don't enforce the batch size.\u001b[0m\u001b[0;34m\u001b[0m\u001b[0m\n\u001b[0;32m--> 751\u001b[0;31m             exception_prefix='input')\n\u001b[0m\u001b[1;32m    752\u001b[0m \u001b[0;34m\u001b[0m\u001b[0m\n\u001b[1;32m    753\u001b[0m         \u001b[0;32mif\u001b[0m \u001b[0my\u001b[0m \u001b[0;32mis\u001b[0m \u001b[0;32mnot\u001b[0m \u001b[0;32mNone\u001b[0m\u001b[0;34m:\u001b[0m\u001b[0;34m\u001b[0m\u001b[0m\n",
      "\u001b[0;32m/Applications/anaconda3/envs/learn-env/lib/python3.7/site-packages/keras/engine/training_utils.py\u001b[0m in \u001b[0;36mstandardize_input_data\u001b[0;34m(data, names, shapes, check_batch_axis, exception_prefix)\u001b[0m\n\u001b[1;32m    136\u001b[0m                             \u001b[0;34m': expected '\u001b[0m \u001b[0;34m+\u001b[0m \u001b[0mnames\u001b[0m\u001b[0;34m[\u001b[0m\u001b[0mi\u001b[0m\u001b[0;34m]\u001b[0m \u001b[0;34m+\u001b[0m \u001b[0;34m' to have shape '\u001b[0m \u001b[0;34m+\u001b[0m\u001b[0;34m\u001b[0m\u001b[0m\n\u001b[1;32m    137\u001b[0m                             \u001b[0mstr\u001b[0m\u001b[0;34m(\u001b[0m\u001b[0mshape\u001b[0m\u001b[0;34m)\u001b[0m \u001b[0;34m+\u001b[0m \u001b[0;34m' but got array with shape '\u001b[0m \u001b[0;34m+\u001b[0m\u001b[0;34m\u001b[0m\u001b[0m\n\u001b[0;32m--> 138\u001b[0;31m                             str(data_shape))\n\u001b[0m\u001b[1;32m    139\u001b[0m     \u001b[0;32mreturn\u001b[0m \u001b[0mdata\u001b[0m\u001b[0;34m\u001b[0m\u001b[0m\n\u001b[1;32m    140\u001b[0m \u001b[0;34m\u001b[0m\u001b[0m\n",
      "\u001b[0;31mValueError\u001b[0m: Error when checking input: expected lstm_10_input to have shape (1, 94) but got array with shape (1, 23)"
     ]
    }
   ],
   "source": [
    "logg.model.predict"
   ]
  },
  {
   "cell_type": "code",
   "execution_count": null,
   "metadata": {},
   "outputs": [],
   "source": []
  },
  {
   "cell_type": "code",
   "execution_count": null,
   "metadata": {},
   "outputs": [],
   "source": []
  },
  {
   "cell_type": "code",
   "execution_count": null,
   "metadata": {},
   "outputs": [],
   "source": []
  }
 ],
 "metadata": {
  "kernelspec": {
   "display_name": "learn-env",
   "language": "python",
   "name": "learn-env"
  },
  "language_info": {
   "codemirror_mode": {
    "name": "ipython",
    "version": 3
   },
   "file_extension": ".py",
   "mimetype": "text/x-python",
   "name": "python",
   "nbconvert_exporter": "python",
   "pygments_lexer": "ipython3",
   "version": "3.7.4"
  }
 },
 "nbformat": 4,
 "nbformat_minor": 2
}
