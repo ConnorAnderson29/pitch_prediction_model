{
 "cells": [
  {
   "cell_type": "markdown",
   "metadata": {},
   "source": [
    "# Model Creation: First Models using data created in data frame creation\n"
   ]
  },
  {
   "cell_type": "markdown",
   "metadata": {},
   "source": [
    "#### Importing the necessary libraries"
   ]
  },
  {
   "cell_type": "code",
   "execution_count": 1,
   "metadata": {},
   "outputs": [
    {
     "name": "stderr",
     "output_type": "stream",
     "text": [
      "Using TensorFlow backend.\n"
     ]
    }
   ],
   "source": [
    "import pitch_functions \n",
    "import library as lib\n",
    "import pandas as pd\n",
    "import os"
   ]
  },
  {
   "cell_type": "code",
   "execution_count": 2,
   "metadata": {},
   "outputs": [],
   "source": [
    "os.environ['KMP_DUPLICATE_LIB_OK']='True'"
   ]
  },
  {
   "cell_type": "code",
   "execution_count": 3,
   "metadata": {},
   "outputs": [],
   "source": [
    "each_pitch = pd.read_csv('raw_data/cleaned_pitches.csv')"
   ]
  },
  {
   "cell_type": "markdown",
   "metadata": {},
   "source": [
    "## Pipeline Preparation"
   ]
  },
  {
   "cell_type": "code",
   "execution_count": 4,
   "metadata": {},
   "outputs": [],
   "source": [
    "pitch_clean = each_pitch.dropna().copy()"
   ]
  },
  {
   "cell_type": "code",
   "execution_count": 5,
   "metadata": {},
   "outputs": [],
   "source": [
    "pitch_clean = pitch_clean[:100000]"
   ]
  },
  {
   "cell_type": "code",
   "execution_count": 6,
   "metadata": {},
   "outputs": [
    {
     "data": {
      "text/html": [
       "<div>\n",
       "<style scoped>\n",
       "    .dataframe tbody tr th:only-of-type {\n",
       "        vertical-align: middle;\n",
       "    }\n",
       "\n",
       "    .dataframe tbody tr th {\n",
       "        vertical-align: top;\n",
       "    }\n",
       "\n",
       "    .dataframe thead th {\n",
       "        text-align: right;\n",
       "    }\n",
       "</style>\n",
       "<table border=\"1\" class=\"dataframe\">\n",
       "  <thead>\n",
       "    <tr style=\"text-align: right;\">\n",
       "      <th></th>\n",
       "      <th>pitcher</th>\n",
       "      <th>WAR_x</th>\n",
       "      <th>WHIP</th>\n",
       "      <th>ERA</th>\n",
       "      <th>SO</th>\n",
       "      <th>hitter</th>\n",
       "      <th>SLG</th>\n",
       "      <th>OPS</th>\n",
       "      <th>WAR_y</th>\n",
       "      <th>about.atBatIndex</th>\n",
       "      <th>...</th>\n",
       "      <th>matchup.batSide.code</th>\n",
       "      <th>matchup.pitchHand.code</th>\n",
       "      <th>matchup.pitcher.id</th>\n",
       "      <th>matchup.splits.menOnBase</th>\n",
       "      <th>pitchData.nastyFactor</th>\n",
       "      <th>pitchData.zone</th>\n",
       "      <th>pitchNumber</th>\n",
       "      <th>pitch_type</th>\n",
       "      <th>prior_pitch_type</th>\n",
       "      <th>count</th>\n",
       "    </tr>\n",
       "  </thead>\n",
       "  <tbody>\n",
       "    <tr>\n",
       "      <th>0</th>\n",
       "      <td>Kendrys Morales</td>\n",
       "      <td>0.0</td>\n",
       "      <td>1.0</td>\n",
       "      <td>0.0</td>\n",
       "      <td>0</td>\n",
       "      <td>Matt Chapman</td>\n",
       "      <td>0.508</td>\n",
       "      <td>0.864</td>\n",
       "      <td>8.2</td>\n",
       "      <td>70</td>\n",
       "      <td>...</td>\n",
       "      <td>R</td>\n",
       "      <td>R</td>\n",
       "      <td>434778</td>\n",
       "      <td>Men_On</td>\n",
       "      <td>32.94</td>\n",
       "      <td>1.0</td>\n",
       "      <td>2.0</td>\n",
       "      <td>Changeup</td>\n",
       "      <td>Changeup</td>\n",
       "      <td>1.0-1.0</td>\n",
       "    </tr>\n",
       "    <tr>\n",
       "      <th>1</th>\n",
       "      <td>Kendrys Morales</td>\n",
       "      <td>0.0</td>\n",
       "      <td>1.0</td>\n",
       "      <td>0.0</td>\n",
       "      <td>0</td>\n",
       "      <td>Matt Chapman</td>\n",
       "      <td>0.508</td>\n",
       "      <td>0.864</td>\n",
       "      <td>8.2</td>\n",
       "      <td>70</td>\n",
       "      <td>...</td>\n",
       "      <td>R</td>\n",
       "      <td>R</td>\n",
       "      <td>434778</td>\n",
       "      <td>Men_On</td>\n",
       "      <td>31.44</td>\n",
       "      <td>4.0</td>\n",
       "      <td>3.0</td>\n",
       "      <td>Breaking_Ball</td>\n",
       "      <td>Changeup</td>\n",
       "      <td>1.0-2.0</td>\n",
       "    </tr>\n",
       "    <tr>\n",
       "      <th>2</th>\n",
       "      <td>Kendrys Morales</td>\n",
       "      <td>0.0</td>\n",
       "      <td>1.0</td>\n",
       "      <td>0.0</td>\n",
       "      <td>0</td>\n",
       "      <td>Matt Chapman</td>\n",
       "      <td>0.508</td>\n",
       "      <td>0.864</td>\n",
       "      <td>8.2</td>\n",
       "      <td>70</td>\n",
       "      <td>...</td>\n",
       "      <td>R</td>\n",
       "      <td>R</td>\n",
       "      <td>434778</td>\n",
       "      <td>Men_On</td>\n",
       "      <td>2.66</td>\n",
       "      <td>14.0</td>\n",
       "      <td>4.0</td>\n",
       "      <td>Breaking_Ball</td>\n",
       "      <td>Breaking_Ball</td>\n",
       "      <td>2.0-2.0</td>\n",
       "    </tr>\n",
       "    <tr>\n",
       "      <th>3</th>\n",
       "      <td>Kendrys Morales</td>\n",
       "      <td>0.0</td>\n",
       "      <td>1.0</td>\n",
       "      <td>0.0</td>\n",
       "      <td>0</td>\n",
       "      <td>Matt Chapman</td>\n",
       "      <td>0.508</td>\n",
       "      <td>0.864</td>\n",
       "      <td>8.2</td>\n",
       "      <td>70</td>\n",
       "      <td>...</td>\n",
       "      <td>R</td>\n",
       "      <td>R</td>\n",
       "      <td>434778</td>\n",
       "      <td>Men_On</td>\n",
       "      <td>3.82</td>\n",
       "      <td>14.0</td>\n",
       "      <td>5.0</td>\n",
       "      <td>Breaking_Ball</td>\n",
       "      <td>Breaking_Ball</td>\n",
       "      <td>3.0-2.0</td>\n",
       "    </tr>\n",
       "    <tr>\n",
       "      <th>4</th>\n",
       "      <td>Kendrys Morales</td>\n",
       "      <td>0.0</td>\n",
       "      <td>1.0</td>\n",
       "      <td>0.0</td>\n",
       "      <td>0</td>\n",
       "      <td>Matt Chapman</td>\n",
       "      <td>0.508</td>\n",
       "      <td>0.864</td>\n",
       "      <td>8.2</td>\n",
       "      <td>70</td>\n",
       "      <td>...</td>\n",
       "      <td>R</td>\n",
       "      <td>R</td>\n",
       "      <td>434778</td>\n",
       "      <td>Men_On</td>\n",
       "      <td>35.64</td>\n",
       "      <td>11.0</td>\n",
       "      <td>6.0</td>\n",
       "      <td>Breaking_Ball</td>\n",
       "      <td>Breaking_Ball</td>\n",
       "      <td>4.0-2.0</td>\n",
       "    </tr>\n",
       "  </tbody>\n",
       "</table>\n",
       "<p>5 rows × 24 columns</p>\n",
       "</div>"
      ],
      "text/plain": [
       "           pitcher  WAR_x  WHIP  ERA  SO        hitter    SLG    OPS  WAR_y  \\\n",
       "0  Kendrys Morales    0.0   1.0  0.0   0  Matt Chapman  0.508  0.864    8.2   \n",
       "1  Kendrys Morales    0.0   1.0  0.0   0  Matt Chapman  0.508  0.864    8.2   \n",
       "2  Kendrys Morales    0.0   1.0  0.0   0  Matt Chapman  0.508  0.864    8.2   \n",
       "3  Kendrys Morales    0.0   1.0  0.0   0  Matt Chapman  0.508  0.864    8.2   \n",
       "4  Kendrys Morales    0.0   1.0  0.0   0  Matt Chapman  0.508  0.864    8.2   \n",
       "\n",
       "   about.atBatIndex   ...    matchup.batSide.code  matchup.pitchHand.code  \\\n",
       "0                70   ...                       R                       R   \n",
       "1                70   ...                       R                       R   \n",
       "2                70   ...                       R                       R   \n",
       "3                70   ...                       R                       R   \n",
       "4                70   ...                       R                       R   \n",
       "\n",
       "  matchup.pitcher.id matchup.splits.menOnBase pitchData.nastyFactor  \\\n",
       "0             434778                   Men_On                 32.94   \n",
       "1             434778                   Men_On                 31.44   \n",
       "2             434778                   Men_On                  2.66   \n",
       "3             434778                   Men_On                  3.82   \n",
       "4             434778                   Men_On                 35.64   \n",
       "\n",
       "  pitchData.zone  pitchNumber     pitch_type  prior_pitch_type    count  \n",
       "0            1.0          2.0       Changeup          Changeup  1.0-1.0  \n",
       "1            4.0          3.0  Breaking_Ball          Changeup  1.0-2.0  \n",
       "2           14.0          4.0  Breaking_Ball     Breaking_Ball  2.0-2.0  \n",
       "3           14.0          5.0  Breaking_Ball     Breaking_Ball  3.0-2.0  \n",
       "4           11.0          6.0  Breaking_Ball     Breaking_Ball  4.0-2.0  \n",
       "\n",
       "[5 rows x 24 columns]"
      ]
     },
     "execution_count": 6,
     "metadata": {},
     "output_type": "execute_result"
    }
   ],
   "source": [
    "pitch_clean.head()"
   ]
  },
  {
   "cell_type": "code",
   "execution_count": 71,
   "metadata": {},
   "outputs": [],
   "source": [
    "target = pitch_clean['pitch_type']"
   ]
  },
  {
   "cell_type": "code",
   "execution_count": 72,
   "metadata": {},
   "outputs": [],
   "source": [
    "predictors = pitch_clean.drop(['pitch_type', 'hitter', 'pitcher'], axis=1)"
   ]
  },
  {
   "cell_type": "code",
   "execution_count": 73,
   "metadata": {},
   "outputs": [],
   "source": [
    "num_features = list(predictors.select_dtypes(exclude='object'))"
   ]
  },
  {
   "cell_type": "code",
   "execution_count": 74,
   "metadata": {},
   "outputs": [
    {
     "data": {
      "text/plain": [
       "['WAR_x',\n",
       " 'WHIP',\n",
       " 'ERA',\n",
       " 'SO',\n",
       " 'SLG',\n",
       " 'OPS',\n",
       " 'WAR_y',\n",
       " 'about.atBatIndex',\n",
       " 'about.inning',\n",
       " 'matchup.pitcher.id',\n",
       " 'pitchData.nastyFactor',\n",
       " 'pitchData.zone',\n",
       " 'pitchNumber']"
      ]
     },
     "execution_count": 74,
     "metadata": {},
     "output_type": "execute_result"
    }
   ],
   "source": [
    "num_features"
   ]
  },
  {
   "cell_type": "code",
   "execution_count": 75,
   "metadata": {},
   "outputs": [],
   "source": [
    "num_features = [i for i in num_features if i not in {'about.inning', 'pitchData.zone'}]"
   ]
  },
  {
   "cell_type": "code",
   "execution_count": 76,
   "metadata": {},
   "outputs": [
    {
     "data": {
      "text/plain": [
       "['WAR_x',\n",
       " 'WHIP',\n",
       " 'ERA',\n",
       " 'SO',\n",
       " 'SLG',\n",
       " 'OPS',\n",
       " 'WAR_y',\n",
       " 'about.atBatIndex',\n",
       " 'matchup.pitcher.id',\n",
       " 'pitchData.nastyFactor',\n",
       " 'pitchNumber']"
      ]
     },
     "execution_count": 76,
     "metadata": {},
     "output_type": "execute_result"
    }
   ],
   "source": [
    "num_features"
   ]
  },
  {
   "cell_type": "code",
   "execution_count": 77,
   "metadata": {},
   "outputs": [],
   "source": [
    "numeric_transformer = lib.Pipeline(steps=[('keeper', None)])"
   ]
  },
  {
   "cell_type": "code",
   "execution_count": 78,
   "metadata": {},
   "outputs": [],
   "source": [
    "cat_features = list(predictors.select_dtypes(include='object'))\n",
    "cat_features.extend(['about.inning', 'pitchData.zone', 'count'])"
   ]
  },
  {
   "cell_type": "code",
   "execution_count": 79,
   "metadata": {},
   "outputs": [],
   "source": [
    "cat_transfomer = lib.Pipeline(steps=[('onehot', lib.OneHotEncoder(handle_unknown='ignore', categories='auto'))])"
   ]
  },
  {
   "cell_type": "code",
   "execution_count": 80,
   "metadata": {},
   "outputs": [],
   "source": [
    "preprocessor = lib.ColumnTransformer(transformers=[('num', numeric_transformer, num_features),\n",
    "                                              ('cat', cat_transfomer, cat_features)])"
   ]
  },
  {
   "cell_type": "code",
   "execution_count": 81,
   "metadata": {},
   "outputs": [],
   "source": [
    "classifiers = [lib.DecisionTreeClassifier(), lib.RandomForestClassifier(n_estimators=100, max_depth=5), \n",
    "               lib.GradientBoostingClassifier(n_estimators=100), lib.xgb.XGBClassifier()]"
   ]
  },
  {
   "cell_type": "markdown",
   "metadata": {},
   "source": [
    "## Model Creation"
   ]
  },
  {
   "cell_type": "code",
   "execution_count": 82,
   "metadata": {},
   "outputs": [],
   "source": [
    "X_train, X_test, y_train, y_test = lib.train_test_split(predictors, target, random_state=10)"
   ]
  },
  {
   "cell_type": "code",
   "execution_count": 83,
   "metadata": {},
   "outputs": [],
   "source": [
    "def run_classifier_models(classifiers, X_train, X_test, y_train, y_test):\n",
    "    for classifier in classifiers:\n",
    "        #Intialize classifier pipeline\n",
    "        clf1 = lib.Pipeline(steps=[('preprocessor', preprocessor),\n",
    "                              ('classifier', classifier)])\n",
    "        clf1.fit(X_train, y_train)\n",
    "\n",
    "        # Print accuracy metrics for each model using pitch_functions.py\n",
    "        print(classifier)\n",
    "        print('\\n')\n",
    "        print('Training Metrics')\n",
    "        pitch_functions.calc_acc_and_f1_score(y_train, clf1.predict(X_train))\n",
    "        print('\\n')\n",
    "        print('Testing Metrics')\n",
    "        pitch_functions.calc_acc_and_f1_score(y_test, clf1.predict(X_test))\n",
    "        print('\\n')"
   ]
  },
  {
   "cell_type": "markdown",
   "metadata": {},
   "source": [
    "- Need to get back to the drawing board\n",
    "- lets try dividing this up a little bit\n",
    "- national league teams\n",
    "- american league teams\n",
    "- start with the houston astros "
   ]
  },
  {
   "cell_type": "code",
   "execution_count": 84,
   "metadata": {},
   "outputs": [
    {
     "name": "stdout",
     "output_type": "stream",
     "text": [
      "DecisionTreeClassifier(class_weight=None, criterion='gini', max_depth=None,\n",
      "            max_features=None, max_leaf_nodes=None,\n",
      "            min_impurity_decrease=0.0, min_impurity_split=None,\n",
      "            min_samples_leaf=1, min_samples_split=2,\n",
      "            min_weight_fraction_leaf=0.0, presort=False, random_state=None,\n",
      "            splitter='best')\n",
      "\n",
      "\n",
      "Training Metrics\n",
      "Accuracy:1.000\n",
      "F1-Score: 1.000\n",
      "AUC: 1.000\n",
      "\n",
      "\n",
      "Testing Metrics\n",
      "Accuracy:0.669\n",
      "F1-Score: 0.670\n",
      "AUC: 0.678\n",
      "\n",
      "\n",
      "RandomForestClassifier(bootstrap=True, class_weight=None, criterion='gini',\n",
      "            max_depth=5, max_features='auto', max_leaf_nodes=None,\n",
      "            min_impurity_decrease=0.0, min_impurity_split=None,\n",
      "            min_samples_leaf=1, min_samples_split=2,\n",
      "            min_weight_fraction_leaf=0.0, n_estimators=100, n_jobs=None,\n",
      "            oob_score=False, random_state=None, verbose=0,\n",
      "            warm_start=False)\n",
      "\n",
      "\n",
      "Training Metrics\n"
     ]
    },
    {
     "name": "stderr",
     "output_type": "stream",
     "text": [
      "/Applications/anaconda3/envs/learn-env/lib/python3.7/site-packages/sklearn/metrics/classification.py:1143: UndefinedMetricWarning: F-score is ill-defined and being set to 0.0 in labels with no predicted samples.\n",
      "  'precision', 'predicted', average, warn_for)\n"
     ]
    },
    {
     "name": "stdout",
     "output_type": "stream",
     "text": [
      "Accuracy:0.656\n",
      "F1-Score: 0.564\n",
      "AUC: 0.551\n",
      "\n",
      "\n",
      "Testing Metrics\n"
     ]
    },
    {
     "name": "stderr",
     "output_type": "stream",
     "text": [
      "/Applications/anaconda3/envs/learn-env/lib/python3.7/site-packages/sklearn/metrics/classification.py:1143: UndefinedMetricWarning: F-score is ill-defined and being set to 0.0 in labels with no predicted samples.\n",
      "  'precision', 'predicted', average, warn_for)\n"
     ]
    },
    {
     "name": "stdout",
     "output_type": "stream",
     "text": [
      "Accuracy:0.654\n",
      "F1-Score: 0.562\n",
      "AUC: 0.552\n",
      "\n",
      "\n",
      "GradientBoostingClassifier(criterion='friedman_mse', init=None,\n",
      "              learning_rate=0.1, loss='deviance', max_depth=3,\n",
      "              max_features=None, max_leaf_nodes=None,\n",
      "              min_impurity_decrease=0.0, min_impurity_split=None,\n",
      "              min_samples_leaf=1, min_samples_split=2,\n",
      "              min_weight_fraction_leaf=0.0, n_estimators=100,\n",
      "              n_iter_no_change=None, presort='auto', random_state=None,\n",
      "              subsample=1.0, tol=0.0001, validation_fraction=0.1,\n",
      "              verbose=0, warm_start=False)\n",
      "\n",
      "\n",
      "Training Metrics\n",
      "Accuracy:0.736\n",
      "F1-Score: 0.711\n",
      "AUC: 0.674\n",
      "\n",
      "\n",
      "Testing Metrics\n",
      "Accuracy:0.732\n",
      "F1-Score: 0.707\n",
      "AUC: 0.671\n",
      "\n",
      "\n",
      "XGBClassifier(base_score=0.5, booster='gbtree', colsample_bylevel=1,\n",
      "       colsample_bytree=1, gamma=0, learning_rate=0.1, max_delta_step=0,\n",
      "       max_depth=3, min_child_weight=1, missing=None, n_estimators=100,\n",
      "       n_jobs=1, nthread=None, objective='multi:softprob', random_state=0,\n",
      "       reg_alpha=0, reg_lambda=1, scale_pos_weight=1, seed=None,\n",
      "       silent=True, subsample=1)\n",
      "\n",
      "\n",
      "Training Metrics\n",
      "Accuracy:0.719\n",
      "F1-Score: 0.684\n",
      "AUC: 0.644\n",
      "\n",
      "\n",
      "Testing Metrics\n",
      "Accuracy:0.719\n",
      "F1-Score: 0.682\n",
      "AUC: 0.644\n",
      "\n",
      "\n"
     ]
    }
   ],
   "source": [
    "run_classifier_models(classifiers, X_train, X_test, y_train, y_test)"
   ]
  },
  {
   "cell_type": "code",
   "execution_count": null,
   "metadata": {},
   "outputs": [],
   "source": []
  }
 ],
 "metadata": {
  "kernelspec": {
   "display_name": "learn-env",
   "language": "python",
   "name": "learn-env"
  },
  "language_info": {
   "codemirror_mode": {
    "name": "ipython",
    "version": 3
   },
   "file_extension": ".py",
   "mimetype": "text/x-python",
   "name": "python",
   "nbconvert_exporter": "python",
   "pygments_lexer": "ipython3",
   "version": "3.7.0"
  }
 },
 "nbformat": 4,
 "nbformat_minor": 2
}
