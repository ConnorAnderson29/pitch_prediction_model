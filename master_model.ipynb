{
 "cells": [
  {
   "cell_type": "markdown",
   "metadata": {},
   "source": [
    "# Model Creation: Round 2\n"
   ]
  },
  {
   "cell_type": "markdown",
   "metadata": {},
   "source": [
    "#### Importing the necessary libraries"
   ]
  },
  {
   "cell_type": "code",
   "execution_count": 11,
   "metadata": {},
   "outputs": [],
   "source": [
    "import next_pitch\n",
    "from next_pitch import library\n",
    "from next_pitch import pitch_functions"
   ]
  },
  {
   "cell_type": "code",
   "execution_count": 12,
   "metadata": {},
   "outputs": [],
   "source": [
    "from next_pitch.pitch_functions import run_classifier_models, roc_auc_score, calc_acc_and_f1_score"
   ]
  },
  {
   "cell_type": "code",
   "execution_count": 13,
   "metadata": {},
   "outputs": [],
   "source": [
    "#DATA WRANGLING\n",
    "import pandas as pd # Dataframes\n",
    "from pandas.io.json import json_normalize # JSON wrangler\n",
    "import statsapi # Python wrapper MLB data API"
   ]
  },
  {
   "cell_type": "code",
   "execution_count": 14,
   "metadata": {},
   "outputs": [],
   "source": [
    "#DATA MANIPULATION AND MODELLING\n",
    "import numpy as np\n",
    "np.random.seed(0)\n",
    "import matplotlib.pyplot as plt\n",
    "from sklearn.preprocessing import StandardScaler, Normalizer\n",
    "from sklearn.model_selection import train_test_split, cross_val_score\n",
    "from sklearn.metrics import accuracy_score, confusion_matrix, classification_report\n",
    "from sklearn.tree import DecisionTreeClassifier\n",
    "from sklearn.ensemble import BaggingClassifier, RandomForestClassifier, GradientBoostingClassifier\n",
    "from sklearn.preprocessing import OneHotEncoder\n",
    "from sklearn_pandas import DataFrameMapper, FunctionTransformer, gen_features, pipeline\n",
    "from sklearn_pandas.pipeline import Pipeline\n",
    "from sklearn.compose import ColumnTransformer\n",
    "import seaborn as sns\n",
    "from sklearn.metrics import f1_score, accuracy_score, roc_auc_score\n",
    "from sklearn.preprocessing import LabelBinarizer\n",
    "import xgboost as xgb\n",
    "import os\n",
    "# import pitch_functions"
   ]
  },
  {
   "cell_type": "code",
   "execution_count": 15,
   "metadata": {},
   "outputs": [],
   "source": [
    "os.environ['KMP_DUPLICATE_LIB_OK']='True'"
   ]
  },
  {
   "cell_type": "markdown",
   "metadata": {},
   "source": [
    "## Load Data"
   ]
  },
  {
   "cell_type": "code",
   "execution_count": 16,
   "metadata": {},
   "outputs": [],
   "source": [
    "each_pitch = pd.read_csv('raw_data/final_pitches.csv')"
   ]
  },
  {
   "cell_type": "code",
   "execution_count": 17,
   "metadata": {},
   "outputs": [],
   "source": [
    "test_pitch = pd.read_csv('raw_data/cleaned_pitches1.csv')"
   ]
  },
  {
   "cell_type": "code",
   "execution_count": 18,
   "metadata": {},
   "outputs": [],
   "source": [
    "test_pitch = test_pitch.fillna(value=0)\n"
   ]
  },
  {
   "cell_type": "code",
   "execution_count": 19,
   "metadata": {},
   "outputs": [
    {
     "name": "stdout",
     "output_type": "stream",
     "text": [
      "<class 'pandas.core.frame.DataFrame'>\n",
      "RangeIndex: 200 entries, 0 to 199\n",
      "Data columns (total 17 columns):\n",
      "about.atBatIndex            200 non-null int64\n",
      "about.halfInning            200 non-null object\n",
      "about.inning                200 non-null int64\n",
      "details.call.description    200 non-null object\n",
      "details.description         200 non-null object\n",
      "matchup.batSide.code        200 non-null object\n",
      "matchup.batter.fullName     200 non-null object\n",
      "matchup.pitchHand.code      200 non-null object\n",
      "matchup.pitcher.fullName    200 non-null object\n",
      "matchup.pitcher.id          200 non-null int64\n",
      "matchup.splits.menOnBase    200 non-null object\n",
      "pitchData.nastyFactor       200 non-null float64\n",
      "pitchData.zone              200 non-null float64\n",
      "pitchNumber                 200 non-null float64\n",
      "pitch_type                  200 non-null object\n",
      "prior_pitch_type            200 non-null object\n",
      "count                       200 non-null object\n",
      "dtypes: float64(3), int64(3), object(11)\n",
      "memory usage: 26.6+ KB\n"
     ]
    }
   ],
   "source": [
    "test_pitch.info()"
   ]
  },
  {
   "cell_type": "markdown",
   "metadata": {},
   "source": [
    "# Model Data"
   ]
  },
  {
   "cell_type": "markdown",
   "metadata": {},
   "source": [
    "Create Binary Labels for Pitch Prediction: Fastball = 1 and Offspeed = 0."
   ]
  },
  {
   "cell_type": "code",
   "execution_count": 20,
   "metadata": {},
   "outputs": [],
   "source": [
    "pitch_dicts = {'Fastball': 1,\n",
    "               '0': 1,\n",
    "              'Breaking_Ball': 0,\n",
    "              'Changeup': 0}"
   ]
  },
  {
   "cell_type": "code",
   "execution_count": 21,
   "metadata": {},
   "outputs": [],
   "source": [
    "pitch_clean = each_pitch.dropna().copy()"
   ]
  },
  {
   "cell_type": "code",
   "execution_count": 22,
   "metadata": {},
   "outputs": [],
   "source": [
    "pitch_clean = pitch_clean[:10000]"
   ]
  },
  {
   "cell_type": "code",
   "execution_count": 23,
   "metadata": {},
   "outputs": [],
   "source": [
    "pitch_clean['pitch_type'] = pitch_clean['pitch_type'].map(pitch_dicts)"
   ]
  },
  {
   "cell_type": "code",
   "execution_count": 24,
   "metadata": {},
   "outputs": [],
   "source": [
    "pitch_clean['prior_pitch_type'] = pitch_clean['prior_pitch_type'].map(pitch_dicts)"
   ]
  },
  {
   "cell_type": "markdown",
   "metadata": {},
   "source": [
    "### Model Targets and Predictors"
   ]
  },
  {
   "cell_type": "code",
   "execution_count": 25,
   "metadata": {},
   "outputs": [],
   "source": [
    "target = pitch_clean['pitch_type']"
   ]
  },
  {
   "cell_type": "code",
   "execution_count": 26,
   "metadata": {},
   "outputs": [],
   "source": [
    "predictors = pitch_clean.drop(['pitch_type', 'hitter', 'pitcher' ], axis=1)"
   ]
  },
  {
   "cell_type": "markdown",
   "metadata": {},
   "source": [
    "### MODEL NUM AND CAT FEATURES"
   ]
  },
  {
   "cell_type": "code",
   "execution_count": 27,
   "metadata": {},
   "outputs": [],
   "source": [
    "num_features = list(predictors.select_dtypes(exclude='object'))"
   ]
  },
  {
   "cell_type": "code",
   "execution_count": 28,
   "metadata": {},
   "outputs": [],
   "source": [
    "num_features = [i for i in num_features if i not in {'about.inning', 'pitchData.zone', 'matchup.pitcher.id'}]"
   ]
  },
  {
   "cell_type": "code",
   "execution_count": 29,
   "metadata": {},
   "outputs": [],
   "source": [
    "cat_features = list(predictors.select_dtypes(include='object'))\n",
    "cat_features.extend(['about.inning', 'pitchData.zone', 'count', 'matchup.pitcher.id'])"
   ]
  },
  {
   "cell_type": "markdown",
   "metadata": {},
   "source": [
    "# LIVE DATA TEST"
   ]
  },
  {
   "cell_type": "code",
   "execution_count": 30,
   "metadata": {},
   "outputs": [],
   "source": [
    "new_pitch = test_pitch.copy()"
   ]
  },
  {
   "cell_type": "code",
   "execution_count": 31,
   "metadata": {},
   "outputs": [],
   "source": [
    "new_pitch['pitch_type'] = new_pitch['pitch_type'].map(pitch_dicts)"
   ]
  },
  {
   "cell_type": "code",
   "execution_count": 32,
   "metadata": {},
   "outputs": [],
   "source": [
    "new_pitch['prior_pitch_type'] = new_pitch['prior_pitch_type'].map(pitch_dicts)"
   ]
  },
  {
   "cell_type": "markdown",
   "metadata": {},
   "source": [
    "### Create target and predictor data frames"
   ]
  },
  {
   "cell_type": "code",
   "execution_count": 33,
   "metadata": {},
   "outputs": [],
   "source": [
    "new_target = new_pitch['pitch_type']"
   ]
  },
  {
   "cell_type": "code",
   "execution_count": 47,
   "metadata": {},
   "outputs": [],
   "source": [
    "new_preds = new_pitch.drop(['matchup.batter.fullName', 'matchup.pitcher.fullName'], axis=1)"
   ]
  },
  {
   "cell_type": "markdown",
   "metadata": {},
   "source": [
    "### Create categorical and numerical lists for the data pipeline. "
   ]
  },
  {
   "cell_type": "code",
   "execution_count": 48,
   "metadata": {},
   "outputs": [],
   "source": [
    "new_n = list(new_preds.select_dtypes(exclude='object'))"
   ]
  },
  {
   "cell_type": "code",
   "execution_count": 49,
   "metadata": {},
   "outputs": [],
   "source": [
    "num_features1 = [i for i in new_n if i not in {'about.inning', 'pitchData.zone', 'matchup.pitcher.id'}]"
   ]
  },
  {
   "cell_type": "code",
   "execution_count": 50,
   "metadata": {},
   "outputs": [],
   "source": [
    "cat_features1 = list(new_preds.select_dtypes(include='object',))\n",
    "cat_features1.extend(['about.inning', 'count', 'matchup.pitcher.id'])"
   ]
  },
  {
   "cell_type": "markdown",
   "metadata": {},
   "source": [
    "### Create steps for data pipeline using cells above"
   ]
  },
  {
   "cell_type": "code",
   "execution_count": 51,
   "metadata": {},
   "outputs": [],
   "source": [
    "numeric_transformer = Pipeline(steps=[('keeper', None)])"
   ]
  },
  {
   "cell_type": "code",
   "execution_count": 52,
   "metadata": {},
   "outputs": [],
   "source": [
    "cat_transfomer = Pipeline(steps=[('onehot', OneHotEncoder(handle_unknown='ignore', categories='auto'))])"
   ]
  },
  {
   "cell_type": "code",
   "execution_count": 53,
   "metadata": {},
   "outputs": [],
   "source": [
    "preprocessor = ColumnTransformer(transformers=[('num', numeric_transformer, num_features),\n",
    "                                              ('cat', cat_transfomer, cat_features)])"
   ]
  },
  {
   "cell_type": "code",
   "execution_count": 54,
   "metadata": {},
   "outputs": [],
   "source": [
    "preprocessor1 = ColumnTransformer(transformers=[('num', numeric_transformer, num_features1),\n",
    "                                              ('cat', cat_transfomer, cat_features1)])"
   ]
  },
  {
   "cell_type": "code",
   "execution_count": 55,
   "metadata": {},
   "outputs": [],
   "source": [
    "classifiers = [GradientBoostingClassifier(n_estimators=200, max_depth=10, learning_rate=.1), \n",
    "               xgb.XGBClassifier(n_estimators=200, max_depth=10, learning_rate=.1)]"
   ]
  },
  {
   "cell_type": "markdown",
   "metadata": {},
   "source": [
    "### New TEST ROW FORMATION"
   ]
  },
  {
   "cell_type": "code",
   "execution_count": 56,
   "metadata": {},
   "outputs": [],
   "source": [
    "new_preds = new_preds"
   ]
  },
  {
   "cell_type": "code",
   "execution_count": 57,
   "metadata": {},
   "outputs": [],
   "source": [
    "last_pred = new_preds[-1:]"
   ]
  },
  {
   "cell_type": "code",
   "execution_count": 58,
   "metadata": {},
   "outputs": [
    {
     "data": {
      "text/html": [
       "<div>\n",
       "<style scoped>\n",
       "    .dataframe tbody tr th:only-of-type {\n",
       "        vertical-align: middle;\n",
       "    }\n",
       "\n",
       "    .dataframe tbody tr th {\n",
       "        vertical-align: top;\n",
       "    }\n",
       "\n",
       "    .dataframe thead th {\n",
       "        text-align: right;\n",
       "    }\n",
       "</style>\n",
       "<table border=\"1\" class=\"dataframe\">\n",
       "  <thead>\n",
       "    <tr style=\"text-align: right;\">\n",
       "      <th></th>\n",
       "      <th>about.atBatIndex</th>\n",
       "      <th>about.halfInning</th>\n",
       "      <th>about.inning</th>\n",
       "      <th>details.call.description</th>\n",
       "      <th>details.description</th>\n",
       "      <th>matchup.batSide.code</th>\n",
       "      <th>matchup.pitchHand.code</th>\n",
       "      <th>matchup.pitcher.id</th>\n",
       "      <th>matchup.splits.menOnBase</th>\n",
       "      <th>pitchData.nastyFactor</th>\n",
       "      <th>pitchData.zone</th>\n",
       "      <th>pitchNumber</th>\n",
       "      <th>pitch_type</th>\n",
       "      <th>prior_pitch_type</th>\n",
       "      <th>count</th>\n",
       "    </tr>\n",
       "  </thead>\n",
       "  <tbody>\n",
       "    <tr>\n",
       "      <th>199</th>\n",
       "      <td>45</td>\n",
       "      <td>bottom</td>\n",
       "      <td>5</td>\n",
       "      <td>Strike - Swinging</td>\n",
       "      <td>Swinging Strike</td>\n",
       "      <td>R</td>\n",
       "      <td>L</td>\n",
       "      <td>596057</td>\n",
       "      <td>Empty</td>\n",
       "      <td>0.0</td>\n",
       "      <td>0.0</td>\n",
       "      <td>4.0</td>\n",
       "      <td>1.0</td>\n",
       "      <td>0.0</td>\n",
       "      <td>1.0-3.0</td>\n",
       "    </tr>\n",
       "  </tbody>\n",
       "</table>\n",
       "</div>"
      ],
      "text/plain": [
       "     about.atBatIndex about.halfInning  about.inning details.call.description  \\\n",
       "199                45           bottom             5        Strike - Swinging   \n",
       "\n",
       "    details.description matchup.batSide.code matchup.pitchHand.code  \\\n",
       "199     Swinging Strike                    R                      L   \n",
       "\n",
       "     matchup.pitcher.id matchup.splits.menOnBase  pitchData.nastyFactor  \\\n",
       "199              596057                    Empty                    0.0   \n",
       "\n",
       "     pitchData.zone  pitchNumber  pitch_type  prior_pitch_type    count  \n",
       "199             0.0          4.0         1.0               0.0  1.0-3.0  "
      ]
     },
     "execution_count": 58,
     "metadata": {},
     "output_type": "execute_result"
    }
   ],
   "source": [
    "last_pred"
   ]
  },
  {
   "cell_type": "code",
   "execution_count": 59,
   "metadata": {},
   "outputs": [],
   "source": [
    "last_pred_pre = preprocessor1.fit(last_pred).transform(last_pred)"
   ]
  },
  {
   "cell_type": "code",
   "execution_count": 60,
   "metadata": {},
   "outputs": [
    {
     "data": {
      "text/html": [
       "<div>\n",
       "<style scoped>\n",
       "    .dataframe tbody tr th:only-of-type {\n",
       "        vertical-align: middle;\n",
       "    }\n",
       "\n",
       "    .dataframe tbody tr th {\n",
       "        vertical-align: top;\n",
       "    }\n",
       "\n",
       "    .dataframe thead th {\n",
       "        text-align: right;\n",
       "    }\n",
       "</style>\n",
       "<table border=\"1\" class=\"dataframe\">\n",
       "  <thead>\n",
       "    <tr style=\"text-align: right;\">\n",
       "      <th></th>\n",
       "      <th>about.atBatIndex</th>\n",
       "      <th>about.halfInning</th>\n",
       "      <th>about.inning</th>\n",
       "      <th>details.call.description</th>\n",
       "      <th>details.description</th>\n",
       "      <th>matchup.batSide.code</th>\n",
       "      <th>matchup.pitchHand.code</th>\n",
       "      <th>matchup.pitcher.id</th>\n",
       "      <th>matchup.splits.menOnBase</th>\n",
       "      <th>pitchData.nastyFactor</th>\n",
       "      <th>pitchData.zone</th>\n",
       "      <th>pitchNumber</th>\n",
       "      <th>pitch_type</th>\n",
       "      <th>prior_pitch_type</th>\n",
       "      <th>count</th>\n",
       "    </tr>\n",
       "  </thead>\n",
       "  <tbody>\n",
       "    <tr>\n",
       "      <th>199</th>\n",
       "      <td>45</td>\n",
       "      <td>bottom</td>\n",
       "      <td>5</td>\n",
       "      <td>Strike - Swinging</td>\n",
       "      <td>Swinging Strike</td>\n",
       "      <td>R</td>\n",
       "      <td>L</td>\n",
       "      <td>596057</td>\n",
       "      <td>Empty</td>\n",
       "      <td>0.0</td>\n",
       "      <td>0.0</td>\n",
       "      <td>4.0</td>\n",
       "      <td>1.0</td>\n",
       "      <td>0.0</td>\n",
       "      <td>1.0-3.0</td>\n",
       "    </tr>\n",
       "  </tbody>\n",
       "</table>\n",
       "</div>"
      ],
      "text/plain": [
       "     about.atBatIndex about.halfInning  about.inning details.call.description  \\\n",
       "199                45           bottom             5        Strike - Swinging   \n",
       "\n",
       "    details.description matchup.batSide.code matchup.pitchHand.code  \\\n",
       "199     Swinging Strike                    R                      L   \n",
       "\n",
       "     matchup.pitcher.id matchup.splits.menOnBase  pitchData.nastyFactor  \\\n",
       "199              596057                    Empty                    0.0   \n",
       "\n",
       "     pitchData.zone  pitchNumber  pitch_type  prior_pitch_type    count  \n",
       "199             0.0          4.0         1.0               0.0  1.0-3.0  "
      ]
     },
     "execution_count": 60,
     "metadata": {},
     "output_type": "execute_result"
    }
   ],
   "source": [
    "last_pred"
   ]
  },
  {
   "cell_type": "markdown",
   "metadata": {},
   "source": [
    "## Model Creation"
   ]
  },
  {
   "cell_type": "code",
   "execution_count": 61,
   "metadata": {},
   "outputs": [],
   "source": [
    "X_train, X_test, y_train, y_test = train_test_split(predictors, target, random_state=10)"
   ]
  },
  {
   "cell_type": "markdown",
   "metadata": {},
   "source": [
    "## TO DO TOMORROW\n",
    "- Use Model to Make Predictions on new data for Flask app\n",
    "- Functionize this new method \n",
    "- Make slides\n",
    "- Model is good"
   ]
  },
  {
   "cell_type": "code",
   "execution_count": 62,
   "metadata": {},
   "outputs": [],
   "source": [
    "# from pitch_functions import run_classifier_models"
   ]
  },
  {
   "cell_type": "markdown",
   "metadata": {},
   "source": [
    "- Questions?\n",
    "- How to set up functions\n",
    "- Best practice on my notebook(ie - data cleaning)\n",
    "- how to set this model up\n",
    "- is pipeline a better way to go?"
   ]
  },
  {
   "cell_type": "code",
   "execution_count": 63,
   "metadata": {},
   "outputs": [],
   "source": [
    "classifiers_test = GradientBoostingClassifier()"
   ]
  },
  {
   "cell_type": "code",
   "execution_count": 64,
   "metadata": {},
   "outputs": [
    {
     "data": {
      "text/plain": [
       "Pipeline(memory=None,\n",
       "     steps=[('preprocessor', ColumnTransformer(n_jobs=None, remainder='drop', sparse_threshold=0.3,\n",
       "         transformer_weights=None,\n",
       "         transformers=[('num', Pipeline(memory=None, steps=[('keeper', None)]), ['WAR_x', 'WHIP', 'ERA', 'SO', 'SLG', 'OPS', 'WAR_y', 'about.atBatIndex', 'pitchData.nasty...    subsample=1.0, tol=0.0001, validation_fraction=0.1,\n",
       "              verbose=0, warm_start=False))])"
      ]
     },
     "execution_count": 64,
     "metadata": {},
     "output_type": "execute_result"
    }
   ],
   "source": [
    "pipe = Pipeline(steps=[('preprocessor', preprocessor),\n",
    "                              ('classifier', classifiers_test)])\n",
    "pipe.fit(X_train, y_train)"
   ]
  },
  {
   "cell_type": "code",
   "execution_count": 65,
   "metadata": {},
   "outputs": [],
   "source": [
    "y_predss =pipe.predict(X_test)"
   ]
  },
  {
   "cell_type": "code",
   "execution_count": 66,
   "metadata": {},
   "outputs": [
    {
     "data": {
      "text/html": [
       "<div>\n",
       "<style scoped>\n",
       "    .dataframe tbody tr th:only-of-type {\n",
       "        vertical-align: middle;\n",
       "    }\n",
       "\n",
       "    .dataframe tbody tr th {\n",
       "        vertical-align: top;\n",
       "    }\n",
       "\n",
       "    .dataframe thead th {\n",
       "        text-align: right;\n",
       "    }\n",
       "</style>\n",
       "<table border=\"1\" class=\"dataframe\">\n",
       "  <thead>\n",
       "    <tr style=\"text-align: right;\">\n",
       "      <th></th>\n",
       "      <th>WAR_x</th>\n",
       "      <th>WHIP</th>\n",
       "      <th>ERA</th>\n",
       "      <th>SO</th>\n",
       "      <th>SLG</th>\n",
       "      <th>OPS</th>\n",
       "      <th>WAR_y</th>\n",
       "      <th>about.atBatIndex</th>\n",
       "      <th>about.halfInning</th>\n",
       "      <th>about.inning</th>\n",
       "      <th>...</th>\n",
       "      <th>details.description</th>\n",
       "      <th>matchup.batSide.code</th>\n",
       "      <th>matchup.pitchHand.code</th>\n",
       "      <th>matchup.pitcher.id</th>\n",
       "      <th>matchup.splits.menOnBase</th>\n",
       "      <th>pitchData.nastyFactor</th>\n",
       "      <th>pitchData.zone</th>\n",
       "      <th>pitchNumber</th>\n",
       "      <th>prior_pitch_type</th>\n",
       "      <th>count</th>\n",
       "    </tr>\n",
       "  </thead>\n",
       "  <tbody>\n",
       "    <tr>\n",
       "      <th>14827</th>\n",
       "      <td>7.5</td>\n",
       "      <td>0.97</td>\n",
       "      <td>1.89</td>\n",
       "      <td>221</td>\n",
       "      <td>0.522</td>\n",
       "      <td>0.883</td>\n",
       "      <td>3.8</td>\n",
       "      <td>23</td>\n",
       "      <td>top</td>\n",
       "      <td>4</td>\n",
       "      <td>...</td>\n",
       "      <td>Swinging Strike</td>\n",
       "      <td>R</td>\n",
       "      <td>L</td>\n",
       "      <td>605483</td>\n",
       "      <td>Empty</td>\n",
       "      <td>45.61</td>\n",
       "      <td>14.0</td>\n",
       "      <td>2.0</td>\n",
       "      <td>1</td>\n",
       "      <td>1.0-1.0</td>\n",
       "    </tr>\n",
       "  </tbody>\n",
       "</table>\n",
       "<p>1 rows × 21 columns</p>\n",
       "</div>"
      ],
      "text/plain": [
       "       WAR_x  WHIP   ERA   SO    SLG    OPS  WAR_y  about.atBatIndex  \\\n",
       "14827    7.5  0.97  1.89  221  0.522  0.883    3.8                23   \n",
       "\n",
       "      about.halfInning  about.inning   ...    details.description  \\\n",
       "14827              top             4   ...        Swinging Strike   \n",
       "\n",
       "      matchup.batSide.code matchup.pitchHand.code matchup.pitcher.id  \\\n",
       "14827                    R                      L             605483   \n",
       "\n",
       "       matchup.splits.menOnBase pitchData.nastyFactor  pitchData.zone  \\\n",
       "14827                     Empty                 45.61            14.0   \n",
       "\n",
       "       pitchNumber  prior_pitch_type    count  \n",
       "14827          2.0                 1  1.0-1.0  \n",
       "\n",
       "[1 rows x 21 columns]"
      ]
     },
     "execution_count": 66,
     "metadata": {},
     "output_type": "execute_result"
    }
   ],
   "source": [
    "testing = X_test[-1:]\n",
    "testing"
   ]
  },
  {
   "cell_type": "code",
   "execution_count": 67,
   "metadata": {},
   "outputs": [
    {
     "name": "stdout",
     "output_type": "stream",
     "text": [
      "Accuracy:0.782\n",
      "F1-Score: 0.779\n",
      "AUC: 0.762\n"
     ]
    }
   ],
   "source": [
    "y_preds = next_pitch.pitch_functions.calc_acc_and_f1_score(y_test, pipe.predict(X_test))"
   ]
  },
  {
   "cell_type": "code",
   "execution_count": 49,
   "metadata": {},
   "outputs": [
    {
     "data": {
      "text/plain": [
       "(7500, 21)"
      ]
     },
     "execution_count": 49,
     "metadata": {},
     "output_type": "execute_result"
    }
   ],
   "source": [
    "X_train.shape"
   ]
  },
  {
   "cell_type": "code",
   "execution_count": 50,
   "metadata": {},
   "outputs": [
    {
     "data": {
      "text/html": [
       "<div>\n",
       "<style scoped>\n",
       "    .dataframe tbody tr th:only-of-type {\n",
       "        vertical-align: middle;\n",
       "    }\n",
       "\n",
       "    .dataframe tbody tr th {\n",
       "        vertical-align: top;\n",
       "    }\n",
       "\n",
       "    .dataframe thead th {\n",
       "        text-align: right;\n",
       "    }\n",
       "</style>\n",
       "<table border=\"1\" class=\"dataframe\">\n",
       "  <thead>\n",
       "    <tr style=\"text-align: right;\">\n",
       "      <th></th>\n",
       "      <th>WAR_x</th>\n",
       "      <th>WHIP</th>\n",
       "      <th>ERA</th>\n",
       "      <th>SO</th>\n",
       "      <th>SLG</th>\n",
       "      <th>OPS</th>\n",
       "      <th>WAR_y</th>\n",
       "      <th>about.atBatIndex</th>\n",
       "      <th>about.halfInning</th>\n",
       "      <th>about.inning</th>\n",
       "      <th>...</th>\n",
       "      <th>details.description</th>\n",
       "      <th>matchup.batSide.code</th>\n",
       "      <th>matchup.pitchHand.code</th>\n",
       "      <th>matchup.pitcher.id</th>\n",
       "      <th>matchup.splits.menOnBase</th>\n",
       "      <th>pitchData.nastyFactor</th>\n",
       "      <th>pitchData.zone</th>\n",
       "      <th>pitchNumber</th>\n",
       "      <th>prior_pitch_type</th>\n",
       "      <th>count</th>\n",
       "    </tr>\n",
       "  </thead>\n",
       "  <tbody>\n",
       "    <tr>\n",
       "      <th>4334</th>\n",
       "      <td>3.4</td>\n",
       "      <td>0.99</td>\n",
       "      <td>1.29</td>\n",
       "      <td>89</td>\n",
       "      <td>0.384</td>\n",
       "      <td>0.675</td>\n",
       "      <td>1.5</td>\n",
       "      <td>75</td>\n",
       "      <td>bottom</td>\n",
       "      <td>10</td>\n",
       "      <td>...</td>\n",
       "      <td>Called Strike</td>\n",
       "      <td>R</td>\n",
       "      <td>R</td>\n",
       "      <td>502026</td>\n",
       "      <td>Empty</td>\n",
       "      <td>41.14</td>\n",
       "      <td>6.0</td>\n",
       "      <td>3.0</td>\n",
       "      <td>1</td>\n",
       "      <td>2.0-1.0</td>\n",
       "    </tr>\n",
       "  </tbody>\n",
       "</table>\n",
       "<p>1 rows × 21 columns</p>\n",
       "</div>"
      ],
      "text/plain": [
       "      WAR_x  WHIP   ERA  SO    SLG    OPS  WAR_y  about.atBatIndex  \\\n",
       "4334    3.4  0.99  1.29  89  0.384  0.675    1.5                75   \n",
       "\n",
       "     about.halfInning  about.inning   ...    details.description  \\\n",
       "4334           bottom            10   ...          Called Strike   \n",
       "\n",
       "     matchup.batSide.code matchup.pitchHand.code matchup.pitcher.id  \\\n",
       "4334                    R                      R             502026   \n",
       "\n",
       "      matchup.splits.menOnBase pitchData.nastyFactor  pitchData.zone  \\\n",
       "4334                     Empty                 41.14             6.0   \n",
       "\n",
       "      pitchNumber  prior_pitch_type    count  \n",
       "4334          3.0                 1  2.0-1.0  \n",
       "\n",
       "[1 rows x 21 columns]"
      ]
     },
     "execution_count": 50,
     "metadata": {},
     "output_type": "execute_result"
    }
   ],
   "source": [
    "X_train.head(1)"
   ]
  },
  {
   "cell_type": "code",
   "execution_count": 51,
   "metadata": {},
   "outputs": [
    {
     "data": {
      "text/html": [
       "<div>\n",
       "<style scoped>\n",
       "    .dataframe tbody tr th:only-of-type {\n",
       "        vertical-align: middle;\n",
       "    }\n",
       "\n",
       "    .dataframe tbody tr th {\n",
       "        vertical-align: top;\n",
       "    }\n",
       "\n",
       "    .dataframe thead th {\n",
       "        text-align: right;\n",
       "    }\n",
       "</style>\n",
       "<table border=\"1\" class=\"dataframe\">\n",
       "  <thead>\n",
       "    <tr style=\"text-align: right;\">\n",
       "      <th></th>\n",
       "      <th>about.atBatIndex</th>\n",
       "      <th>about.halfInning</th>\n",
       "      <th>about.inning</th>\n",
       "      <th>details.call.description</th>\n",
       "      <th>details.description</th>\n",
       "      <th>matchup.batSide.code</th>\n",
       "      <th>matchup.pitchHand.code</th>\n",
       "      <th>matchup.pitcher.id</th>\n",
       "      <th>matchup.splits.menOnBase</th>\n",
       "      <th>pitchData.nastyFactor</th>\n",
       "      <th>pitchData.zone</th>\n",
       "      <th>pitchNumber</th>\n",
       "      <th>pitch_type</th>\n",
       "      <th>prior_pitch_type</th>\n",
       "      <th>count</th>\n",
       "    </tr>\n",
       "  </thead>\n",
       "  <tbody>\n",
       "    <tr>\n",
       "      <th>199</th>\n",
       "      <td>45</td>\n",
       "      <td>bottom</td>\n",
       "      <td>5</td>\n",
       "      <td>Strike - Swinging</td>\n",
       "      <td>Swinging Strike</td>\n",
       "      <td>R</td>\n",
       "      <td>L</td>\n",
       "      <td>596057</td>\n",
       "      <td>Empty</td>\n",
       "      <td>0.0</td>\n",
       "      <td>0.0</td>\n",
       "      <td>4.0</td>\n",
       "      <td>1.0</td>\n",
       "      <td>0.0</td>\n",
       "      <td>1.0-3.0</td>\n",
       "    </tr>\n",
       "  </tbody>\n",
       "</table>\n",
       "</div>"
      ],
      "text/plain": [
       "     about.atBatIndex about.halfInning  about.inning details.call.description  \\\n",
       "199                45           bottom             5        Strike - Swinging   \n",
       "\n",
       "    details.description matchup.batSide.code matchup.pitchHand.code  \\\n",
       "199     Swinging Strike                    R                      L   \n",
       "\n",
       "     matchup.pitcher.id matchup.splits.menOnBase  pitchData.nastyFactor  \\\n",
       "199              596057                    Empty                    0.0   \n",
       "\n",
       "     pitchData.zone  pitchNumber  pitch_type  prior_pitch_type    count  \n",
       "199             0.0          4.0         1.0               0.0  1.0-3.0  "
      ]
     },
     "execution_count": 51,
     "metadata": {},
     "output_type": "execute_result"
    }
   ],
   "source": [
    "last_pred.head(1)"
   ]
  },
  {
   "cell_type": "code",
   "execution_count": 48,
   "metadata": {},
   "outputs": [
    {
     "data": {
      "text/plain": [
       "(1, 15)"
      ]
     },
     "execution_count": 48,
     "metadata": {},
     "output_type": "execute_result"
    }
   ],
   "source": [
    "last_pred.shape"
   ]
  },
  {
   "cell_type": "code",
   "execution_count": 53,
   "metadata": {},
   "outputs": [
    {
     "data": {
      "text/plain": [
       "array([0])"
      ]
     },
     "execution_count": 53,
     "metadata": {},
     "output_type": "execute_result"
    }
   ],
   "source": [
    "pipe.predict()"
   ]
  },
  {
   "cell_type": "code",
   "execution_count": 74,
   "metadata": {},
   "outputs": [
    {
     "name": "stdout",
     "output_type": "stream",
     "text": [
      "GradientBoostingClassifier(criterion='friedman_mse', init=None,\n",
      "              learning_rate=0.1, loss='deviance', max_depth=10,\n",
      "              max_features=None, max_leaf_nodes=None,\n",
      "              min_impurity_decrease=0.0, min_impurity_split=None,\n",
      "              min_samples_leaf=1, min_samples_split=2,\n",
      "              min_weight_fraction_leaf=0.0, n_estimators=200,\n",
      "              n_iter_no_change=None, presort='auto', random_state=None,\n",
      "              subsample=1.0, tol=0.0001, validation_fraction=0.1,\n",
      "              verbose=0, warm_start=False)\n",
      "\n",
      "\n",
      "Training Metrics\n",
      "Accuracy:1.000\n",
      "F1-Score: 1.000\n",
      "AUC: 1.000\n",
      "\n",
      "\n",
      "Testing Metrics\n",
      "Accuracy:0.796\n",
      "F1-Score: 0.795\n",
      "AUC: 0.784\n",
      "\n",
      "\n",
      "XGBClassifier(base_score=0.5, booster='gbtree', colsample_bylevel=1,\n",
      "       colsample_bytree=1, gamma=0, learning_rate=0.1, max_delta_step=0,\n",
      "       max_depth=10, min_child_weight=1, missing=None, n_estimators=200,\n",
      "       n_jobs=1, nthread=None, objective='binary:logistic', random_state=0,\n",
      "       reg_alpha=0, reg_lambda=1, scale_pos_weight=1, seed=None,\n",
      "       silent=True, subsample=1)\n",
      "\n",
      "\n",
      "Training Metrics\n",
      "Accuracy:0.993\n",
      "F1-Score: 0.993\n",
      "AUC: 0.993\n",
      "\n",
      "\n",
      "Testing Metrics\n",
      "Accuracy:0.796\n",
      "F1-Score: 0.796\n",
      "AUC: 0.785\n",
      "\n",
      "\n"
     ]
    }
   ],
   "source": [
    "run_classifier_models(classifiers, preprocessor, X_train, X_test, y_train, y_test)"
   ]
  },
  {
   "cell_type": "code",
   "execution_count": 218,
   "metadata": {},
   "outputs": [],
   "source": [
    "from sklearn.metrics import confusion_matrix, classification_report"
   ]
  },
  {
   "cell_type": "code",
   "execution_count": 228,
   "metadata": {},
   "outputs": [],
   "source": [
    "cm = confusion_matrix(y_test, y_predss)"
   ]
  },
  {
   "cell_type": "code",
   "execution_count": 229,
   "metadata": {},
   "outputs": [
    {
     "name": "stdout",
     "output_type": "stream",
     "text": [
      "[[ 661  339]\n",
      " [ 205 1295]]\n"
     ]
    }
   ],
   "source": [
    "print(cm)"
   ]
  },
  {
   "cell_type": "code",
   "execution_count": 249,
   "metadata": {},
   "outputs": [
    {
     "data": {
      "image/png": "[encoded data removed]",
      "text/plain": [
       "<Figure size 288x288 with 2 Axes>"
      ]
     },
     "metadata": {
      "needs_background": "light"
     },
     "output_type": "display_data"
    }
   ],
   "source": [
    "plt.matshow(cm)\n",
    "plt.title('Confusion matrix')\n",
    "plt.colorbar()\n",
    "plt.ylabel('True Pitch Type')\n",
    "plt.xlabel('Predicted Pitch Type')\n",
    "plt.show()\n"
   ]
  },
  {
   "cell_type": "code",
   "execution_count": null,
   "metadata": {},
   "outputs": [],
   "source": []
  }
 ],
 "metadata": {
  "kernelspec": {
   "display_name": "learn-env",
   "language": "python",
   "name": "learn-env"
  },
  "language_info": {
   "codemirror_mode": {
    "name": "ipython",
    "version": 3
   },
   "file_extension": ".py",
   "mimetype": "text/x-python",
   "name": "python",
   "nbconvert_exporter": "python",
   "pygments_lexer": "ipython3",
   "version": "3.7.0"
  }
 },
 "nbformat": 4,
 "nbformat_minor": 2
}
