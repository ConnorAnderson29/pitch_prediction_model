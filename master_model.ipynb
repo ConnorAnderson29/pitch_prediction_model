{
 "cells": [
  {
   "cell_type": "markdown",
   "metadata": {},
   "source": [
    "# Model Creation: Round 2\n"
   ]
  },
  {
   "cell_type": "markdown",
   "metadata": {},
   "source": [
    "#### Importing the necessary libraries"
   ]
  },
  {
   "cell_type": "code",
   "execution_count": 1,
   "metadata": {},
   "outputs": [
    {
     "name": "stderr",
     "output_type": "stream",
     "text": [
      "Using TensorFlow backend.\n"
     ]
    }
   ],
   "source": [
    "import next_pitch\n",
    "from next_pitch import library\n",
    "from next_pitch import pitch_functions"
   ]
  },
  {
   "cell_type": "code",
   "execution_count": 2,
   "metadata": {},
   "outputs": [],
   "source": [
    "from next_pitch.pitch_functions import run_classifier_models, roc_auc_score, calc_acc_and_f1_score"
   ]
  },
  {
   "cell_type": "code",
   "execution_count": 3,
   "metadata": {},
   "outputs": [],
   "source": [
    "#DATA WRANGLING\n",
    "import pandas as pd # Dataframes\n",
    "from pandas.io.json import json_normalize # JSON wrangler\n",
    "import statsapi # Python wrapper MLB data API"
   ]
  },
  {
   "cell_type": "code",
   "execution_count": 4,
   "metadata": {},
   "outputs": [],
   "source": [
    "#DATA MANIPULATION AND MODELLING\n",
    "import numpy as np\n",
    "np.random.seed(0)\n",
    "import matplotlib.pyplot as plt\n",
    "from sklearn.preprocessing import StandardScaler, Normalizer\n",
    "from sklearn.model_selection import train_test_split, cross_val_score\n",
    "from sklearn.metrics import accuracy_score, confusion_matrix, classification_report\n",
    "from sklearn.tree import DecisionTreeClassifier\n",
    "from sklearn.ensemble import BaggingClassifier, RandomForestClassifier, GradientBoostingClassifier\n",
    "from sklearn.preprocessing import OneHotEncoder\n",
    "from sklearn_pandas import DataFrameMapper, FunctionTransformer, gen_features, pipeline\n",
    "from sklearn_pandas.pipeline import Pipeline\n",
    "from sklearn.compose import ColumnTransformer\n",
    "import seaborn as sns\n",
    "from sklearn.metrics import f1_score, accuracy_score, roc_auc_score\n",
    "from sklearn.preprocessing import LabelBinarizer\n",
    "import xgboost as xgb\n",
    "import os\n",
    "# import pitch_functions"
   ]
  },
  {
   "cell_type": "code",
   "execution_count": 5,
   "metadata": {},
   "outputs": [],
   "source": [
    "os.environ['KMP_DUPLICATE_LIB_OK']='True'"
   ]
  },
  {
   "cell_type": "markdown",
   "metadata": {},
   "source": [
    "## Load Data"
   ]
  },
  {
   "cell_type": "code",
   "execution_count": 6,
   "metadata": {},
   "outputs": [],
   "source": [
    "each_pitch = pd.read_csv('raw_data/final_pitches.csv')"
   ]
  },
  {
   "cell_type": "code",
   "execution_count": 7,
   "metadata": {},
   "outputs": [],
   "source": [
    "test_pitch = pd.read_csv('raw_data/cleaned_pitches1.csv')"
   ]
  },
  {
   "cell_type": "code",
   "execution_count": 8,
   "metadata": {},
   "outputs": [],
   "source": [
    "test_pitch = test_pitch.fillna(value=0)\n"
   ]
  },
  {
   "cell_type": "code",
   "execution_count": 9,
   "metadata": {},
   "outputs": [
    {
     "name": "stdout",
     "output_type": "stream",
     "text": [
      "<class 'pandas.core.frame.DataFrame'>\n",
      "RangeIndex: 200 entries, 0 to 199\n",
      "Data columns (total 17 columns):\n",
      "about.atBatIndex            200 non-null int64\n",
      "about.halfInning            200 non-null object\n",
      "about.inning                200 non-null int64\n",
      "details.call.description    200 non-null object\n",
      "details.description         200 non-null object\n",
      "matchup.batSide.code        200 non-null object\n",
      "matchup.batter.fullName     200 non-null object\n",
      "matchup.pitchHand.code      200 non-null object\n",
      "matchup.pitcher.fullName    200 non-null object\n",
      "matchup.pitcher.id          200 non-null int64\n",
      "matchup.splits.menOnBase    200 non-null object\n",
      "pitchData.nastyFactor       200 non-null float64\n",
      "pitchData.zone              200 non-null float64\n",
      "pitchNumber                 200 non-null float64\n",
      "pitch_type                  200 non-null object\n",
      "prior_pitch_type            200 non-null object\n",
      "count                       200 non-null object\n",
      "dtypes: float64(3), int64(3), object(11)\n",
      "memory usage: 26.6+ KB\n"
     ]
    }
   ],
   "source": [
    "test_pitch.info()"
   ]
  },
  {
   "cell_type": "markdown",
   "metadata": {},
   "source": [
    "# Model Data"
   ]
  },
  {
   "cell_type": "markdown",
   "metadata": {},
   "source": [
    "Create Binary Labels for Pitch Prediction: Fastball = 1 and Offspeed = 0."
   ]
  },
  {
   "cell_type": "code",
   "execution_count": 94,
   "metadata": {},
   "outputs": [],
   "source": [
    "pitch_dicts = {'Fastball': 1,\n",
    "               '0': 1,\n",
    "              'Breaking_Ball': 0,\n",
    "              'Changeup': 0}"
   ]
  },
  {
   "cell_type": "code",
   "execution_count": 95,
   "metadata": {},
   "outputs": [],
   "source": [
    "pitch_clean = each_pitch.dropna().copy()"
   ]
  },
  {
   "cell_type": "code",
   "execution_count": 96,
   "metadata": {},
   "outputs": [],
   "source": [
    "pitch_clean = pitch_clean[:10000]"
   ]
  },
  {
   "cell_type": "code",
   "execution_count": 97,
   "metadata": {},
   "outputs": [
    {
     "data": {
      "text/plain": [
       "10000"
      ]
     },
     "execution_count": 97,
     "metadata": {},
     "output_type": "execute_result"
    }
   ],
   "source": [
    "len(pitch_clean)"
   ]
  },
  {
   "cell_type": "code",
   "execution_count": 98,
   "metadata": {},
   "outputs": [],
   "source": [
    "pitch_clean['pitch_type'] = pitch_clean['pitch_type'].map(pitch_dicts)"
   ]
  },
  {
   "cell_type": "code",
   "execution_count": 99,
   "metadata": {},
   "outputs": [],
   "source": [
    "pitch_clean['prior_pitch_type'] = pitch_clean['prior_pitch_type'].map(pitch_dicts)"
   ]
  },
  {
   "cell_type": "markdown",
   "metadata": {},
   "source": [
    "### Model Targets and Predictors"
   ]
  },
  {
   "cell_type": "code",
   "execution_count": 100,
   "metadata": {},
   "outputs": [],
   "source": [
    "target = pitch_clean['pitch_type']"
   ]
  },
  {
   "cell_type": "code",
   "execution_count": 101,
   "metadata": {},
   "outputs": [],
   "source": [
    "predictors = pitch_clean.drop(['pitch_type', 'hitter', 'pitcher' ], axis=1)"
   ]
  },
  {
   "cell_type": "markdown",
   "metadata": {},
   "source": [
    "### MODEL NUM AND CAT FEATURES"
   ]
  },
  {
   "cell_type": "code",
   "execution_count": 102,
   "metadata": {},
   "outputs": [],
   "source": [
    "num_features = list(predictors.select_dtypes(exclude='object'))\n",
    "num_features = [i for i in num_features if i not in {'about.inning', 'pitchData.zone', 'matchup.pitcher.id'}]"
   ]
  },
  {
   "cell_type": "code",
   "execution_count": 103,
   "metadata": {},
   "outputs": [],
   "source": [
    "num_features = [i for i in num_features if i not in {'about.inning', 'pitchData.zone', 'matchup.pitcher.id'}]"
   ]
  },
  {
   "cell_type": "code",
   "execution_count": 104,
   "metadata": {},
   "outputs": [],
   "source": [
    "cat_features = list(predictors.select_dtypes(include='object'))\n",
    "cat_features.extend(['about.inning', 'pitchData.zone', 'count', 'matchup.pitcher.id'])"
   ]
  },
  {
   "cell_type": "markdown",
   "metadata": {},
   "source": [
    "# LIVE DATA TEST"
   ]
  },
  {
   "cell_type": "code",
   "execution_count": 105,
   "metadata": {},
   "outputs": [],
   "source": [
    "new_pitch = test_pitch.copy()"
   ]
  },
  {
   "cell_type": "code",
   "execution_count": 106,
   "metadata": {},
   "outputs": [],
   "source": [
    "new_pitch['pitch_type'] = new_pitch['pitch_type'].map(pitch_dicts)"
   ]
  },
  {
   "cell_type": "code",
   "execution_count": 107,
   "metadata": {},
   "outputs": [],
   "source": [
    "new_pitch['prior_pitch_type'] = new_pitch['prior_pitch_type'].map(pitch_dicts)"
   ]
  },
  {
   "cell_type": "markdown",
   "metadata": {},
   "source": [
    "### Create target and predictor data frames"
   ]
  },
  {
   "cell_type": "code",
   "execution_count": 108,
   "metadata": {},
   "outputs": [],
   "source": [
    "new_target = new_pitch['pitch_type']"
   ]
  },
  {
   "cell_type": "code",
   "execution_count": 109,
   "metadata": {},
   "outputs": [],
   "source": [
    "new_preds = new_pitch.drop(['matchup.batter.fullName', 'matchup.pitcher.fullName'], axis=1)"
   ]
  },
  {
   "cell_type": "markdown",
   "metadata": {},
   "source": [
    "### Create categorical and numerical lists for the data pipeline. "
   ]
  },
  {
   "cell_type": "code",
   "execution_count": 110,
   "metadata": {},
   "outputs": [],
   "source": [
    "new_n = list(new_preds.select_dtypes(exclude='object'))"
   ]
  },
  {
   "cell_type": "code",
   "execution_count": 111,
   "metadata": {},
   "outputs": [],
   "source": [
    "num_features1 = [i for i in new_n if i not in {'about.inning', 'pitchData.zone', 'matchup.pitcher.id'}]"
   ]
  },
  {
   "cell_type": "code",
   "execution_count": 112,
   "metadata": {},
   "outputs": [],
   "source": [
    "cat_features1 = list(new_preds.select_dtypes(include='object',))\n",
    "cat_features1.extend(['about.inning', 'count', 'matchup.pitcher.id'])"
   ]
  },
  {
   "cell_type": "markdown",
   "metadata": {},
   "source": [
    "### Create steps for data pipeline using cells above"
   ]
  },
  {
   "cell_type": "code",
   "execution_count": 113,
   "metadata": {},
   "outputs": [],
   "source": [
    "numeric_transformer = Pipeline(steps=[('keeper', None)])"
   ]
  },
  {
   "cell_type": "code",
   "execution_count": 114,
   "metadata": {},
   "outputs": [],
   "source": [
    "cat_transfomer = Pipeline(steps=[('onehot', OneHotEncoder(handle_unknown='ignore', categories='auto'))])"
   ]
  },
  {
   "cell_type": "code",
   "execution_count": 115,
   "metadata": {},
   "outputs": [],
   "source": [
    "preprocessor = ColumnTransformer(transformers=[('num', numeric_transformer, num_features),\n",
    "                                              ('cat', cat_transfomer, cat_features)])"
   ]
  },
  {
   "cell_type": "code",
   "execution_count": 116,
   "metadata": {},
   "outputs": [],
   "source": [
    "preprocessor1 = ColumnTransformer(transformers=[('num', numeric_transformer, num_features1),\n",
    "                                              ('cat', cat_transfomer, cat_features1)])"
   ]
  },
  {
   "cell_type": "code",
   "execution_count": 117,
   "metadata": {},
   "outputs": [],
   "source": [
    "classifiers = [GradientBoostingClassifier(n_estimators=200, max_depth=10, learning_rate=.1), \n",
    "               xgb.XGBClassifier(n_estimators=200, max_depth=10, learning_rate=.1)]"
   ]
  },
  {
   "cell_type": "markdown",
   "metadata": {},
   "source": [
    "### New TEST ROW FORMATION"
   ]
  },
  {
   "cell_type": "code",
   "execution_count": 118,
   "metadata": {},
   "outputs": [],
   "source": [
    "new_preds = new_preds"
   ]
  },
  {
   "cell_type": "code",
   "execution_count": 119,
   "metadata": {},
   "outputs": [],
   "source": [
    "last_pred = new_preds[-1:]"
   ]
  },
  {
   "cell_type": "code",
   "execution_count": 120,
   "metadata": {},
   "outputs": [
    {
     "data": {
      "text/html": [
       "<div>\n",
       "<style scoped>\n",
       "    .dataframe tbody tr th:only-of-type {\n",
       "        vertical-align: middle;\n",
       "    }\n",
       "\n",
       "    .dataframe tbody tr th {\n",
       "        vertical-align: top;\n",
       "    }\n",
       "\n",
       "    .dataframe thead th {\n",
       "        text-align: right;\n",
       "    }\n",
       "</style>\n",
       "<table border=\"1\" class=\"dataframe\">\n",
       "  <thead>\n",
       "    <tr style=\"text-align: right;\">\n",
       "      <th></th>\n",
       "      <th>about.atBatIndex</th>\n",
       "      <th>about.halfInning</th>\n",
       "      <th>about.inning</th>\n",
       "      <th>details.call.description</th>\n",
       "      <th>details.description</th>\n",
       "      <th>matchup.batSide.code</th>\n",
       "      <th>matchup.pitchHand.code</th>\n",
       "      <th>matchup.pitcher.id</th>\n",
       "      <th>matchup.splits.menOnBase</th>\n",
       "      <th>pitchData.nastyFactor</th>\n",
       "      <th>pitchData.zone</th>\n",
       "      <th>pitchNumber</th>\n",
       "      <th>pitch_type</th>\n",
       "      <th>prior_pitch_type</th>\n",
       "      <th>count</th>\n",
       "    </tr>\n",
       "  </thead>\n",
       "  <tbody>\n",
       "    <tr>\n",
       "      <th>199</th>\n",
       "      <td>45</td>\n",
       "      <td>bottom</td>\n",
       "      <td>5</td>\n",
       "      <td>Strike - Swinging</td>\n",
       "      <td>Swinging Strike</td>\n",
       "      <td>R</td>\n",
       "      <td>L</td>\n",
       "      <td>596057</td>\n",
       "      <td>Empty</td>\n",
       "      <td>0.0</td>\n",
       "      <td>0.0</td>\n",
       "      <td>4.0</td>\n",
       "      <td>1.0</td>\n",
       "      <td>0.0</td>\n",
       "      <td>1.0-3.0</td>\n",
       "    </tr>\n",
       "  </tbody>\n",
       "</table>\n",
       "</div>"
      ],
      "text/plain": [
       "     about.atBatIndex about.halfInning  about.inning details.call.description  \\\n",
       "199                45           bottom             5        Strike - Swinging   \n",
       "\n",
       "    details.description matchup.batSide.code matchup.pitchHand.code  \\\n",
       "199     Swinging Strike                    R                      L   \n",
       "\n",
       "     matchup.pitcher.id matchup.splits.menOnBase  pitchData.nastyFactor  \\\n",
       "199              596057                    Empty                    0.0   \n",
       "\n",
       "     pitchData.zone  pitchNumber  pitch_type  prior_pitch_type    count  \n",
       "199             0.0          4.0         1.0               0.0  1.0-3.0  "
      ]
     },
     "execution_count": 120,
     "metadata": {},
     "output_type": "execute_result"
    }
   ],
   "source": [
    "last_pred"
   ]
  },
  {
   "cell_type": "code",
   "execution_count": 121,
   "metadata": {},
   "outputs": [],
   "source": [
    "last_pred_pre = preprocessor1.fit(last_pred).transform(last_pred)"
   ]
  },
  {
   "cell_type": "code",
   "execution_count": 122,
   "metadata": {},
   "outputs": [
    {
     "data": {
      "text/html": [
       "<div>\n",
       "<style scoped>\n",
       "    .dataframe tbody tr th:only-of-type {\n",
       "        vertical-align: middle;\n",
       "    }\n",
       "\n",
       "    .dataframe tbody tr th {\n",
       "        vertical-align: top;\n",
       "    }\n",
       "\n",
       "    .dataframe thead th {\n",
       "        text-align: right;\n",
       "    }\n",
       "</style>\n",
       "<table border=\"1\" class=\"dataframe\">\n",
       "  <thead>\n",
       "    <tr style=\"text-align: right;\">\n",
       "      <th></th>\n",
       "      <th>about.atBatIndex</th>\n",
       "      <th>about.halfInning</th>\n",
       "      <th>about.inning</th>\n",
       "      <th>details.call.description</th>\n",
       "      <th>details.description</th>\n",
       "      <th>matchup.batSide.code</th>\n",
       "      <th>matchup.pitchHand.code</th>\n",
       "      <th>matchup.pitcher.id</th>\n",
       "      <th>matchup.splits.menOnBase</th>\n",
       "      <th>pitchData.nastyFactor</th>\n",
       "      <th>pitchData.zone</th>\n",
       "      <th>pitchNumber</th>\n",
       "      <th>pitch_type</th>\n",
       "      <th>prior_pitch_type</th>\n",
       "      <th>count</th>\n",
       "    </tr>\n",
       "  </thead>\n",
       "  <tbody>\n",
       "    <tr>\n",
       "      <th>199</th>\n",
       "      <td>45</td>\n",
       "      <td>bottom</td>\n",
       "      <td>5</td>\n",
       "      <td>Strike - Swinging</td>\n",
       "      <td>Swinging Strike</td>\n",
       "      <td>R</td>\n",
       "      <td>L</td>\n",
       "      <td>596057</td>\n",
       "      <td>Empty</td>\n",
       "      <td>0.0</td>\n",
       "      <td>0.0</td>\n",
       "      <td>4.0</td>\n",
       "      <td>1.0</td>\n",
       "      <td>0.0</td>\n",
       "      <td>1.0-3.0</td>\n",
       "    </tr>\n",
       "  </tbody>\n",
       "</table>\n",
       "</div>"
      ],
      "text/plain": [
       "     about.atBatIndex about.halfInning  about.inning details.call.description  \\\n",
       "199                45           bottom             5        Strike - Swinging   \n",
       "\n",
       "    details.description matchup.batSide.code matchup.pitchHand.code  \\\n",
       "199     Swinging Strike                    R                      L   \n",
       "\n",
       "     matchup.pitcher.id matchup.splits.menOnBase  pitchData.nastyFactor  \\\n",
       "199              596057                    Empty                    0.0   \n",
       "\n",
       "     pitchData.zone  pitchNumber  pitch_type  prior_pitch_type    count  \n",
       "199             0.0          4.0         1.0               0.0  1.0-3.0  "
      ]
     },
     "execution_count": 122,
     "metadata": {},
     "output_type": "execute_result"
    }
   ],
   "source": [
    "last_pred"
   ]
  },
  {
   "cell_type": "markdown",
   "metadata": {},
   "source": [
    "## Model Creation"
   ]
  },
  {
   "cell_type": "code",
   "execution_count": 152,
   "metadata": {},
   "outputs": [],
   "source": [
    "def final_model(predictors, target, new_pitch):\n",
    "    \n",
    "    target = pitch_clean['pitch_type']\n",
    "    predictors = pitch_clean.drop(['pitch_type', 'hitter', 'pitcher' ], axis=1)\n",
    "    \n",
    "    X_train, X_test, y_train, y_test = train_test_split(predictors, target, random_state=10)\n",
    "    \n",
    "    num_features = list(predictors.select_dtypes(exclude='object'))\n",
    "    num_features = [i for i in num_features if i not in {'about.inning', 'pitchData.zone', 'matchup.pitcher.id'}]\n",
    "    numeric_transformer = Pipeline(steps=[('keeper', None)])\n",
    "    cat_transfomer = Pipeline(steps=[('onehot', OneHotEncoder(handle_unknown='ignore', categories='auto'))])\n",
    "    \n",
    "    preprocessor = ColumnTransformer(transformers=[('num', numeric_transformer, num_features),\n",
    "                                              ('cat', cat_transfomer, cat_features)])\n",
    "    pipe = Pipeline(steps=[('preprocessor', preprocessor),\n",
    "                              ('classifier', classifiers_test)])\n",
    "    pipe.fit(X_train, y_train)\n",
    "    print(pitch_functions.calc_acc_and_f1_score(y_test, pipe.predict(X_test)))\n",
    "    prediction = pipe.predict(new_pitch)\n",
    "    \n",
    "    \n",
    "    if prediction == 1:\n",
    "        print ('Fastball')\n",
    "    else: \n",
    "        print ('Off_Speed')\n",
    "    \n",
    "    "
   ]
  },
  {
   "cell_type": "code",
   "execution_count": 153,
   "metadata": {},
   "outputs": [
    {
     "name": "stdout",
     "output_type": "stream",
     "text": [
      "Accuracy:0.782\n",
      "F1-Score: 0.779\n",
      "AUC: 0.762\n",
      "None\n",
      "Fastball\n"
     ]
    }
   ],
   "source": [
    "final_model(predictors, target, testing)"
   ]
  },
  {
   "cell_type": "code",
   "execution_count": 154,
   "metadata": {},
   "outputs": [],
   "source": [
    "testing = X_test[-1:]"
   ]
  },
  {
   "cell_type": "code",
   "execution_count": null,
   "metadata": {},
   "outputs": [],
   "source": []
  }
 ],
 "metadata": {
  "kernelspec": {
   "display_name": "learn-env",
   "language": "python",
   "name": "learn-env"
  },
  "language_info": {
   "codemirror_mode": {
    "name": "ipython",
    "version": 3
   },
   "file_extension": ".py",
   "mimetype": "text/x-python",
   "name": "python",
   "nbconvert_exporter": "python",
   "pygments_lexer": "ipython3",
   "version": "3.7.0"
  }
 },
 "nbformat": 4,
 "nbformat_minor": 2
}
