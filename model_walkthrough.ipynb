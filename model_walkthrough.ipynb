{
 "cells": [
  {
   "cell_type": "markdown",
   "metadata": {},
   "source": [
    "# Step-by-Step Walkthrough of the *NextPitch* Prediction Model. \n",
    "### Welcome! \n",
    "#### This is a step by step demonstration of the *NextPitch Prediction Model*. If you are looking to rerun the project from top to bottom, just uncomment the commented cells and run!\n",
    "---"
   ]
  },
  {
   "cell_type": "markdown",
   "metadata": {},
   "source": [
    "## Importing the necessary libraries"
   ]
  },
  {
   "cell_type": "code",
   "execution_count": 1,
   "metadata": {},
   "outputs": [
    {
     "name": "stderr",
     "output_type": "stream",
     "text": [
      "Using TensorFlow backend.\n"
     ]
    }
   ],
   "source": [
    "import next_pitch\n",
    "from next_pitch import library as lib\n",
    "from next_pitch import pitch_functions\n",
    "from next_pitch import data_collection\n",
    "import os"
   ]
  },
  {
   "cell_type": "code",
   "execution_count": 2,
   "metadata": {},
   "outputs": [],
   "source": [
    "os.environ['KMP_DUPLICATE_LIB_OK']='True'"
   ]
  },
  {
   "cell_type": "markdown",
   "metadata": {},
   "source": [
    "---"
   ]
  },
  {
   "cell_type": "markdown",
   "metadata": {},
   "source": [
    "## Load Data\n",
    "\n",
    "The data used in this model is too large to store as a ```csv``` file on Github, so for the purpose of the walkthrough the data must be collected fresh by calling ```statsapi```. The function ```get_clean_data``` is a wrapper function for several other functions found in  ```data_collection.py``` . The functions pull in data, clean it and return a pandas data frame containing all pitches thrown in every Major League Baseball game during the specified period."
   ]
  },
  {
   "cell_type": "markdown",
   "metadata": {},
   "source": [
    "For demonstration, data from only the month of May 2018 will be used\n"
   ]
  },
  {
   "cell_type": "code",
   "execution_count": 3,
   "metadata": {},
   "outputs": [],
   "source": [
    "pitch_data = data_collection.get_clean_data(start_date='05/01/2018', end_date='05/31/2018')"
   ]
  },
  {
   "cell_type": "code",
   "execution_count": 4,
   "metadata": {},
   "outputs": [],
   "source": [
    "#pitch_data = data_collection.get_clean_data(start_date='03/28/2018', end_date='10/02/2018')"
   ]
  },
  {
   "cell_type": "code",
   "execution_count": 5,
   "metadata": {},
   "outputs": [
    {
     "data": {
      "text/plain": [
       "137500"
      ]
     },
     "execution_count": 5,
     "metadata": {},
     "output_type": "execute_result"
    }
   ],
   "source": [
    "len(pitch_data)"
   ]
  },
  {
   "cell_type": "markdown",
   "metadata": {},
   "source": [
    "---"
   ]
  },
  {
   "cell_type": "markdown",
   "metadata": {},
   "source": [
    "## Create Binary Labels for Pitch Prediction: Fastball = 1 and Offspeed = 0.\n",
    "\n",
    "Using the ```binarize_target``` as the final cleaning measure for our data. This function turns the target variable 'pitch_type' into a a binary outcome. A pitcher's main goal to confuse the hitters timing, and by helping a hitter recognize fastball vs non-fastball that will go along way as to helping them become a better hitter.\n",
    "\n",
    "This step wasn't added to the original data cleaning because I expect to classify 3 types of pitches in the next version of this product."
   ]
  },
  {
   "cell_type": "code",
   "execution_count": 6,
   "metadata": {},
   "outputs": [],
   "source": [
    "final_df = data_collection.binarize_target(pitch_data)"
   ]
  },
  {
   "cell_type": "code",
   "execution_count": 7,
   "metadata": {},
   "outputs": [
    {
     "data": {
      "text/html": [
       "<div>\n",
       "<style scoped>\n",
       "    .dataframe tbody tr th:only-of-type {\n",
       "        vertical-align: middle;\n",
       "    }\n",
       "\n",
       "    .dataframe tbody tr th {\n",
       "        vertical-align: top;\n",
       "    }\n",
       "\n",
       "    .dataframe thead th {\n",
       "        text-align: right;\n",
       "    }\n",
       "</style>\n",
       "<table border=\"1\" class=\"dataframe\">\n",
       "  <thead>\n",
       "    <tr style=\"text-align: right;\">\n",
       "      <th></th>\n",
       "      <th>pitcher</th>\n",
       "      <th>WAR_x</th>\n",
       "      <th>WHIP</th>\n",
       "      <th>ERA</th>\n",
       "      <th>SO</th>\n",
       "      <th>hitter</th>\n",
       "      <th>SLG</th>\n",
       "      <th>OPS</th>\n",
       "      <th>WAR_y</th>\n",
       "      <th>about.atBatIndex</th>\n",
       "      <th>about.halfInning</th>\n",
       "      <th>about.inning</th>\n",
       "      <th>details.call.description</th>\n",
       "      <th>details.description</th>\n",
       "      <th>matchup.batSide.code</th>\n",
       "      <th>matchup.pitchHand.code</th>\n",
       "      <th>matchup.pitcher.id</th>\n",
       "      <th>matchup.splits.menOnBase</th>\n",
       "      <th>pitchData.nastyFactor</th>\n",
       "      <th>pitchData.zone</th>\n",
       "      <th>pitchNumber</th>\n",
       "      <th>pitch_type</th>\n",
       "      <th>prior_pitch_type</th>\n",
       "      <th>count</th>\n",
       "    </tr>\n",
       "  </thead>\n",
       "  <tbody>\n",
       "    <tr>\n",
       "      <th>1</th>\n",
       "      <td>Kendrys Morales</td>\n",
       "      <td>0.0</td>\n",
       "      <td>1.0</td>\n",
       "      <td>0.0</td>\n",
       "      <td>0</td>\n",
       "      <td>Matt Chapman</td>\n",
       "      <td>0.508</td>\n",
       "      <td>0.864</td>\n",
       "      <td>8.2</td>\n",
       "      <td>70</td>\n",
       "      <td>top</td>\n",
       "      <td>9</td>\n",
       "      <td>Strike - Swinging</td>\n",
       "      <td>Foul</td>\n",
       "      <td>R</td>\n",
       "      <td>R</td>\n",
       "      <td>434778</td>\n",
       "      <td>Men_On</td>\n",
       "      <td>32.94</td>\n",
       "      <td>1.0</td>\n",
       "      <td>2.0</td>\n",
       "      <td>0.0</td>\n",
       "      <td>0.0</td>\n",
       "      <td>1.0-1.0</td>\n",
       "    </tr>\n",
       "    <tr>\n",
       "      <th>2</th>\n",
       "      <td>Kendrys Morales</td>\n",
       "      <td>0.0</td>\n",
       "      <td>1.0</td>\n",
       "      <td>0.0</td>\n",
       "      <td>0</td>\n",
       "      <td>Matt Chapman</td>\n",
       "      <td>0.508</td>\n",
       "      <td>0.864</td>\n",
       "      <td>8.2</td>\n",
       "      <td>70</td>\n",
       "      <td>top</td>\n",
       "      <td>9</td>\n",
       "      <td>Strike - Swinging</td>\n",
       "      <td>Foul</td>\n",
       "      <td>R</td>\n",
       "      <td>R</td>\n",
       "      <td>434778</td>\n",
       "      <td>Men_On</td>\n",
       "      <td>31.44</td>\n",
       "      <td>4.0</td>\n",
       "      <td>3.0</td>\n",
       "      <td>0.0</td>\n",
       "      <td>0.0</td>\n",
       "      <td>1.0-2.0</td>\n",
       "    </tr>\n",
       "    <tr>\n",
       "      <th>3</th>\n",
       "      <td>Kendrys Morales</td>\n",
       "      <td>0.0</td>\n",
       "      <td>1.0</td>\n",
       "      <td>0.0</td>\n",
       "      <td>0</td>\n",
       "      <td>Matt Chapman</td>\n",
       "      <td>0.508</td>\n",
       "      <td>0.864</td>\n",
       "      <td>8.2</td>\n",
       "      <td>70</td>\n",
       "      <td>top</td>\n",
       "      <td>9</td>\n",
       "      <td>Ball - Called</td>\n",
       "      <td>Ball</td>\n",
       "      <td>R</td>\n",
       "      <td>R</td>\n",
       "      <td>434778</td>\n",
       "      <td>Men_On</td>\n",
       "      <td>2.66</td>\n",
       "      <td>14.0</td>\n",
       "      <td>4.0</td>\n",
       "      <td>0.0</td>\n",
       "      <td>0.0</td>\n",
       "      <td>2.0-2.0</td>\n",
       "    </tr>\n",
       "    <tr>\n",
       "      <th>4</th>\n",
       "      <td>Kendrys Morales</td>\n",
       "      <td>0.0</td>\n",
       "      <td>1.0</td>\n",
       "      <td>0.0</td>\n",
       "      <td>0</td>\n",
       "      <td>Matt Chapman</td>\n",
       "      <td>0.508</td>\n",
       "      <td>0.864</td>\n",
       "      <td>8.2</td>\n",
       "      <td>70</td>\n",
       "      <td>top</td>\n",
       "      <td>9</td>\n",
       "      <td>Ball - Called</td>\n",
       "      <td>Ball</td>\n",
       "      <td>R</td>\n",
       "      <td>R</td>\n",
       "      <td>434778</td>\n",
       "      <td>Men_On</td>\n",
       "      <td>3.82</td>\n",
       "      <td>14.0</td>\n",
       "      <td>5.0</td>\n",
       "      <td>0.0</td>\n",
       "      <td>0.0</td>\n",
       "      <td>3.0-2.0</td>\n",
       "    </tr>\n",
       "    <tr>\n",
       "      <th>5</th>\n",
       "      <td>Kendrys Morales</td>\n",
       "      <td>0.0</td>\n",
       "      <td>1.0</td>\n",
       "      <td>0.0</td>\n",
       "      <td>0</td>\n",
       "      <td>Matt Chapman</td>\n",
       "      <td>0.508</td>\n",
       "      <td>0.864</td>\n",
       "      <td>8.2</td>\n",
       "      <td>70</td>\n",
       "      <td>top</td>\n",
       "      <td>9</td>\n",
       "      <td>Ball - Called</td>\n",
       "      <td>Ball</td>\n",
       "      <td>R</td>\n",
       "      <td>R</td>\n",
       "      <td>434778</td>\n",
       "      <td>Men_On</td>\n",
       "      <td>35.64</td>\n",
       "      <td>11.0</td>\n",
       "      <td>6.0</td>\n",
       "      <td>0.0</td>\n",
       "      <td>0.0</td>\n",
       "      <td>4.0-2.0</td>\n",
       "    </tr>\n",
       "  </tbody>\n",
       "</table>\n",
       "</div>"
      ],
      "text/plain": [
       "           pitcher  WAR_x  WHIP  ERA  SO        hitter    SLG    OPS  WAR_y  \\\n",
       "1  Kendrys Morales    0.0   1.0  0.0   0  Matt Chapman  0.508  0.864    8.2   \n",
       "2  Kendrys Morales    0.0   1.0  0.0   0  Matt Chapman  0.508  0.864    8.2   \n",
       "3  Kendrys Morales    0.0   1.0  0.0   0  Matt Chapman  0.508  0.864    8.2   \n",
       "4  Kendrys Morales    0.0   1.0  0.0   0  Matt Chapman  0.508  0.864    8.2   \n",
       "5  Kendrys Morales    0.0   1.0  0.0   0  Matt Chapman  0.508  0.864    8.2   \n",
       "\n",
       "   about.atBatIndex about.halfInning  about.inning details.call.description  \\\n",
       "1                70              top             9        Strike - Swinging   \n",
       "2                70              top             9        Strike - Swinging   \n",
       "3                70              top             9            Ball - Called   \n",
       "4                70              top             9            Ball - Called   \n",
       "5                70              top             9            Ball - Called   \n",
       "\n",
       "  details.description matchup.batSide.code matchup.pitchHand.code  \\\n",
       "1                Foul                    R                      R   \n",
       "2                Foul                    R                      R   \n",
       "3                Ball                    R                      R   \n",
       "4                Ball                    R                      R   \n",
       "5                Ball                    R                      R   \n",
       "\n",
       "   matchup.pitcher.id matchup.splits.menOnBase  pitchData.nastyFactor  \\\n",
       "1              434778                   Men_On                  32.94   \n",
       "2              434778                   Men_On                  31.44   \n",
       "3              434778                   Men_On                   2.66   \n",
       "4              434778                   Men_On                   3.82   \n",
       "5              434778                   Men_On                  35.64   \n",
       "\n",
       "   pitchData.zone  pitchNumber  pitch_type  prior_pitch_type    count  \n",
       "1             1.0          2.0         0.0               0.0  1.0-1.0  \n",
       "2             4.0          3.0         0.0               0.0  1.0-2.0  \n",
       "3            14.0          4.0         0.0               0.0  2.0-2.0  \n",
       "4            14.0          5.0         0.0               0.0  3.0-2.0  \n",
       "5            11.0          6.0         0.0               0.0  4.0-2.0  "
      ]
     },
     "execution_count": 7,
     "metadata": {},
     "output_type": "execute_result"
    }
   ],
   "source": [
    "final_df.head()"
   ]
  },
  {
   "cell_type": "markdown",
   "metadata": {},
   "source": [
    "---"
   ]
  },
  {
   "cell_type": "markdown",
   "metadata": {},
   "source": [
    "# Visualizing the Data"
   ]
  },
  {
   "cell_type": "code",
   "execution_count": 8,
   "metadata": {},
   "outputs": [],
   "source": [
    "# Heat Map of Pitches \n",
    "\n",
    "heat_x = final_df"
   ]
  },
  {
   "cell_type": "code",
   "execution_count": 9,
   "metadata": {},
   "outputs": [],
   "source": [
    "import seaborn as sns"
   ]
  },
  {
   "cell_type": "code",
   "execution_count": null,
   "metadata": {},
   "outputs": [],
   "source": []
  },
  {
   "cell_type": "code",
   "execution_count": null,
   "metadata": {},
   "outputs": [],
   "source": []
  },
  {
   "cell_type": "code",
   "execution_count": null,
   "metadata": {},
   "outputs": [],
   "source": []
  },
  {
   "cell_type": "markdown",
   "metadata": {},
   "source": [
    "---"
   ]
  },
  {
   "cell_type": "markdown",
   "metadata": {},
   "source": [
    "## Model Selection"
   ]
  },
  {
   "cell_type": "markdown",
   "metadata": {},
   "source": [
    "Define the classifier that will be used to run the model. A gradient boosted trees model was selected because it performed the highest during the intial EDA period. Intial EDA can be found in ```next_pitch/parameter_tuning``` & ```next_pitch/final_model```."
   ]
  },
  {
   "cell_type": "code",
   "execution_count": 10,
   "metadata": {},
   "outputs": [],
   "source": [
    "classifier = lib.GradientBoostingClassifier(n_estimators=200, max_depth=10)"
   ]
  },
  {
   "cell_type": "markdown",
   "metadata": {},
   "source": [
    "---"
   ]
  },
  {
   "cell_type": "markdown",
   "metadata": {},
   "source": [
    "## Dropping Final Columns "
   ]
  },
  {
   "cell_type": "markdown",
   "metadata": {},
   "source": [
    "Dropping columns from the data frame that cannot be entered by the user via the web app. The model was trained on past data with results in order to help it build a knowledge base on how different pitches effect hitters. When the user inputs their data into the model, a dictionary with hardcoded averages from original dataset is added to fill in the gaps. This isn't a perfect solution, and will be addressed in later versions."
   ]
  },
  {
   "cell_type": "code",
   "execution_count": 12,
   "metadata": {},
   "outputs": [],
   "source": [
    "final_df = final_df.drop(['about.atBatIndex', 'details.call.description', 'details.description', \n",
    "                                    'matchup.pitcher.id'], axis=1)"
   ]
  },
  {
   "cell_type": "markdown",
   "metadata": {},
   "source": [
    "# Collection of testing data"
   ]
  },
  {
   "cell_type": "markdown",
   "metadata": {},
   "source": [
    "Only data from 2019 is used in the test set so to avoid data leakage during the train test split."
   ]
  },
  {
   "cell_type": "code",
   "execution_count": 14,
   "metadata": {},
   "outputs": [],
   "source": [
    "test_data = data_collection.get_clean_data(start_date='05/01/2019', end_date='05/31/2019')"
   ]
  },
  {
   "cell_type": "markdown",
   "metadata": {},
   "source": [
    "Drop columns so that the shape of ```test_data``` matches ```final_df```"
   ]
  },
  {
   "cell_type": "code",
   "execution_count": 13,
   "metadata": {},
   "outputs": [
    {
     "ename": "NameError",
     "evalue": "name 'test_data' is not defined",
     "output_type": "error",
     "traceback": [
      "\u001b[0;31m---------------------------------------------------------------------------\u001b[0m",
      "\u001b[0;31mNameError\u001b[0m                                 Traceback (most recent call last)",
      "\u001b[0;32m<ipython-input-13-6803cb6a7cc4>\u001b[0m in \u001b[0;36m<module>\u001b[0;34m()\u001b[0m\n\u001b[0;32m----> 1\u001b[0;31m test_data = test_data.drop(['about.atBatIndex', 'details.call.description', 'details.description', \n\u001b[0m\u001b[1;32m      2\u001b[0m                                     'matchup.pitcher.id'], axis=1)\n",
      "\u001b[0;31mNameError\u001b[0m: name 'test_data' is not defined"
     ]
    }
   ],
   "source": [
    "test_data = test_data.drop(['about.atBatIndex', 'details.call.description', 'details.description', \n",
    "                                    'matchup.pitcher.id'], axis=1)"
   ]
  },
  {
   "cell_type": "code",
   "execution_count": null,
   "metadata": {},
   "outputs": [],
   "source": [
    "test_data.head(5)"
   ]
  },
  {
   "cell_type": "markdown",
   "metadata": {},
   "source": [
    "## Defining the test and target variables.\n",
    "These are entered into the function as ```X_test``` & ```y_test```. By using current data, it ensures that the model has had absolelty zero interaction with the new data and will output the most accurate results."
   ]
  },
  {
   "cell_type": "code",
   "execution_count": null,
   "metadata": {},
   "outputs": [],
   "source": [
    "test_target = test_data['pitch_type']"
   ]
  },
  {
   "cell_type": "code",
   "execution_count": null,
   "metadata": {},
   "outputs": [],
   "source": [
    "test_predictors = test_data.drop(['pitch_type'], axis=1).copy()"
   ]
  },
  {
   "cell_type": "markdown",
   "metadata": {},
   "source": [
    "Creating a demo row for our model to predict upon. This is simulating the user input experience during deployment."
   ]
  },
  {
   "cell_type": "code",
   "execution_count": null,
   "metadata": {},
   "outputs": [],
   "source": [
    "testing = test_predictors[-442:-441]\n",
    "testing"
   ]
  },
  {
   "cell_type": "markdown",
   "metadata": {},
   "source": [
    "## Final Modeling\n",
    "The original model, which can be run directly below this cell was imported as a ```.pkl``` file and will be used to make predictions"
   ]
  },
  {
   "cell_type": "code",
   "execution_count": null,
   "metadata": {},
   "outputs": [],
   "source": [
    "import pickle"
   ]
  },
  {
   "cell_type": "code",
   "execution_count": null,
   "metadata": {},
   "outputs": [],
   "source": [
    "with open('next_pitch/web_app/final.pkl', 'rb') as f:\n",
    "    model = pickle.load(f)"
   ]
  },
  {
   "cell_type": "code",
   "execution_count": null,
   "metadata": {},
   "outputs": [],
   "source": [
    "model.predict(testing)"
   ]
  },
  {
   "cell_type": "markdown",
   "metadata": {},
   "source": [
    "# Evaluation"
   ]
  },
  {
   "cell_type": "code",
   "execution_count": null,
   "metadata": {},
   "outputs": [],
   "source": [
    "test_data[-442:-441]['pitch_type']"
   ]
  },
  {
   "cell_type": "markdown",
   "metadata": {},
   "source": [
    "----"
   ]
  },
  {
   "cell_type": "markdown",
   "metadata": {},
   "source": [
    "### 1 = Fastball\n",
    "### 0 = Off_Speed\n",
    "### The model predicted a Fastball"
   ]
  },
  {
   "cell_type": "markdown",
   "metadata": {},
   "source": [
    "---"
   ]
  },
  {
   "cell_type": "markdown",
   "metadata": {},
   "source": [
    "# Run Original Model"
   ]
  },
  {
   "cell_type": "markdown",
   "metadata": {},
   "source": [
    "final_model = ("
   ]
  },
  {
   "cell_type": "code",
   "execution_count": 325,
   "metadata": {},
   "outputs": [],
   "source": []
  }
 ],
 "metadata": {
  "kernelspec": {
   "display_name": "learn-env",
   "language": "python",
   "name": "learn-env"
  },
  "language_info": {
   "codemirror_mode": {
    "name": "ipython",
    "version": 3
   },
   "file_extension": ".py",
   "mimetype": "text/x-python",
   "name": "python",
   "nbconvert_exporter": "python",
   "pygments_lexer": "ipython3",
   "version": "3.7.0"
  }
 },
 "nbformat": 4,
 "nbformat_minor": 2
}
