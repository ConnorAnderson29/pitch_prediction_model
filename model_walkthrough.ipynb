{
 "cells": [
  {
   "cell_type": "markdown",
   "metadata": {},
   "source": [
    "## A Step-by-Step Walkthrough of the Next Pitch Prediction Model. \n"
   ]
  },
  {
   "cell_type": "markdown",
   "metadata": {},
   "source": [
    "#### Importing the necessary libraries"
   ]
  },
  {
   "cell_type": "code",
   "execution_count": 75,
   "metadata": {},
   "outputs": [],
   "source": [
    "import next_pitch\n",
    "from next_pitch import library as lib\n",
    "from next_pitch import pitch_functions\n",
    "from next_pitch import data_collection\n",
    "import os"
   ]
  },
  {
   "cell_type": "code",
   "execution_count": 76,
   "metadata": {},
   "outputs": [],
   "source": [
    "os.environ['KMP_DUPLICATE_LIB_OK']='True'"
   ]
  },
  {
   "cell_type": "markdown",
   "metadata": {},
   "source": [
    "## Load Data\n",
    "\n",
    "The data used in this model is too large to store as a ```csv``` file on Github, so for the purpose of the walkthrough the data must be collected fresh using ```statsapi```. The function ```get_clean_data``` uses several other functions found in the ```data_collection.py``` file to pull in data, clean it and return a dataframe of all pitches thrown in every Major League Baseball game during the specified period."
   ]
  },
  {
   "cell_type": "code",
   "execution_count": 77,
   "metadata": {},
   "outputs": [],
   "source": [
    "# pitch_data = data_collection.get_clean_data(start_date='03/28/2018', end_date='10/02/2018')"
   ]
  },
  {
   "cell_type": "code",
   "execution_count": 78,
   "metadata": {},
   "outputs": [],
   "source": [
    "# len(pitch_data)"
   ]
  },
  {
   "cell_type": "markdown",
   "metadata": {},
   "source": [
    "## Create Binary Labels for Pitch Prediction: Fastball = 1 and Offspeed = 0.\n",
    "\n",
    "Using the ```binarize_target``` as the final cleaning measure for our data. This function turns the target variable 'pitch_type' into a a binary outcome. A pitcher's main goal to confuse the hitters timing, and by helping a hitter recognize fastball vs non-fastball that will go along way as to helping them become a better hitter.\n",
    "\n",
    "This step wasn't added to the intial cleaning because for future models, I am looking to create an accurate that model that can specify three different types of pitches."
   ]
  },
  {
   "cell_type": "code",
   "execution_count": 79,
   "metadata": {},
   "outputs": [],
   "source": [
    "# final_df = data_collection.binarize_target(pitch_data)"
   ]
  },
  {
   "cell_type": "code",
   "execution_count": 80,
   "metadata": {},
   "outputs": [],
   "source": [
    "# final_df.to_csv(r'raw_data/all_2018_pitches.csv', sep=',', encoding='utf-8')"
   ]
  },
  {
   "cell_type": "code",
   "execution_count": 81,
   "metadata": {},
   "outputs": [],
   "source": [
    "# final_df.head()"
   ]
  },
  {
   "cell_type": "markdown",
   "metadata": {},
   "source": [
    "## Model Creation"
   ]
  },
  {
   "cell_type": "markdown",
   "metadata": {},
   "source": [
    "Define the classifier that will be used to run the model. A gradient boosted trees model was selected because it performed the highest during the intial EDA period. "
   ]
  },
  {
   "cell_type": "code",
   "execution_count": 82,
   "metadata": {},
   "outputs": [],
   "source": [
    "classifier = lib.GradientBoostingClassifier(n_estimators=200, max_depth=10)"
   ]
  },
  {
   "cell_type": "markdown",
   "metadata": {},
   "source": [
    "Create a testing parameter so model example. This uses a line from a unseen data source that will test the outcome of the model for example purposes. For the purposes of this test, the line is taken from game data from the 2019 season. "
   ]
  },
  {
   "cell_type": "markdown",
   "metadata": {},
   "source": [
    "# Collection of testing data"
   ]
  },
  {
   "cell_type": "markdown",
   "metadata": {},
   "source": [
    "One of the issues with predicitng the next pitch live is that the MLB doesn't immeadtiley update various columns that are used in the original model. To work around this, I have created "
   ]
  },
  {
   "cell_type": "code",
   "execution_count": 4,
   "metadata": {},
   "outputs": [],
   "source": [
    "final_df_test = lib.pd.read_csv('raw_data/all_2018_pitches.csv')"
   ]
  },
  {
   "cell_type": "code",
   "execution_count": 5,
   "metadata": {},
   "outputs": [],
   "source": [
    "final_df_test = final_df_test.drop(['Unnamed: 0', 'about.atBatIndex', 'details.call.description', 'details.description', \n",
    "                                    'matchup.pitcher.id'], axis=1)"
   ]
  },
  {
   "cell_type": "code",
   "execution_count": 6,
   "metadata": {},
   "outputs": [],
   "source": [
    "# test_data = data_collection.get_clean_data(start_date='05/06/2019', end_date='07/06/2019')"
   ]
  },
  {
   "cell_type": "code",
   "execution_count": 7,
   "metadata": {},
   "outputs": [],
   "source": [
    "# test_data.to_csv(r'raw_data/2019_test_pitches.csv', sep=',', encoding='utf-8')"
   ]
  },
  {
   "cell_type": "code",
   "execution_count": 8,
   "metadata": {},
   "outputs": [],
   "source": [
    "test_data1 = lib.pd.read_csv('raw_data/2019_test_pitches.csv')"
   ]
  },
  {
   "cell_type": "code",
   "execution_count": 9,
   "metadata": {},
   "outputs": [],
   "source": [
    "test_data = test_data1.drop(['Unnamed: 0', 'about.atBatIndex', 'details.call.description', 'details.description', \n",
    "                                    'matchup.pitcher.id'], axis=1)"
   ]
  },
  {
   "cell_type": "code",
   "execution_count": 10,
   "metadata": {},
   "outputs": [
    {
     "data": {
      "text/html": [
       "<div>\n",
       "<style scoped>\n",
       "    .dataframe tbody tr th:only-of-type {\n",
       "        vertical-align: middle;\n",
       "    }\n",
       "\n",
       "    .dataframe tbody tr th {\n",
       "        vertical-align: top;\n",
       "    }\n",
       "\n",
       "    .dataframe thead th {\n",
       "        text-align: right;\n",
       "    }\n",
       "</style>\n",
       "<table border=\"1\" class=\"dataframe\">\n",
       "  <thead>\n",
       "    <tr style=\"text-align: right;\">\n",
       "      <th></th>\n",
       "      <th>pitcher</th>\n",
       "      <th>WAR_x</th>\n",
       "      <th>WHIP</th>\n",
       "      <th>ERA</th>\n",
       "      <th>SO</th>\n",
       "      <th>hitter</th>\n",
       "      <th>SLG</th>\n",
       "      <th>OPS</th>\n",
       "      <th>WAR_y</th>\n",
       "      <th>about.halfInning</th>\n",
       "      <th>about.inning</th>\n",
       "      <th>matchup.batSide.code</th>\n",
       "      <th>matchup.pitchHand.code</th>\n",
       "      <th>matchup.splits.menOnBase</th>\n",
       "      <th>pitchData.nastyFactor</th>\n",
       "      <th>pitchData.zone</th>\n",
       "      <th>pitchNumber</th>\n",
       "      <th>pitch_type</th>\n",
       "      <th>prior_pitch_type</th>\n",
       "      <th>count</th>\n",
       "    </tr>\n",
       "  </thead>\n",
       "  <tbody>\n",
       "    <tr>\n",
       "      <th>0</th>\n",
       "      <td>Kendrys Morales</td>\n",
       "      <td>0.0</td>\n",
       "      <td>1.0</td>\n",
       "      <td>0.0</td>\n",
       "      <td>0</td>\n",
       "      <td>Matt Chapman</td>\n",
       "      <td>0.508</td>\n",
       "      <td>0.864</td>\n",
       "      <td>8.2</td>\n",
       "      <td>top</td>\n",
       "      <td>9</td>\n",
       "      <td>R</td>\n",
       "      <td>R</td>\n",
       "      <td>Men_On</td>\n",
       "      <td>32.94</td>\n",
       "      <td>1.0</td>\n",
       "      <td>2.0</td>\n",
       "      <td>0.0</td>\n",
       "      <td>0.0</td>\n",
       "      <td>1.0-1.0</td>\n",
       "    </tr>\n",
       "    <tr>\n",
       "      <th>1</th>\n",
       "      <td>Kendrys Morales</td>\n",
       "      <td>0.0</td>\n",
       "      <td>1.0</td>\n",
       "      <td>0.0</td>\n",
       "      <td>0</td>\n",
       "      <td>Matt Chapman</td>\n",
       "      <td>0.508</td>\n",
       "      <td>0.864</td>\n",
       "      <td>8.2</td>\n",
       "      <td>top</td>\n",
       "      <td>9</td>\n",
       "      <td>R</td>\n",
       "      <td>R</td>\n",
       "      <td>Men_On</td>\n",
       "      <td>31.44</td>\n",
       "      <td>4.0</td>\n",
       "      <td>3.0</td>\n",
       "      <td>0.0</td>\n",
       "      <td>0.0</td>\n",
       "      <td>1.0-2.0</td>\n",
       "    </tr>\n",
       "    <tr>\n",
       "      <th>2</th>\n",
       "      <td>Kendrys Morales</td>\n",
       "      <td>0.0</td>\n",
       "      <td>1.0</td>\n",
       "      <td>0.0</td>\n",
       "      <td>0</td>\n",
       "      <td>Matt Chapman</td>\n",
       "      <td>0.508</td>\n",
       "      <td>0.864</td>\n",
       "      <td>8.2</td>\n",
       "      <td>top</td>\n",
       "      <td>9</td>\n",
       "      <td>R</td>\n",
       "      <td>R</td>\n",
       "      <td>Men_On</td>\n",
       "      <td>2.66</td>\n",
       "      <td>14.0</td>\n",
       "      <td>4.0</td>\n",
       "      <td>0.0</td>\n",
       "      <td>0.0</td>\n",
       "      <td>2.0-2.0</td>\n",
       "    </tr>\n",
       "    <tr>\n",
       "      <th>3</th>\n",
       "      <td>Kendrys Morales</td>\n",
       "      <td>0.0</td>\n",
       "      <td>1.0</td>\n",
       "      <td>0.0</td>\n",
       "      <td>0</td>\n",
       "      <td>Matt Chapman</td>\n",
       "      <td>0.508</td>\n",
       "      <td>0.864</td>\n",
       "      <td>8.2</td>\n",
       "      <td>top</td>\n",
       "      <td>9</td>\n",
       "      <td>R</td>\n",
       "      <td>R</td>\n",
       "      <td>Men_On</td>\n",
       "      <td>3.82</td>\n",
       "      <td>14.0</td>\n",
       "      <td>5.0</td>\n",
       "      <td>0.0</td>\n",
       "      <td>0.0</td>\n",
       "      <td>3.0-2.0</td>\n",
       "    </tr>\n",
       "    <tr>\n",
       "      <th>4</th>\n",
       "      <td>Kendrys Morales</td>\n",
       "      <td>0.0</td>\n",
       "      <td>1.0</td>\n",
       "      <td>0.0</td>\n",
       "      <td>0</td>\n",
       "      <td>Matt Chapman</td>\n",
       "      <td>0.508</td>\n",
       "      <td>0.864</td>\n",
       "      <td>8.2</td>\n",
       "      <td>top</td>\n",
       "      <td>9</td>\n",
       "      <td>R</td>\n",
       "      <td>R</td>\n",
       "      <td>Men_On</td>\n",
       "      <td>35.64</td>\n",
       "      <td>11.0</td>\n",
       "      <td>6.0</td>\n",
       "      <td>0.0</td>\n",
       "      <td>0.0</td>\n",
       "      <td>4.0-2.0</td>\n",
       "    </tr>\n",
       "  </tbody>\n",
       "</table>\n",
       "</div>"
      ],
      "text/plain": [
       "           pitcher  WAR_x  WHIP  ERA  SO        hitter    SLG    OPS  WAR_y  \\\n",
       "0  Kendrys Morales    0.0   1.0  0.0   0  Matt Chapman  0.508  0.864    8.2   \n",
       "1  Kendrys Morales    0.0   1.0  0.0   0  Matt Chapman  0.508  0.864    8.2   \n",
       "2  Kendrys Morales    0.0   1.0  0.0   0  Matt Chapman  0.508  0.864    8.2   \n",
       "3  Kendrys Morales    0.0   1.0  0.0   0  Matt Chapman  0.508  0.864    8.2   \n",
       "4  Kendrys Morales    0.0   1.0  0.0   0  Matt Chapman  0.508  0.864    8.2   \n",
       "\n",
       "  about.halfInning  about.inning matchup.batSide.code matchup.pitchHand.code  \\\n",
       "0              top             9                    R                      R   \n",
       "1              top             9                    R                      R   \n",
       "2              top             9                    R                      R   \n",
       "3              top             9                    R                      R   \n",
       "4              top             9                    R                      R   \n",
       "\n",
       "  matchup.splits.menOnBase  pitchData.nastyFactor  pitchData.zone  \\\n",
       "0                   Men_On                  32.94             1.0   \n",
       "1                   Men_On                  31.44             4.0   \n",
       "2                   Men_On                   2.66            14.0   \n",
       "3                   Men_On                   3.82            14.0   \n",
       "4                   Men_On                  35.64            11.0   \n",
       "\n",
       "   pitchNumber  pitch_type  prior_pitch_type    count  \n",
       "0          2.0         0.0               0.0  1.0-1.0  \n",
       "1          3.0         0.0               0.0  1.0-2.0  \n",
       "2          4.0         0.0               0.0  2.0-2.0  \n",
       "3          5.0         0.0               0.0  3.0-2.0  \n",
       "4          6.0         0.0               0.0  4.0-2.0  "
      ]
     },
     "execution_count": 10,
     "metadata": {},
     "output_type": "execute_result"
    }
   ],
   "source": [
    "final_df_test.head()"
   ]
  },
  {
   "cell_type": "code",
   "execution_count": 11,
   "metadata": {},
   "outputs": [
    {
     "data": {
      "text/html": [
       "<div>\n",
       "<style scoped>\n",
       "    .dataframe tbody tr th:only-of-type {\n",
       "        vertical-align: middle;\n",
       "    }\n",
       "\n",
       "    .dataframe tbody tr th {\n",
       "        vertical-align: top;\n",
       "    }\n",
       "\n",
       "    .dataframe thead th {\n",
       "        text-align: right;\n",
       "    }\n",
       "</style>\n",
       "<table border=\"1\" class=\"dataframe\">\n",
       "  <thead>\n",
       "    <tr style=\"text-align: right;\">\n",
       "      <th></th>\n",
       "      <th>pitcher</th>\n",
       "      <th>WAR_x</th>\n",
       "      <th>WHIP</th>\n",
       "      <th>ERA</th>\n",
       "      <th>SO</th>\n",
       "      <th>hitter</th>\n",
       "      <th>SLG</th>\n",
       "      <th>OPS</th>\n",
       "      <th>WAR_y</th>\n",
       "      <th>about.halfInning</th>\n",
       "      <th>about.inning</th>\n",
       "      <th>matchup.batSide.code</th>\n",
       "      <th>matchup.pitchHand.code</th>\n",
       "      <th>matchup.splits.menOnBase</th>\n",
       "      <th>pitchData.nastyFactor</th>\n",
       "      <th>pitchData.zone</th>\n",
       "      <th>pitchNumber</th>\n",
       "      <th>pitch_type</th>\n",
       "      <th>prior_pitch_type</th>\n",
       "      <th>count</th>\n",
       "    </tr>\n",
       "  </thead>\n",
       "  <tbody>\n",
       "    <tr>\n",
       "      <th>0</th>\n",
       "      <td>Pablo Sandoval</td>\n",
       "      <td>0.0</td>\n",
       "      <td>0.00</td>\n",
       "      <td>0.0</td>\n",
       "      <td>0</td>\n",
       "      <td>Jose Peraza</td>\n",
       "      <td>0.416</td>\n",
       "      <td>0.742</td>\n",
       "      <td>2.3</td>\n",
       "      <td>bottom</td>\n",
       "      <td>8</td>\n",
       "      <td>R</td>\n",
       "      <td>R</td>\n",
       "      <td>Men_On</td>\n",
       "      <td>35.326612</td>\n",
       "      <td>12.0</td>\n",
       "      <td>2.0</td>\n",
       "      <td>0.0</td>\n",
       "      <td>0.0</td>\n",
       "      <td>1.0-1.0</td>\n",
       "    </tr>\n",
       "    <tr>\n",
       "      <th>1</th>\n",
       "      <td>Pablo Sandoval</td>\n",
       "      <td>0.0</td>\n",
       "      <td>0.00</td>\n",
       "      <td>0.0</td>\n",
       "      <td>0</td>\n",
       "      <td>Jose Peraza</td>\n",
       "      <td>0.416</td>\n",
       "      <td>0.742</td>\n",
       "      <td>2.3</td>\n",
       "      <td>bottom</td>\n",
       "      <td>8</td>\n",
       "      <td>R</td>\n",
       "      <td>R</td>\n",
       "      <td>Men_On</td>\n",
       "      <td>35.326612</td>\n",
       "      <td>14.0</td>\n",
       "      <td>3.0</td>\n",
       "      <td>0.0</td>\n",
       "      <td>0.0</td>\n",
       "      <td>1.0-2.0</td>\n",
       "    </tr>\n",
       "    <tr>\n",
       "      <th>2</th>\n",
       "      <td>Pablo Sandoval</td>\n",
       "      <td>0.0</td>\n",
       "      <td>0.00</td>\n",
       "      <td>0.0</td>\n",
       "      <td>0</td>\n",
       "      <td>Jose Peraza</td>\n",
       "      <td>0.416</td>\n",
       "      <td>0.742</td>\n",
       "      <td>2.3</td>\n",
       "      <td>bottom</td>\n",
       "      <td>8</td>\n",
       "      <td>R</td>\n",
       "      <td>R</td>\n",
       "      <td>Men_On</td>\n",
       "      <td>35.326612</td>\n",
       "      <td>11.0</td>\n",
       "      <td>4.0</td>\n",
       "      <td>0.0</td>\n",
       "      <td>0.0</td>\n",
       "      <td>2.0-2.0</td>\n",
       "    </tr>\n",
       "    <tr>\n",
       "      <th>3</th>\n",
       "      <td>Aaron Brooks</td>\n",
       "      <td>0.1</td>\n",
       "      <td>1.13</td>\n",
       "      <td>0.0</td>\n",
       "      <td>1</td>\n",
       "      <td>Joey Wendle</td>\n",
       "      <td>0.435</td>\n",
       "      <td>0.789</td>\n",
       "      <td>4.3</td>\n",
       "      <td>top</td>\n",
       "      <td>7</td>\n",
       "      <td>L</td>\n",
       "      <td>R</td>\n",
       "      <td>Men_On</td>\n",
       "      <td>35.326612</td>\n",
       "      <td>11.0</td>\n",
       "      <td>2.0</td>\n",
       "      <td>1.0</td>\n",
       "      <td>1.0</td>\n",
       "      <td>0.0-2.0</td>\n",
       "    </tr>\n",
       "    <tr>\n",
       "      <th>4</th>\n",
       "      <td>Aaron Brooks</td>\n",
       "      <td>0.1</td>\n",
       "      <td>1.13</td>\n",
       "      <td>0.0</td>\n",
       "      <td>1</td>\n",
       "      <td>Joey Wendle</td>\n",
       "      <td>0.435</td>\n",
       "      <td>0.789</td>\n",
       "      <td>4.3</td>\n",
       "      <td>top</td>\n",
       "      <td>7</td>\n",
       "      <td>L</td>\n",
       "      <td>R</td>\n",
       "      <td>Men_On</td>\n",
       "      <td>35.326612</td>\n",
       "      <td>13.0</td>\n",
       "      <td>3.0</td>\n",
       "      <td>0.0</td>\n",
       "      <td>1.0</td>\n",
       "      <td>0.0-2.0</td>\n",
       "    </tr>\n",
       "  </tbody>\n",
       "</table>\n",
       "</div>"
      ],
      "text/plain": [
       "          pitcher  WAR_x  WHIP  ERA  SO       hitter    SLG    OPS  WAR_y  \\\n",
       "0  Pablo Sandoval    0.0  0.00  0.0   0  Jose Peraza  0.416  0.742    2.3   \n",
       "1  Pablo Sandoval    0.0  0.00  0.0   0  Jose Peraza  0.416  0.742    2.3   \n",
       "2  Pablo Sandoval    0.0  0.00  0.0   0  Jose Peraza  0.416  0.742    2.3   \n",
       "3    Aaron Brooks    0.1  1.13  0.0   1  Joey Wendle  0.435  0.789    4.3   \n",
       "4    Aaron Brooks    0.1  1.13  0.0   1  Joey Wendle  0.435  0.789    4.3   \n",
       "\n",
       "  about.halfInning  about.inning matchup.batSide.code matchup.pitchHand.code  \\\n",
       "0           bottom             8                    R                      R   \n",
       "1           bottom             8                    R                      R   \n",
       "2           bottom             8                    R                      R   \n",
       "3              top             7                    L                      R   \n",
       "4              top             7                    L                      R   \n",
       "\n",
       "  matchup.splits.menOnBase  pitchData.nastyFactor  pitchData.zone  \\\n",
       "0                   Men_On              35.326612            12.0   \n",
       "1                   Men_On              35.326612            14.0   \n",
       "2                   Men_On              35.326612            11.0   \n",
       "3                   Men_On              35.326612            11.0   \n",
       "4                   Men_On              35.326612            13.0   \n",
       "\n",
       "   pitchNumber  pitch_type  prior_pitch_type    count  \n",
       "0          2.0         0.0               0.0  1.0-1.0  \n",
       "1          3.0         0.0               0.0  1.0-2.0  \n",
       "2          4.0         0.0               0.0  2.0-2.0  \n",
       "3          2.0         1.0               1.0  0.0-2.0  \n",
       "4          3.0         0.0               1.0  0.0-2.0  "
      ]
     },
     "execution_count": 11,
     "metadata": {},
     "output_type": "execute_result"
    }
   ],
   "source": [
    "test_data.head()"
   ]
  },
  {
   "cell_type": "code",
   "execution_count": 12,
   "metadata": {},
   "outputs": [],
   "source": [
    "#nasty_factor_mean = final_df_test['pitchData.nastyFactor'].mean()"
   ]
  },
  {
   "cell_type": "code",
   "execution_count": 13,
   "metadata": {},
   "outputs": [],
   "source": [
    "#test_data['pitchData.nastyFactor'] = test_data['pitchData.nastyFactor'].fillna(value=nasty_factor_mean)"
   ]
  },
  {
   "cell_type": "code",
   "execution_count": 169,
   "metadata": {},
   "outputs": [],
   "source": [
    "test_target = test_data['pitch_type']"
   ]
  },
  {
   "cell_type": "code",
   "execution_count": 170,
   "metadata": {},
   "outputs": [],
   "source": [
    "test_predictors = test_data.drop(['pitch_type'], axis=1).copy()"
   ]
  },
  {
   "cell_type": "code",
   "execution_count": 171,
   "metadata": {},
   "outputs": [
    {
     "data": {
      "text/html": [
       "<div>\n",
       "<style scoped>\n",
       "    .dataframe tbody tr th:only-of-type {\n",
       "        vertical-align: middle;\n",
       "    }\n",
       "\n",
       "    .dataframe tbody tr th {\n",
       "        vertical-align: top;\n",
       "    }\n",
       "\n",
       "    .dataframe thead th {\n",
       "        text-align: right;\n",
       "    }\n",
       "</style>\n",
       "<table border=\"1\" class=\"dataframe\">\n",
       "  <thead>\n",
       "    <tr style=\"text-align: right;\">\n",
       "      <th></th>\n",
       "      <th>pitcher</th>\n",
       "      <th>WAR_x</th>\n",
       "      <th>WHIP</th>\n",
       "      <th>ERA</th>\n",
       "      <th>SO</th>\n",
       "      <th>hitter</th>\n",
       "      <th>SLG</th>\n",
       "      <th>OPS</th>\n",
       "      <th>WAR_y</th>\n",
       "      <th>about.halfInning</th>\n",
       "      <th>about.inning</th>\n",
       "      <th>matchup.batSide.code</th>\n",
       "      <th>matchup.pitchHand.code</th>\n",
       "      <th>matchup.splits.menOnBase</th>\n",
       "      <th>pitchData.nastyFactor</th>\n",
       "      <th>pitchData.zone</th>\n",
       "      <th>pitchNumber</th>\n",
       "      <th>prior_pitch_type</th>\n",
       "      <th>count</th>\n",
       "    </tr>\n",
       "  </thead>\n",
       "  <tbody>\n",
       "    <tr>\n",
       "      <th>147932</th>\n",
       "      <td>John Means</td>\n",
       "      <td>-0.2</td>\n",
       "      <td>1.8</td>\n",
       "      <td>13.5</td>\n",
       "      <td>4</td>\n",
       "      <td>Jeff Mathis</td>\n",
       "      <td>0.272</td>\n",
       "      <td>0.544</td>\n",
       "      <td>0.2</td>\n",
       "      <td>bottom</td>\n",
       "      <td>5</td>\n",
       "      <td>R</td>\n",
       "      <td>L</td>\n",
       "      <td>Men_On</td>\n",
       "      <td>35.326612</td>\n",
       "      <td>6.0</td>\n",
       "      <td>3.0</td>\n",
       "      <td>0.0</td>\n",
       "      <td>2.0-1.0</td>\n",
       "    </tr>\n",
       "  </tbody>\n",
       "</table>\n",
       "</div>"
      ],
      "text/plain": [
       "           pitcher  WAR_x  WHIP   ERA  SO       hitter    SLG    OPS  WAR_y  \\\n",
       "147932  John Means   -0.2   1.8  13.5   4  Jeff Mathis  0.272  0.544    0.2   \n",
       "\n",
       "       about.halfInning  about.inning matchup.batSide.code  \\\n",
       "147932           bottom             5                    R   \n",
       "\n",
       "       matchup.pitchHand.code matchup.splits.menOnBase  pitchData.nastyFactor  \\\n",
       "147932                      L                   Men_On              35.326612   \n",
       "\n",
       "        pitchData.zone  pitchNumber  prior_pitch_type    count  \n",
       "147932             6.0          3.0               0.0  2.0-1.0  "
      ]
     },
     "execution_count": 171,
     "metadata": {},
     "output_type": "execute_result"
    }
   ],
   "source": [
    "testing = test_predictors[-442:-441]\n",
    "testing"
   ]
  },
  {
   "cell_type": "code",
   "execution_count": 17,
   "metadata": {},
   "outputs": [
    {
     "name": "stdout",
     "output_type": "stream",
     "text": [
      "Accuracy:0.694\n",
      "F1-Score: 0.693\n",
      "AUC: 0.682\n",
      "None\n"
     ]
    }
   ],
   "source": [
    "# final = pitch_functions.final_model(X_test=test_predictors, y_test=test_target, dataframe=final_df_test, classifier=classifier)"
   ]
  },
  {
   "cell_type": "code",
   "execution_count": 19,
   "metadata": {},
   "outputs": [],
   "source": [
    "import pickle"
   ]
  },
  {
   "cell_type": "code",
   "execution_count": 20,
   "metadata": {},
   "outputs": [],
   "source": [
    "with open('final_test.pkl', 'wb') as f:\n",
    "    pickle.dump(final, f)"
   ]
  },
  {
   "cell_type": "code",
   "execution_count": 234,
   "metadata": {},
   "outputs": [],
   "source": [
    "# user_input = {'pitcher' : 'Justin Verlander',\n",
    "# 'hitter' :'Dee Gordon',\n",
    "# 'about.halfInning' : 'top',\n",
    "# 'about.inning' : [8],\n",
    "# 'matchup.batSide.code' : 'R',\n",
    "# 'count_false' : '2.0-2.0',\n",
    "# 'matchup.pitchHand.code' : 'L',\n",
    "# 'matchup.splits.menOnBase' : 'Men_On',\n",
    "# 'pitchData.nastyFactor': 0,\n",
    "#  'pitchData.zone' : 0,\n",
    "# 'pitchNumber' : 44,\n",
    "# 'pitch_type' : 0,\n",
    "# 'prior_pitch_type' : [0]}"
   ]
  },
  {
   "cell_type": "code",
   "execution_count": 280,
   "metadata": {},
   "outputs": [],
   "source": [
    "user_input = {'prior_pitch_type': '1', 'pitchNumber': 88.0, 'matchup.splits.menOnBase': 'Men_On', 'matchup.pitchHand.code': 'R', 'matchup.batSide.code': 'L', 'about.halfInning': 'top', 'about.inning': '6', 'hitter': 'Dee Gordon', 'pitcher': 'Justin Verlander', 'pitch_type': 1, 'pitchData.nastyFactor': 35.326, 'pitchData.zone': 9.8751, 'count': '1.0-1.0'}\n"
   ]
  },
  {
   "cell_type": "code",
   "execution_count": 275,
   "metadata": {},
   "outputs": [
    {
     "ename": "SyntaxError",
     "evalue": "invalid syntax (<ipython-input-275-c6a365d6ae90>, line 13)",
     "output_type": "error",
     "traceback": [
      "\u001b[0;36m  File \u001b[0;32m\"<ipython-input-275-c6a365d6ae90>\"\u001b[0;36m, line \u001b[0;32m13\u001b[0m\n\u001b[0;31m    'count_false' : user_input['count_false']\u001b[0m\n\u001b[0m                  ^\u001b[0m\n\u001b[0;31mSyntaxError\u001b[0m\u001b[0;31m:\u001b[0m invalid syntax\n"
     ]
    }
   ],
   "source": [
    "new_dict = {'pitcher' : user_input['pitcher'],\n",
    "'Dee Gordon': user_input['hitter'] ,\n",
    "'about.halfInning' : user_input['about.halfInning'],\n",
    "'about.inning' :user_input['about.inning'],\n",
    "'matchup.batSide.code' : user_input['matchup.batSide.code'],\n",
    "'matchup.pitchHand.code' : user_input['matchup.pitchHand.code'],\n",
    "'matchup.splits.menOnBase' : user_input['matchup.splits.menOnBase'],\n",
    "'pitchData.nastyFactor': user_input['pitchData.nastyFactor'],\n",
    "'pitchData.zone' : user_input['pitchData.zone'],\n",
    "'pitchNumber' :user_input['pitchNumber'],\n",
    "'pitch_type' :user_input['pitch_type'],\n",
    "'prior_pitch_type' : [user_input['prior_pitch_type'],\n",
    "'count' : user_input['count_false']\n",
    "                      }"
   ]
  },
  {
   "cell_type": "code",
   "execution_count": 265,
   "metadata": {},
   "outputs": [
    {
     "ename": "TypeError",
     "evalue": "'set' object is not subscriptable",
     "output_type": "error",
     "traceback": [
      "\u001b[0;31m---------------------------------------------------------------------------\u001b[0m",
      "\u001b[0;31mTypeError\u001b[0m                                 Traceback (most recent call last)",
      "\u001b[0;32m<ipython-input-265-6be6809178d7>\u001b[0m in \u001b[0;36m<module>\u001b[0;34m()\u001b[0m\n\u001b[0;32m----> 1\u001b[0;31m \u001b[0muser_input\u001b[0m\u001b[0;34m[\u001b[0m\u001b[0;34m'count'\u001b[0m\u001b[0;34m]\u001b[0m \u001b[0;34m=\u001b[0m \u001b[0muser_input\u001b[0m\u001b[0;34m[\u001b[0m\u001b[0;34m'count_false'\u001b[0m\u001b[0;34m]\u001b[0m\u001b[0;34m\u001b[0m\u001b[0m\n\u001b[0m",
      "\u001b[0;31mTypeError\u001b[0m: 'set' object is not subscriptable"
     ]
    }
   ],
   "source": [
    "user_input['count'] = user_input['count_false']"
   ]
  },
  {
   "cell_type": "code",
   "execution_count": 281,
   "metadata": {},
   "outputs": [
    {
     "data": {
      "text/plain": [
       "{'prior_pitch_type': '1',\n",
       " 'pitchNumber': 88.0,\n",
       " 'matchup.splits.menOnBase': 'Men_On',\n",
       " 'matchup.pitchHand.code': 'R',\n",
       " 'matchup.batSide.code': 'L',\n",
       " 'about.halfInning': 'top',\n",
       " 'about.inning': '6',\n",
       " 'hitter': 'Dee Gordon',\n",
       " 'pitcher': 'Justin Verlander',\n",
       " 'pitch_type': 1,\n",
       " 'pitchData.nastyFactor': 35.326,\n",
       " 'pitchData.zone': 9.8751,\n",
       " 'count': '1.0-1.0'}"
      ]
     },
     "execution_count": 281,
     "metadata": {},
     "output_type": "execute_result"
    }
   ],
   "source": [
    "user_input"
   ]
  },
  {
   "cell_type": "code",
   "execution_count": 282,
   "metadata": {},
   "outputs": [
    {
     "data": {
      "text/plain": [
       "dict"
      ]
     },
     "execution_count": 282,
     "metadata": {},
     "output_type": "execute_result"
    }
   ],
   "source": [
    "type(user_input)"
   ]
  },
  {
   "cell_type": "code",
   "execution_count": 238,
   "metadata": {},
   "outputs": [],
   "source": [
    "live_df = lib.pd.DataFrame.from_dict(user_input)"
   ]
  },
  {
   "cell_type": "code",
   "execution_count": 239,
   "metadata": {},
   "outputs": [],
   "source": [
    "created_test = data_collection.merge_player_stats(live_df)"
   ]
  },
  {
   "cell_type": "code",
   "execution_count": 328,
   "metadata": {},
   "outputs": [
    {
     "name": "stdout",
     "output_type": "stream",
     "text": [
      "<class 'pandas.core.frame.DataFrame'>\n",
      "RangeIndex: 553609 entries, 0 to 553608\n",
      "Data columns (total 20 columns):\n",
      "pitcher                     553609 non-null object\n",
      "WAR_x                       553609 non-null float64\n",
      "WHIP                        553609 non-null float64\n",
      "ERA                         553609 non-null float64\n",
      "SO                          553609 non-null int64\n",
      "hitter                      553609 non-null object\n",
      "SLG                         553609 non-null float64\n",
      "OPS                         553609 non-null float64\n",
      "WAR_y                       553609 non-null float64\n",
      "about.halfInning            553609 non-null object\n",
      "about.inning                553609 non-null int64\n",
      "matchup.batSide.code        553609 non-null object\n",
      "matchup.pitchHand.code      553609 non-null object\n",
      "matchup.splits.menOnBase    553609 non-null object\n",
      "pitchData.nastyFactor       553609 non-null float64\n",
      "pitchData.zone              553609 non-null float64\n",
      "pitchNumber                 553609 non-null float64\n",
      "pitch_type                  553609 non-null float64\n",
      "prior_pitch_type            553609 non-null float64\n",
      "count                       553609 non-null object\n",
      "dtypes: float64(11), int64(2), object(7)\n",
      "memory usage: 84.5+ MB\n"
     ]
    }
   ],
   "source": [
    "final_df_test.info()"
   ]
  },
  {
   "cell_type": "code",
   "execution_count": 240,
   "metadata": {},
   "outputs": [
    {
     "data": {
      "text/html": [
       "<div>\n",
       "<style scoped>\n",
       "    .dataframe tbody tr th:only-of-type {\n",
       "        vertical-align: middle;\n",
       "    }\n",
       "\n",
       "    .dataframe tbody tr th {\n",
       "        vertical-align: top;\n",
       "    }\n",
       "\n",
       "    .dataframe thead th {\n",
       "        text-align: right;\n",
       "    }\n",
       "</style>\n",
       "<table border=\"1\" class=\"dataframe\">\n",
       "  <thead>\n",
       "    <tr style=\"text-align: right;\">\n",
       "      <th></th>\n",
       "      <th>pitcher</th>\n",
       "      <th>WAR_x</th>\n",
       "      <th>WHIP</th>\n",
       "      <th>ERA</th>\n",
       "      <th>SO</th>\n",
       "      <th>hitter</th>\n",
       "      <th>SLG</th>\n",
       "      <th>OPS</th>\n",
       "      <th>WAR_y</th>\n",
       "      <th>about.halfInning</th>\n",
       "      <th>about.inning</th>\n",
       "      <th>matchup.batSide.code</th>\n",
       "      <th>matchup.pitchHand.code</th>\n",
       "      <th>matchup.splits.menOnBase</th>\n",
       "      <th>pitchData.nastyFactor</th>\n",
       "      <th>pitchData.zone</th>\n",
       "      <th>pitchNumber</th>\n",
       "      <th>pitch_type</th>\n",
       "      <th>prior_pitch_type</th>\n",
       "      <th>count</th>\n",
       "    </tr>\n",
       "  </thead>\n",
       "  <tbody>\n",
       "    <tr>\n",
       "      <th>0</th>\n",
       "      <td>Kendrys Morales</td>\n",
       "      <td>0.0</td>\n",
       "      <td>1.0</td>\n",
       "      <td>0.0</td>\n",
       "      <td>0</td>\n",
       "      <td>Matt Chapman</td>\n",
       "      <td>0.508</td>\n",
       "      <td>0.864</td>\n",
       "      <td>8.2</td>\n",
       "      <td>top</td>\n",
       "      <td>9</td>\n",
       "      <td>R</td>\n",
       "      <td>R</td>\n",
       "      <td>Men_On</td>\n",
       "      <td>32.94</td>\n",
       "      <td>1.0</td>\n",
       "      <td>2.0</td>\n",
       "      <td>0.0</td>\n",
       "      <td>0.0</td>\n",
       "      <td>1.0-1.0</td>\n",
       "    </tr>\n",
       "  </tbody>\n",
       "</table>\n",
       "</div>"
      ],
      "text/plain": [
       "           pitcher  WAR_x  WHIP  ERA  SO        hitter    SLG    OPS  WAR_y  \\\n",
       "0  Kendrys Morales    0.0   1.0  0.0   0  Matt Chapman  0.508  0.864    8.2   \n",
       "\n",
       "  about.halfInning  about.inning matchup.batSide.code matchup.pitchHand.code  \\\n",
       "0              top             9                    R                      R   \n",
       "\n",
       "  matchup.splits.menOnBase  pitchData.nastyFactor  pitchData.zone  \\\n",
       "0                   Men_On                  32.94             1.0   \n",
       "\n",
       "   pitchNumber  pitch_type  prior_pitch_type    count  \n",
       "0          2.0         0.0               0.0  1.0-1.0  "
      ]
     },
     "execution_count": 240,
     "metadata": {},
     "output_type": "execute_result"
    }
   ],
   "source": [
    "final_df_test.head(1)"
   ]
  },
  {
   "cell_type": "code",
   "execution_count": 241,
   "metadata": {},
   "outputs": [
    {
     "data": {
      "text/html": [
       "<div>\n",
       "<style scoped>\n",
       "    .dataframe tbody tr th:only-of-type {\n",
       "        vertical-align: middle;\n",
       "    }\n",
       "\n",
       "    .dataframe tbody tr th {\n",
       "        vertical-align: top;\n",
       "    }\n",
       "\n",
       "    .dataframe thead th {\n",
       "        text-align: right;\n",
       "    }\n",
       "</style>\n",
       "<table border=\"1\" class=\"dataframe\">\n",
       "  <thead>\n",
       "    <tr style=\"text-align: right;\">\n",
       "      <th></th>\n",
       "      <th>pitcher</th>\n",
       "      <th>WAR_x</th>\n",
       "      <th>WHIP</th>\n",
       "      <th>ERA</th>\n",
       "      <th>SO</th>\n",
       "      <th>hitter</th>\n",
       "      <th>SLG</th>\n",
       "      <th>OPS</th>\n",
       "      <th>WAR_y</th>\n",
       "      <th>about.halfInning</th>\n",
       "      <th>about.inning</th>\n",
       "      <th>matchup.batSide.code</th>\n",
       "      <th>count_false</th>\n",
       "      <th>matchup.pitchHand.code</th>\n",
       "      <th>matchup.splits.menOnBase</th>\n",
       "      <th>pitchData.nastyFactor</th>\n",
       "      <th>pitchData.zone</th>\n",
       "      <th>pitchNumber</th>\n",
       "      <th>pitch_type</th>\n",
       "      <th>prior_pitch_type</th>\n",
       "      <th>count</th>\n",
       "    </tr>\n",
       "  </thead>\n",
       "  <tbody>\n",
       "    <tr>\n",
       "      <th>0</th>\n",
       "      <td>Justin Verlander</td>\n",
       "      <td>6.2</td>\n",
       "      <td>0.9</td>\n",
       "      <td>2.52</td>\n",
       "      <td>290</td>\n",
       "      <td>Dee Gordon</td>\n",
       "      <td>0.349</td>\n",
       "      <td>0.637</td>\n",
       "      <td>0.6</td>\n",
       "      <td>top</td>\n",
       "      <td>8</td>\n",
       "      <td>R</td>\n",
       "      <td>2.0-2.0</td>\n",
       "      <td>L</td>\n",
       "      <td>Men_On</td>\n",
       "      <td>0</td>\n",
       "      <td>0</td>\n",
       "      <td>44</td>\n",
       "      <td>0</td>\n",
       "      <td>0</td>\n",
       "      <td>2.0-2.0</td>\n",
       "    </tr>\n",
       "  </tbody>\n",
       "</table>\n",
       "</div>"
      ],
      "text/plain": [
       "            pitcher  WAR_x  WHIP   ERA   SO      hitter    SLG    OPS  WAR_y  \\\n",
       "0  Justin Verlander    6.2   0.9  2.52  290  Dee Gordon  0.349  0.637    0.6   \n",
       "\n",
       "  about.halfInning  about.inning matchup.batSide.code count_false  \\\n",
       "0              top             8                    R     2.0-2.0   \n",
       "\n",
       "  matchup.pitchHand.code matchup.splits.menOnBase  pitchData.nastyFactor  \\\n",
       "0                      L                   Men_On                      0   \n",
       "\n",
       "   pitchData.zone  pitchNumber  pitch_type  prior_pitch_type    count  \n",
       "0               0           44           0                 0  2.0-2.0  "
      ]
     },
     "execution_count": 241,
     "metadata": {},
     "output_type": "execute_result"
    }
   ],
   "source": [
    "created_test"
   ]
  },
  {
   "cell_type": "code",
   "execution_count": 210,
   "metadata": {},
   "outputs": [],
   "source": [
    "# def format_user_input(pitcher, hitter, inning_type, inning_number, \n",
    "#                       pitcher_side, hitter_side, runners, prior_pitch, count):\n",
    "    "
   ]
  },
  {
   "cell_type": "code",
   "execution_count": 308,
   "metadata": {},
   "outputs": [],
   "source": [
    "with open('next_pitch/web_app/final.pkl', 'rb') as f:\n",
    "    model = pickle.load(f)"
   ]
  },
  {
   "cell_type": "code",
   "execution_count": 309,
   "metadata": {},
   "outputs": [
    {
     "data": {
      "text/plain": [
       "[('preprocessor',\n",
       "  ColumnTransformer(n_jobs=None, remainder='drop', sparse_threshold=0.3,\n",
       "           transformer_weights=None,\n",
       "           transformers=[('num', Pipeline(memory=None, steps=[('keeper', None)]), ['WAR_x', 'WHIP', 'ERA', 'SO', 'SLG', 'OPS', 'WAR_y', 'pitchData.nastyFactor', 'pitchNumber', 'prior_pitch_type']), ('cat', Pipeline(memory=None,\n",
       "       steps=[('onehot', OneHotEncoder(categorical_features=None, categories='auto',\n",
       "  ...p.pitchHand.code', 'matchup.splits.menOnBase', 'count', 'about.inning', 'pitchData.zone', 'count'])])),\n",
       " ('classifier', GradientBoostingClassifier(criterion='friedman_mse', init=None,\n",
       "                learning_rate=0.1, loss='deviance', max_depth=10,\n",
       "                max_features=None, max_leaf_nodes=None,\n",
       "                min_impurity_decrease=0.0, min_impurity_split=None,\n",
       "                min_samples_leaf=1, min_samples_split=2,\n",
       "                min_weight_fraction_leaf=0.0, n_estimators=200,\n",
       "                n_iter_no_change=None, presort='auto', random_state=None,\n",
       "                subsample=1.0, tol=0.0001, validation_fraction=0.1,\n",
       "                verbose=0, warm_start=False))]"
      ]
     },
     "execution_count": 309,
     "metadata": {},
     "output_type": "execute_result"
    }
   ],
   "source": [
    "model.steps"
   ]
  },
  {
   "cell_type": "code",
   "execution_count": 310,
   "metadata": {},
   "outputs": [
    {
     "data": {
      "text/html": [
       "<div>\n",
       "<style scoped>\n",
       "    .dataframe tbody tr th:only-of-type {\n",
       "        vertical-align: middle;\n",
       "    }\n",
       "\n",
       "    .dataframe tbody tr th {\n",
       "        vertical-align: top;\n",
       "    }\n",
       "\n",
       "    .dataframe thead th {\n",
       "        text-align: right;\n",
       "    }\n",
       "</style>\n",
       "<table border=\"1\" class=\"dataframe\">\n",
       "  <thead>\n",
       "    <tr style=\"text-align: right;\">\n",
       "      <th></th>\n",
       "      <th>pitcher</th>\n",
       "      <th>WAR_x</th>\n",
       "      <th>WHIP</th>\n",
       "      <th>ERA</th>\n",
       "      <th>SO</th>\n",
       "      <th>hitter</th>\n",
       "      <th>SLG</th>\n",
       "      <th>OPS</th>\n",
       "      <th>WAR_y</th>\n",
       "      <th>about.halfInning</th>\n",
       "      <th>about.inning</th>\n",
       "      <th>matchup.batSide.code</th>\n",
       "      <th>matchup.pitchHand.code</th>\n",
       "      <th>matchup.splits.menOnBase</th>\n",
       "      <th>pitchData.nastyFactor</th>\n",
       "      <th>pitchData.zone</th>\n",
       "      <th>pitchNumber</th>\n",
       "      <th>pitch_type</th>\n",
       "      <th>prior_pitch_type</th>\n",
       "      <th>count</th>\n",
       "    </tr>\n",
       "  </thead>\n",
       "  <tbody>\n",
       "    <tr>\n",
       "      <th>0</th>\n",
       "      <td>Kendrys Morales</td>\n",
       "      <td>0.0</td>\n",
       "      <td>1.0</td>\n",
       "      <td>0.0</td>\n",
       "      <td>0</td>\n",
       "      <td>Matt Chapman</td>\n",
       "      <td>0.508</td>\n",
       "      <td>0.864</td>\n",
       "      <td>8.2</td>\n",
       "      <td>top</td>\n",
       "      <td>9</td>\n",
       "      <td>R</td>\n",
       "      <td>R</td>\n",
       "      <td>Men_On</td>\n",
       "      <td>32.94</td>\n",
       "      <td>1.0</td>\n",
       "      <td>2.0</td>\n",
       "      <td>0.0</td>\n",
       "      <td>0.0</td>\n",
       "      <td>1.0-1.0</td>\n",
       "    </tr>\n",
       "  </tbody>\n",
       "</table>\n",
       "</div>"
      ],
      "text/plain": [
       "           pitcher  WAR_x  WHIP  ERA  SO        hitter    SLG    OPS  WAR_y  \\\n",
       "0  Kendrys Morales    0.0   1.0  0.0   0  Matt Chapman  0.508  0.864    8.2   \n",
       "\n",
       "  about.halfInning  about.inning matchup.batSide.code matchup.pitchHand.code  \\\n",
       "0              top             9                    R                      R   \n",
       "\n",
       "  matchup.splits.menOnBase  pitchData.nastyFactor  pitchData.zone  \\\n",
       "0                   Men_On                  32.94             1.0   \n",
       "\n",
       "   pitchNumber  pitch_type  prior_pitch_type    count  \n",
       "0          2.0         0.0               0.0  1.0-1.0  "
      ]
     },
     "execution_count": 310,
     "metadata": {},
     "output_type": "execute_result"
    }
   ],
   "source": [
    "final_df_test.head(1)"
   ]
  },
  {
   "cell_type": "code",
   "execution_count": 311,
   "metadata": {},
   "outputs": [
    {
     "data": {
      "text/html": [
       "<div>\n",
       "<style scoped>\n",
       "    .dataframe tbody tr th:only-of-type {\n",
       "        vertical-align: middle;\n",
       "    }\n",
       "\n",
       "    .dataframe tbody tr th {\n",
       "        vertical-align: top;\n",
       "    }\n",
       "\n",
       "    .dataframe thead th {\n",
       "        text-align: right;\n",
       "    }\n",
       "</style>\n",
       "<table border=\"1\" class=\"dataframe\">\n",
       "  <thead>\n",
       "    <tr style=\"text-align: right;\">\n",
       "      <th></th>\n",
       "      <th>pitcher</th>\n",
       "      <th>WAR_x</th>\n",
       "      <th>WHIP</th>\n",
       "      <th>ERA</th>\n",
       "      <th>SO</th>\n",
       "      <th>hitter</th>\n",
       "      <th>SLG</th>\n",
       "      <th>OPS</th>\n",
       "      <th>WAR_y</th>\n",
       "      <th>about.halfInning</th>\n",
       "      <th>about.inning</th>\n",
       "      <th>matchup.batSide.code</th>\n",
       "      <th>matchup.pitchHand.code</th>\n",
       "      <th>matchup.splits.menOnBase</th>\n",
       "      <th>pitchData.nastyFactor</th>\n",
       "      <th>pitchData.zone</th>\n",
       "      <th>pitchNumber</th>\n",
       "      <th>prior_pitch_type</th>\n",
       "      <th>count</th>\n",
       "    </tr>\n",
       "  </thead>\n",
       "  <tbody>\n",
       "    <tr>\n",
       "      <th>147932</th>\n",
       "      <td>John Means</td>\n",
       "      <td>-0.2</td>\n",
       "      <td>1.8</td>\n",
       "      <td>13.5</td>\n",
       "      <td>4</td>\n",
       "      <td>Jeff Mathis</td>\n",
       "      <td>0.272</td>\n",
       "      <td>0.544</td>\n",
       "      <td>0.2</td>\n",
       "      <td>bottom</td>\n",
       "      <td>5</td>\n",
       "      <td>R</td>\n",
       "      <td>L</td>\n",
       "      <td>Men_On</td>\n",
       "      <td>35.326612</td>\n",
       "      <td>6.0</td>\n",
       "      <td>3.0</td>\n",
       "      <td>0.0</td>\n",
       "      <td>2.0-1.0</td>\n",
       "    </tr>\n",
       "  </tbody>\n",
       "</table>\n",
       "</div>"
      ],
      "text/plain": [
       "           pitcher  WAR_x  WHIP   ERA  SO       hitter    SLG    OPS  WAR_y  \\\n",
       "147932  John Means   -0.2   1.8  13.5   4  Jeff Mathis  0.272  0.544    0.2   \n",
       "\n",
       "       about.halfInning  about.inning matchup.batSide.code  \\\n",
       "147932           bottom             5                    R   \n",
       "\n",
       "       matchup.pitchHand.code matchup.splits.menOnBase  pitchData.nastyFactor  \\\n",
       "147932                      L                   Men_On              35.326612   \n",
       "\n",
       "        pitchData.zone  pitchNumber  prior_pitch_type    count  \n",
       "147932             6.0          3.0               0.0  2.0-1.0  "
      ]
     },
     "execution_count": 311,
     "metadata": {},
     "output_type": "execute_result"
    }
   ],
   "source": [
    "testing"
   ]
  },
  {
   "cell_type": "code",
   "execution_count": 312,
   "metadata": {},
   "outputs": [
    {
     "data": {
      "text/html": [
       "<div>\n",
       "<style scoped>\n",
       "    .dataframe tbody tr th:only-of-type {\n",
       "        vertical-align: middle;\n",
       "    }\n",
       "\n",
       "    .dataframe tbody tr th {\n",
       "        vertical-align: top;\n",
       "    }\n",
       "\n",
       "    .dataframe thead th {\n",
       "        text-align: right;\n",
       "    }\n",
       "</style>\n",
       "<table border=\"1\" class=\"dataframe\">\n",
       "  <thead>\n",
       "    <tr style=\"text-align: right;\">\n",
       "      <th></th>\n",
       "      <th>pitcher</th>\n",
       "      <th>WAR_x</th>\n",
       "      <th>WHIP</th>\n",
       "      <th>ERA</th>\n",
       "      <th>SO</th>\n",
       "      <th>hitter</th>\n",
       "      <th>SLG</th>\n",
       "      <th>OPS</th>\n",
       "      <th>WAR_y</th>\n",
       "      <th>about.halfInning</th>\n",
       "      <th>about.inning</th>\n",
       "      <th>matchup.batSide.code</th>\n",
       "      <th>count_false</th>\n",
       "      <th>matchup.pitchHand.code</th>\n",
       "      <th>matchup.splits.menOnBase</th>\n",
       "      <th>pitchData.nastyFactor</th>\n",
       "      <th>pitchData.zone</th>\n",
       "      <th>pitchNumber</th>\n",
       "      <th>pitch_type</th>\n",
       "      <th>prior_pitch_type</th>\n",
       "      <th>count</th>\n",
       "    </tr>\n",
       "  </thead>\n",
       "  <tbody>\n",
       "    <tr>\n",
       "      <th>0</th>\n",
       "      <td>Justin Verlander</td>\n",
       "      <td>6.2</td>\n",
       "      <td>0.9</td>\n",
       "      <td>2.52</td>\n",
       "      <td>290</td>\n",
       "      <td>Dee Gordon</td>\n",
       "      <td>0.349</td>\n",
       "      <td>0.637</td>\n",
       "      <td>0.6</td>\n",
       "      <td>top</td>\n",
       "      <td>8</td>\n",
       "      <td>R</td>\n",
       "      <td>2.0-2.0</td>\n",
       "      <td>L</td>\n",
       "      <td>Men_On</td>\n",
       "      <td>0</td>\n",
       "      <td>0</td>\n",
       "      <td>44</td>\n",
       "      <td>0</td>\n",
       "      <td>0</td>\n",
       "      <td>2.0-2.0</td>\n",
       "    </tr>\n",
       "  </tbody>\n",
       "</table>\n",
       "</div>"
      ],
      "text/plain": [
       "            pitcher  WAR_x  WHIP   ERA   SO      hitter    SLG    OPS  WAR_y  \\\n",
       "0  Justin Verlander    6.2   0.9  2.52  290  Dee Gordon  0.349  0.637    0.6   \n",
       "\n",
       "  about.halfInning  about.inning matchup.batSide.code count_false  \\\n",
       "0              top             8                    R     2.0-2.0   \n",
       "\n",
       "  matchup.pitchHand.code matchup.splits.menOnBase  pitchData.nastyFactor  \\\n",
       "0                      L                   Men_On                      0   \n",
       "\n",
       "   pitchData.zone  pitchNumber  pitch_type  prior_pitch_type    count  \n",
       "0               0           44           0                 0  2.0-2.0  "
      ]
     },
     "execution_count": 312,
     "metadata": {},
     "output_type": "execute_result"
    }
   ],
   "source": [
    "created_test"
   ]
  },
  {
   "cell_type": "code",
   "execution_count": 313,
   "metadata": {},
   "outputs": [],
   "source": [
    "preds = model.predict_proba(created_test)"
   ]
  },
  {
   "cell_type": "code",
   "execution_count": 314,
   "metadata": {},
   "outputs": [
    {
     "data": {
      "text/plain": [
       "0.10468301726178753"
      ]
     },
     "execution_count": 314,
     "metadata": {},
     "output_type": "execute_result"
    }
   ],
   "source": [
    "off_speed = preds[0][0]\n",
    "off_speed"
   ]
  },
  {
   "cell_type": "code",
   "execution_count": 315,
   "metadata": {},
   "outputs": [
    {
     "data": {
      "text/plain": [
       "0.8953169827382125"
      ]
     },
     "execution_count": 315,
     "metadata": {},
     "output_type": "execute_result"
    }
   ],
   "source": [
    "fastball = preds[0][1]\n",
    "fastball"
   ]
  },
  {
   "cell_type": "code",
   "execution_count": 324,
   "metadata": {},
   "outputs": [],
   "source": [
    "users = {'count': '1.0-1.0', 'prior_pitch_type': 1.0, 'pitchNumber': 67.0, 'matchup.splits.menOnBase': 'Men_On', 'matchup.pitchHand.code': 'R', 'matchup.batSide.code': 'L', 'about.halfInning': 'top', 'about.inning': 6, 'hitter': 'Dee Gordon', 'pitcher': 'Justin Verlander', 'pitch_type': 1.0, 'pitchData.nastyFactor': 35.326, 'pitchData.zone': 9.8751}"
   ]
  },
  {
   "cell_type": "code",
   "execution_count": 325,
   "metadata": {},
   "outputs": [],
   "source": [
    "def format_user_input(user_dict):\n",
    "    live_df = lib.pd.DataFrame([user_dict])\n",
    "    created_test = data_collection.merge_player_stats(live_df)\n",
    "    created_test = created_test[test_list]\n",
    "    return created_test\n",
    "    \n",
    "    "
   ]
  },
  {
   "cell_type": "code",
   "execution_count": 326,
   "metadata": {},
   "outputs": [],
   "source": [
    "t = format_user_input(users)"
   ]
  },
  {
   "cell_type": "code",
   "execution_count": 318,
   "metadata": {},
   "outputs": [
    {
     "name": "stdout",
     "output_type": "stream",
     "text": [
      "<class 'pandas.core.frame.DataFrame'>\n",
      "RangeIndex: 553609 entries, 0 to 553608\n",
      "Data columns (total 20 columns):\n",
      "pitcher                     553609 non-null object\n",
      "WAR_x                       553609 non-null float64\n",
      "WHIP                        553609 non-null float64\n",
      "ERA                         553609 non-null float64\n",
      "SO                          553609 non-null int64\n",
      "hitter                      553609 non-null object\n",
      "SLG                         553609 non-null float64\n",
      "OPS                         553609 non-null float64\n",
      "WAR_y                       553609 non-null float64\n",
      "about.halfInning            553609 non-null object\n",
      "about.inning                553609 non-null int64\n",
      "matchup.batSide.code        553609 non-null object\n",
      "matchup.pitchHand.code      553609 non-null object\n",
      "matchup.splits.menOnBase    553609 non-null object\n",
      "pitchData.nastyFactor       553609 non-null float64\n",
      "pitchData.zone              553609 non-null float64\n",
      "pitchNumber                 553609 non-null float64\n",
      "pitch_type                  553609 non-null float64\n",
      "prior_pitch_type            553609 non-null float64\n",
      "count                       553609 non-null object\n",
      "dtypes: float64(11), int64(2), object(7)\n",
      "memory usage: 84.5+ MB\n"
     ]
    }
   ],
   "source": [
    "final_df_test.info()"
   ]
  },
  {
   "cell_type": "code",
   "execution_count": 321,
   "metadata": {},
   "outputs": [
    {
     "data": {
      "text/plain": [
       "array([ True,  True,  True,  True,  True,  True,  True,  True,  True,\n",
       "        True,  True,  True,  True,  True,  True,  True,  True,  True,\n",
       "        True,  True])"
      ]
     },
     "execution_count": 321,
     "metadata": {},
     "output_type": "execute_result"
    }
   ],
   "source": [
    "t.columns == final_df_test.columns"
   ]
  },
  {
   "cell_type": "code",
   "execution_count": 327,
   "metadata": {},
   "outputs": [
    {
     "data": {
      "text/html": [
       "<div>\n",
       "<style scoped>\n",
       "    .dataframe tbody tr th:only-of-type {\n",
       "        vertical-align: middle;\n",
       "    }\n",
       "\n",
       "    .dataframe tbody tr th {\n",
       "        vertical-align: top;\n",
       "    }\n",
       "\n",
       "    .dataframe thead th {\n",
       "        text-align: right;\n",
       "    }\n",
       "</style>\n",
       "<table border=\"1\" class=\"dataframe\">\n",
       "  <thead>\n",
       "    <tr style=\"text-align: right;\">\n",
       "      <th></th>\n",
       "      <th>pitcher</th>\n",
       "      <th>WAR_x</th>\n",
       "      <th>WHIP</th>\n",
       "      <th>ERA</th>\n",
       "      <th>SO</th>\n",
       "      <th>hitter</th>\n",
       "      <th>SLG</th>\n",
       "      <th>OPS</th>\n",
       "      <th>WAR_y</th>\n",
       "      <th>about.halfInning</th>\n",
       "      <th>about.inning</th>\n",
       "      <th>matchup.batSide.code</th>\n",
       "      <th>matchup.pitchHand.code</th>\n",
       "      <th>matchup.splits.menOnBase</th>\n",
       "      <th>pitchData.nastyFactor</th>\n",
       "      <th>pitchData.zone</th>\n",
       "      <th>pitchNumber</th>\n",
       "      <th>pitch_type</th>\n",
       "      <th>prior_pitch_type</th>\n",
       "      <th>count</th>\n",
       "    </tr>\n",
       "  </thead>\n",
       "  <tbody>\n",
       "    <tr>\n",
       "      <th>0</th>\n",
       "      <td>Justin Verlander</td>\n",
       "      <td>6.2</td>\n",
       "      <td>0.9</td>\n",
       "      <td>2.52</td>\n",
       "      <td>290</td>\n",
       "      <td>Dee Gordon</td>\n",
       "      <td>0.349</td>\n",
       "      <td>0.637</td>\n",
       "      <td>0.6</td>\n",
       "      <td>top</td>\n",
       "      <td>6</td>\n",
       "      <td>L</td>\n",
       "      <td>R</td>\n",
       "      <td>Men_On</td>\n",
       "      <td>35.326</td>\n",
       "      <td>9.8751</td>\n",
       "      <td>67.0</td>\n",
       "      <td>1.0</td>\n",
       "      <td>1.0</td>\n",
       "      <td>1.0-1.0</td>\n",
       "    </tr>\n",
       "  </tbody>\n",
       "</table>\n",
       "</div>"
      ],
      "text/plain": [
       "            pitcher  WAR_x  WHIP   ERA   SO      hitter    SLG    OPS  WAR_y  \\\n",
       "0  Justin Verlander    6.2   0.9  2.52  290  Dee Gordon  0.349  0.637    0.6   \n",
       "\n",
       "  about.halfInning  about.inning matchup.batSide.code matchup.pitchHand.code  \\\n",
       "0              top             6                    L                      R   \n",
       "\n",
       "  matchup.splits.menOnBase  pitchData.nastyFactor  pitchData.zone  \\\n",
       "0                   Men_On                 35.326          9.8751   \n",
       "\n",
       "   pitchNumber  pitch_type  prior_pitch_type    count  \n",
       "0         67.0         1.0               1.0  1.0-1.0  "
      ]
     },
     "execution_count": 327,
     "metadata": {},
     "output_type": "execute_result"
    }
   ],
   "source": [
    "t"
   ]
  },
  {
   "cell_type": "code",
   "execution_count": 320,
   "metadata": {},
   "outputs": [
    {
     "data": {
      "text/plain": [
       "array([[0.3719817, 0.6280183]])"
      ]
     },
     "execution_count": 320,
     "metadata": {},
     "output_type": "execute_result"
    }
   ],
   "source": [
    "model.predict_proba(t)"
   ]
  },
  {
   "cell_type": "code",
   "execution_count": null,
   "metadata": {},
   "outputs": [],
   "source": []
  }
 ],
 "metadata": {
  "kernelspec": {
   "display_name": "learn-env",
   "language": "python",
   "name": "learn-env"
  },
  "language_info": {
   "codemirror_mode": {
    "name": "ipython",
    "version": 3
   },
   "file_extension": ".py",
   "mimetype": "text/x-python",
   "name": "python",
   "nbconvert_exporter": "python",
   "pygments_lexer": "ipython3",
   "version": "3.7.0"
  }
 },
 "nbformat": 4,
 "nbformat_minor": 2
}
