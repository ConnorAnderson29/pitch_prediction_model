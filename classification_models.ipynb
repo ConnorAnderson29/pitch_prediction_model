{
 "cells": [
  {
   "cell_type": "markdown",
   "metadata": {},
   "source": [
    "# Model Creation: Round 2\n"
   ]
  },
  {
   "cell_type": "markdown",
   "metadata": {},
   "source": [
    "#### Importing the necessary libraries"
   ]
  },
  {
   "cell_type": "code",
   "execution_count": 24,
   "metadata": {},
   "outputs": [],
   "source": [
    "#DATA WRANGLING\n",
    "import pandas as pd # Dataframes\n",
    "from pandas.io.json import json_normalize # JSON wrangler\n",
    "import statsapi # Python wrapper MLB data API"
   ]
  },
  {
   "cell_type": "code",
   "execution_count": 98,
   "metadata": {},
   "outputs": [],
   "source": [
    "#DATA MANIPULATION AND MODELLING\n",
    "import numpy as np\n",
    "np.random.seed(0)\n",
    "import matplotlib.pyplot as plt\n",
    "from sklearn.preprocessing import StandardScaler, Normalizer\n",
    "from sklearn.model_selection import train_test_split, cross_val_score\n",
    "from sklearn.metrics import accuracy_score, confusion_matrix, classification_report\n",
    "from sklearn.tree import DecisionTreeClassifier\n",
    "from sklearn.ensemble import BaggingClassifier, RandomForestClassifier, GradientBoostingClassifier\n",
    "from sklearn.preprocessing import OneHotEncoder\n",
    "from sklearn_pandas import DataFrameMapper, FunctionTransformer, gen_features, pipeline\n",
    "from sklearn_pandas.pipeline import Pipeline\n",
    "from sklearn.compose import ColumnTransformer\n",
    "import seaborn as sns\n",
    "from sklearn.metrics import f1_score, accuracy_score, roc_auc_score\n",
    "from sklearn.preprocessing import LabelBinarizer\n",
    "import xgboost as xgb\n",
    "import os\n",
    "import pitch_functions"
   ]
  },
  {
   "cell_type": "code",
   "execution_count": 26,
   "metadata": {},
   "outputs": [],
   "source": [
    "os.environ['KMP_DUPLICATE_LIB_OK']='True'"
   ]
  },
  {
   "cell_type": "code",
   "execution_count": 175,
   "metadata": {},
   "outputs": [],
   "source": [
    "each_pitch = pd.read_csv('raw_data/cleaned_pitches.csv')"
   ]
  },
  {
   "cell_type": "markdown",
   "metadata": {},
   "source": [
    "### Data Frame Prep"
   ]
  },
  {
   "cell_type": "markdown",
   "metadata": {},
   "source": [
    "- Make categorical data frame & and numerical standardized data frame\n",
    "- concatenate these dataframes together then run tests"
   ]
  },
  {
   "cell_type": "markdown",
   "metadata": {},
   "source": [
    "## Pipeline Preparation"
   ]
  },
  {
   "cell_type": "code",
   "execution_count": 176,
   "metadata": {},
   "outputs": [],
   "source": [
    "pitch_clean = each_pitch.dropna().copy()"
   ]
  },
  {
   "cell_type": "code",
   "execution_count": 177,
   "metadata": {},
   "outputs": [],
   "source": [
    "pitch_clean = pitch_clean[:100000]"
   ]
  },
  {
   "cell_type": "code",
   "execution_count": 178,
   "metadata": {},
   "outputs": [
    {
     "data": {
      "text/html": [
       "<div>\n",
       "<style scoped>\n",
       "    .dataframe tbody tr th:only-of-type {\n",
       "        vertical-align: middle;\n",
       "    }\n",
       "\n",
       "    .dataframe tbody tr th {\n",
       "        vertical-align: top;\n",
       "    }\n",
       "\n",
       "    .dataframe thead th {\n",
       "        text-align: right;\n",
       "    }\n",
       "</style>\n",
       "<table border=\"1\" class=\"dataframe\">\n",
       "  <thead>\n",
       "    <tr style=\"text-align: right;\">\n",
       "      <th></th>\n",
       "      <th>pitcher</th>\n",
       "      <th>WAR_x</th>\n",
       "      <th>WHIP</th>\n",
       "      <th>ERA</th>\n",
       "      <th>SO</th>\n",
       "      <th>hitter</th>\n",
       "      <th>SLG</th>\n",
       "      <th>OPS</th>\n",
       "      <th>WAR_y</th>\n",
       "      <th>about.atBatIndex</th>\n",
       "      <th>...</th>\n",
       "      <th>matchup.batSide.code</th>\n",
       "      <th>matchup.pitchHand.code</th>\n",
       "      <th>matchup.pitcher.id</th>\n",
       "      <th>matchup.splits.menOnBase</th>\n",
       "      <th>pitchData.nastyFactor</th>\n",
       "      <th>pitchData.zone</th>\n",
       "      <th>pitchNumber</th>\n",
       "      <th>pitch_type</th>\n",
       "      <th>prior_pitch_type</th>\n",
       "      <th>count</th>\n",
       "    </tr>\n",
       "  </thead>\n",
       "  <tbody>\n",
       "    <tr>\n",
       "      <th>0</th>\n",
       "      <td>Kendrys Morales</td>\n",
       "      <td>0.0</td>\n",
       "      <td>1.0</td>\n",
       "      <td>0.0</td>\n",
       "      <td>0</td>\n",
       "      <td>Matt Chapman</td>\n",
       "      <td>0.508</td>\n",
       "      <td>0.864</td>\n",
       "      <td>8.2</td>\n",
       "      <td>70</td>\n",
       "      <td>...</td>\n",
       "      <td>R</td>\n",
       "      <td>R</td>\n",
       "      <td>434778</td>\n",
       "      <td>Men_On</td>\n",
       "      <td>32.94</td>\n",
       "      <td>1.0</td>\n",
       "      <td>2.0</td>\n",
       "      <td>Changeup</td>\n",
       "      <td>Changeup</td>\n",
       "      <td>1.0-1.0</td>\n",
       "    </tr>\n",
       "    <tr>\n",
       "      <th>1</th>\n",
       "      <td>Kendrys Morales</td>\n",
       "      <td>0.0</td>\n",
       "      <td>1.0</td>\n",
       "      <td>0.0</td>\n",
       "      <td>0</td>\n",
       "      <td>Matt Chapman</td>\n",
       "      <td>0.508</td>\n",
       "      <td>0.864</td>\n",
       "      <td>8.2</td>\n",
       "      <td>70</td>\n",
       "      <td>...</td>\n",
       "      <td>R</td>\n",
       "      <td>R</td>\n",
       "      <td>434778</td>\n",
       "      <td>Men_On</td>\n",
       "      <td>31.44</td>\n",
       "      <td>4.0</td>\n",
       "      <td>3.0</td>\n",
       "      <td>Breaking_Ball</td>\n",
       "      <td>Changeup</td>\n",
       "      <td>1.0-2.0</td>\n",
       "    </tr>\n",
       "    <tr>\n",
       "      <th>2</th>\n",
       "      <td>Kendrys Morales</td>\n",
       "      <td>0.0</td>\n",
       "      <td>1.0</td>\n",
       "      <td>0.0</td>\n",
       "      <td>0</td>\n",
       "      <td>Matt Chapman</td>\n",
       "      <td>0.508</td>\n",
       "      <td>0.864</td>\n",
       "      <td>8.2</td>\n",
       "      <td>70</td>\n",
       "      <td>...</td>\n",
       "      <td>R</td>\n",
       "      <td>R</td>\n",
       "      <td>434778</td>\n",
       "      <td>Men_On</td>\n",
       "      <td>2.66</td>\n",
       "      <td>14.0</td>\n",
       "      <td>4.0</td>\n",
       "      <td>Breaking_Ball</td>\n",
       "      <td>Breaking_Ball</td>\n",
       "      <td>2.0-2.0</td>\n",
       "    </tr>\n",
       "    <tr>\n",
       "      <th>3</th>\n",
       "      <td>Kendrys Morales</td>\n",
       "      <td>0.0</td>\n",
       "      <td>1.0</td>\n",
       "      <td>0.0</td>\n",
       "      <td>0</td>\n",
       "      <td>Matt Chapman</td>\n",
       "      <td>0.508</td>\n",
       "      <td>0.864</td>\n",
       "      <td>8.2</td>\n",
       "      <td>70</td>\n",
       "      <td>...</td>\n",
       "      <td>R</td>\n",
       "      <td>R</td>\n",
       "      <td>434778</td>\n",
       "      <td>Men_On</td>\n",
       "      <td>3.82</td>\n",
       "      <td>14.0</td>\n",
       "      <td>5.0</td>\n",
       "      <td>Breaking_Ball</td>\n",
       "      <td>Breaking_Ball</td>\n",
       "      <td>3.0-2.0</td>\n",
       "    </tr>\n",
       "    <tr>\n",
       "      <th>4</th>\n",
       "      <td>Kendrys Morales</td>\n",
       "      <td>0.0</td>\n",
       "      <td>1.0</td>\n",
       "      <td>0.0</td>\n",
       "      <td>0</td>\n",
       "      <td>Matt Chapman</td>\n",
       "      <td>0.508</td>\n",
       "      <td>0.864</td>\n",
       "      <td>8.2</td>\n",
       "      <td>70</td>\n",
       "      <td>...</td>\n",
       "      <td>R</td>\n",
       "      <td>R</td>\n",
       "      <td>434778</td>\n",
       "      <td>Men_On</td>\n",
       "      <td>35.64</td>\n",
       "      <td>11.0</td>\n",
       "      <td>6.0</td>\n",
       "      <td>Breaking_Ball</td>\n",
       "      <td>Breaking_Ball</td>\n",
       "      <td>4.0-2.0</td>\n",
       "    </tr>\n",
       "  </tbody>\n",
       "</table>\n",
       "<p>5 rows × 24 columns</p>\n",
       "</div>"
      ],
      "text/plain": [
       "           pitcher  WAR_x  WHIP  ERA  SO        hitter    SLG    OPS  WAR_y  \\\n",
       "0  Kendrys Morales    0.0   1.0  0.0   0  Matt Chapman  0.508  0.864    8.2   \n",
       "1  Kendrys Morales    0.0   1.0  0.0   0  Matt Chapman  0.508  0.864    8.2   \n",
       "2  Kendrys Morales    0.0   1.0  0.0   0  Matt Chapman  0.508  0.864    8.2   \n",
       "3  Kendrys Morales    0.0   1.0  0.0   0  Matt Chapman  0.508  0.864    8.2   \n",
       "4  Kendrys Morales    0.0   1.0  0.0   0  Matt Chapman  0.508  0.864    8.2   \n",
       "\n",
       "   about.atBatIndex   ...    matchup.batSide.code  matchup.pitchHand.code  \\\n",
       "0                70   ...                       R                       R   \n",
       "1                70   ...                       R                       R   \n",
       "2                70   ...                       R                       R   \n",
       "3                70   ...                       R                       R   \n",
       "4                70   ...                       R                       R   \n",
       "\n",
       "  matchup.pitcher.id matchup.splits.menOnBase pitchData.nastyFactor  \\\n",
       "0             434778                   Men_On                 32.94   \n",
       "1             434778                   Men_On                 31.44   \n",
       "2             434778                   Men_On                  2.66   \n",
       "3             434778                   Men_On                  3.82   \n",
       "4             434778                   Men_On                 35.64   \n",
       "\n",
       "  pitchData.zone  pitchNumber     pitch_type  prior_pitch_type    count  \n",
       "0            1.0          2.0       Changeup          Changeup  1.0-1.0  \n",
       "1            4.0          3.0  Breaking_Ball          Changeup  1.0-2.0  \n",
       "2           14.0          4.0  Breaking_Ball     Breaking_Ball  2.0-2.0  \n",
       "3           14.0          5.0  Breaking_Ball     Breaking_Ball  3.0-2.0  \n",
       "4           11.0          6.0  Breaking_Ball     Breaking_Ball  4.0-2.0  \n",
       "\n",
       "[5 rows x 24 columns]"
      ]
     },
     "execution_count": 178,
     "metadata": {},
     "output_type": "execute_result"
    }
   ],
   "source": [
    "pitch_clean.head()"
   ]
  },
  {
   "cell_type": "code",
   "execution_count": 179,
   "metadata": {},
   "outputs": [],
   "source": [
    "pitch_dicts = {'Fastball': 1,\n",
    "              'Breaking_Ball': 0,\n",
    "              'Changeup': 0}"
   ]
  },
  {
   "cell_type": "code",
   "execution_count": 180,
   "metadata": {},
   "outputs": [],
   "source": [
    "pitch_clean['pitch_type'] = pitch_clean['pitch_type'].map(pitch_dicts)"
   ]
  },
  {
   "cell_type": "code",
   "execution_count": 181,
   "metadata": {},
   "outputs": [],
   "source": [
    "pitch_clean['prior_pitch_type'] = pitch_clean['prior_pitch_type'].map(pitch_dicts)"
   ]
  },
  {
   "cell_type": "code",
   "execution_count": 182,
   "metadata": {},
   "outputs": [],
   "source": [
    "target = pitch_clean['pitch_type']"
   ]
  },
  {
   "cell_type": "code",
   "execution_count": 183,
   "metadata": {},
   "outputs": [],
   "source": [
    "predictors = pitch_clean.drop(['pitch_type', 'hitter', 'pitcher'], axis=1)"
   ]
  },
  {
   "cell_type": "code",
   "execution_count": 184,
   "metadata": {},
   "outputs": [],
   "source": [
    "num_features = list(predictors.select_dtypes(exclude='object'))"
   ]
  },
  {
   "cell_type": "code",
   "execution_count": 185,
   "metadata": {},
   "outputs": [
    {
     "data": {
      "text/plain": [
       "['WAR_x',\n",
       " 'WHIP',\n",
       " 'ERA',\n",
       " 'SO',\n",
       " 'SLG',\n",
       " 'OPS',\n",
       " 'WAR_y',\n",
       " 'about.atBatIndex',\n",
       " 'about.inning',\n",
       " 'matchup.pitcher.id',\n",
       " 'pitchData.nastyFactor',\n",
       " 'pitchData.zone',\n",
       " 'pitchNumber',\n",
       " 'prior_pitch_type']"
      ]
     },
     "execution_count": 185,
     "metadata": {},
     "output_type": "execute_result"
    }
   ],
   "source": [
    "num_features"
   ]
  },
  {
   "cell_type": "code",
   "execution_count": 186,
   "metadata": {},
   "outputs": [],
   "source": [
    "num_features = [i for i in num_features if i not in {'about.inning', 'pitchData.zone', 'matchup.pitcher.id'}]"
   ]
  },
  {
   "cell_type": "code",
   "execution_count": 187,
   "metadata": {},
   "outputs": [
    {
     "data": {
      "text/plain": [
       "['WAR_x',\n",
       " 'WHIP',\n",
       " 'ERA',\n",
       " 'SO',\n",
       " 'SLG',\n",
       " 'OPS',\n",
       " 'WAR_y',\n",
       " 'about.atBatIndex',\n",
       " 'pitchData.nastyFactor',\n",
       " 'pitchNumber',\n",
       " 'prior_pitch_type']"
      ]
     },
     "execution_count": 187,
     "metadata": {},
     "output_type": "execute_result"
    }
   ],
   "source": [
    "num_features"
   ]
  },
  {
   "cell_type": "code",
   "execution_count": 188,
   "metadata": {},
   "outputs": [],
   "source": [
    "numeric_transformer = Pipeline(steps=[('keeper', None)])"
   ]
  },
  {
   "cell_type": "code",
   "execution_count": 189,
   "metadata": {},
   "outputs": [],
   "source": [
    "cat_features = list(predictors.select_dtypes(include='object'))\n",
    "cat_features.extend(['about.inning', 'pitchData.zone', 'count', 'matchup.pitcher.id'])"
   ]
  },
  {
   "cell_type": "code",
   "execution_count": 190,
   "metadata": {},
   "outputs": [],
   "source": [
    "cat_transfomer = Pipeline(steps=[('onehot', OneHotEncoder(handle_unknown='ignore', categories='auto'))])"
   ]
  },
  {
   "cell_type": "code",
   "execution_count": 191,
   "metadata": {},
   "outputs": [],
   "source": [
    "preprocessor = ColumnTransformer(transformers=[('num', numeric_transformer, num_features),\n",
    "                                              ('cat', cat_transfomer, cat_features)])"
   ]
  },
  {
   "cell_type": "code",
   "execution_count": 192,
   "metadata": {},
   "outputs": [],
   "source": [
    "classifiers = [DecisionTreeClassifier(), RandomForestClassifier(n_estimators=100, max_depth=5), \n",
    "               GradientBoostingClassifier(n_estimators=100), xgb.XGBClassifier()]"
   ]
  },
  {
   "cell_type": "markdown",
   "metadata": {},
   "source": [
    "## Model Creation"
   ]
  },
  {
   "cell_type": "code",
   "execution_count": 193,
   "metadata": {},
   "outputs": [],
   "source": [
    "X_train, X_test, y_train, y_test = train_test_split(predictors, target, random_state=10)"
   ]
  },
  {
   "cell_type": "code",
   "execution_count": 157,
   "metadata": {},
   "outputs": [],
   "source": [
    "# X_train_s1 = X_train[num_features]\n",
    "# X_test_s1 = X_test[num_features]"
   ]
  },
  {
   "cell_type": "code",
   "execution_count": 158,
   "metadata": {},
   "outputs": [],
   "source": [
    "scaler = StandardScaler()"
   ]
  },
  {
   "cell_type": "code",
   "execution_count": 159,
   "metadata": {},
   "outputs": [
    {
     "name": "stderr",
     "output_type": "stream",
     "text": [
      "/Applications/anaconda3/lib/python3.7/site-packages/sklearn/preprocessing/data.py:625: DataConversionWarning: Data with input dtype int64, float64 were all converted to float64 by StandardScaler.\n",
      "  return self.partial_fit(X, y)\n"
     ]
    },
    {
     "data": {
      "text/plain": [
       "StandardScaler(copy=True, with_mean=True, with_std=True)"
      ]
     },
     "execution_count": 159,
     "metadata": {},
     "output_type": "execute_result"
    }
   ],
   "source": [
    "scaler.fit(X_train_s1)"
   ]
  },
  {
   "cell_type": "code",
   "execution_count": 160,
   "metadata": {},
   "outputs": [
    {
     "name": "stderr",
     "output_type": "stream",
     "text": [
      "/Applications/anaconda3/lib/python3.7/site-packages/ipykernel_launcher.py:1: DataConversionWarning: Data with input dtype int64, float64 were all converted to float64 by StandardScaler.\n",
      "  \"\"\"Entry point for launching an IPython kernel.\n",
      "/Applications/anaconda3/lib/python3.7/site-packages/ipykernel_launcher.py:2: DataConversionWarning: Data with input dtype int64, float64 were all converted to float64 by StandardScaler.\n",
      "  \n"
     ]
    }
   ],
   "source": [
    "X_train_s = scaler.transform(X_train_s1)\n",
    "X_test_s = scaler.transform(X_test_s1)"
   ]
  },
  {
   "cell_type": "code",
   "execution_count": 161,
   "metadata": {},
   "outputs": [],
   "source": [
    "X_train_c = X_train[cat_features] \n",
    "X_test_c = X_test[cat_features]"
   ]
  },
  {
   "cell_type": "code",
   "execution_count": 162,
   "metadata": {},
   "outputs": [],
   "source": [
    "X_train_sdf = pd.DataFrame(X_train_s,\n",
    "                   columns=X_train_s1.columns)"
   ]
  },
  {
   "cell_type": "code",
   "execution_count": 163,
   "metadata": {},
   "outputs": [],
   "source": [
    "X_test_sdf = pd.DataFrame(X_test_s,\n",
    "                   columns=X_test_s1.columns)"
   ]
  },
  {
   "cell_type": "code",
   "execution_count": 164,
   "metadata": {},
   "outputs": [
    {
     "data": {
      "text/html": [
       "<div>\n",
       "<style scoped>\n",
       "    .dataframe tbody tr th:only-of-type {\n",
       "        vertical-align: middle;\n",
       "    }\n",
       "\n",
       "    .dataframe tbody tr th {\n",
       "        vertical-align: top;\n",
       "    }\n",
       "\n",
       "    .dataframe thead th {\n",
       "        text-align: right;\n",
       "    }\n",
       "</style>\n",
       "<table border=\"1\" class=\"dataframe\">\n",
       "  <thead>\n",
       "    <tr style=\"text-align: right;\">\n",
       "      <th></th>\n",
       "      <th>WAR_x</th>\n",
       "      <th>WHIP</th>\n",
       "      <th>ERA</th>\n",
       "      <th>SO</th>\n",
       "      <th>SLG</th>\n",
       "      <th>OPS</th>\n",
       "      <th>WAR_y</th>\n",
       "      <th>about.atBatIndex</th>\n",
       "      <th>pitchData.nastyFactor</th>\n",
       "      <th>pitchNumber</th>\n",
       "      <th>prior_pitch_type</th>\n",
       "    </tr>\n",
       "  </thead>\n",
       "  <tbody>\n",
       "    <tr>\n",
       "      <th>0</th>\n",
       "      <td>1.928355</td>\n",
       "      <td>1.171369</td>\n",
       "      <td>0.749140</td>\n",
       "      <td>0.633773</td>\n",
       "      <td>-0.744421</td>\n",
       "      <td>-0.646901</td>\n",
       "      <td>-0.924905</td>\n",
       "      <td>-1.890758</td>\n",
       "      <td>-1.311831</td>\n",
       "      <td>0.936532</td>\n",
       "      <td>0.776493</td>\n",
       "    </tr>\n",
       "    <tr>\n",
       "      <th>1</th>\n",
       "      <td>-0.572645</td>\n",
       "      <td>-0.520228</td>\n",
       "      <td>0.086192</td>\n",
       "      <td>-0.694605</td>\n",
       "      <td>-0.823360</td>\n",
       "      <td>-1.165129</td>\n",
       "      <td>-0.973927</td>\n",
       "      <td>0.440533</td>\n",
       "      <td>-0.796811</td>\n",
       "      <td>0.281590</td>\n",
       "      <td>0.776493</td>\n",
       "    </tr>\n",
       "  </tbody>\n",
       "</table>\n",
       "</div>"
      ],
      "text/plain": [
       "      WAR_x      WHIP       ERA        SO       SLG       OPS     WAR_y  \\\n",
       "0  1.928355  1.171369  0.749140  0.633773 -0.744421 -0.646901 -0.924905   \n",
       "1 -0.572645 -0.520228  0.086192 -0.694605 -0.823360 -1.165129 -0.973927   \n",
       "\n",
       "   about.atBatIndex  pitchData.nastyFactor  pitchNumber  prior_pitch_type  \n",
       "0         -1.890758              -1.311831     0.936532          0.776493  \n",
       "1          0.440533              -0.796811     0.281590          0.776493  "
      ]
     },
     "execution_count": 164,
     "metadata": {},
     "output_type": "execute_result"
    }
   ],
   "source": [
    "X_train_sdf.head(2)"
   ]
  },
  {
   "cell_type": "code",
   "execution_count": 165,
   "metadata": {},
   "outputs": [],
   "source": [
    "X_train = X_train.reset_index()"
   ]
  },
  {
   "cell_type": "code",
   "execution_count": 166,
   "metadata": {},
   "outputs": [],
   "source": [
    "X_test = X_test.reset_index()"
   ]
  },
  {
   "cell_type": "code",
   "execution_count": 167,
   "metadata": {},
   "outputs": [],
   "source": [
    "final_train = pd.concat([X_train.drop(num_features, axis=1), X_train_sdf], axis=1)"
   ]
  },
  {
   "cell_type": "code",
   "execution_count": 168,
   "metadata": {},
   "outputs": [],
   "source": [
    "final_test = pd.concat([X_test.drop(num_features, axis=1), X_test_sdf], axis=1)"
   ]
  },
  {
   "cell_type": "code",
   "execution_count": 169,
   "metadata": {
    "scrolled": true
   },
   "outputs": [
    {
     "data": {
      "text/html": [
       "<div>\n",
       "<style scoped>\n",
       "    .dataframe tbody tr th:only-of-type {\n",
       "        vertical-align: middle;\n",
       "    }\n",
       "\n",
       "    .dataframe tbody tr th {\n",
       "        vertical-align: top;\n",
       "    }\n",
       "\n",
       "    .dataframe thead th {\n",
       "        text-align: right;\n",
       "    }\n",
       "</style>\n",
       "<table border=\"1\" class=\"dataframe\">\n",
       "  <thead>\n",
       "    <tr style=\"text-align: right;\">\n",
       "      <th></th>\n",
       "      <th>index</th>\n",
       "      <th>about.halfInning</th>\n",
       "      <th>about.inning</th>\n",
       "      <th>details.call.description</th>\n",
       "      <th>details.description</th>\n",
       "      <th>matchup.batSide.code</th>\n",
       "      <th>matchup.pitchHand.code</th>\n",
       "      <th>matchup.pitcher.id</th>\n",
       "      <th>matchup.splits.menOnBase</th>\n",
       "      <th>pitchData.zone</th>\n",
       "      <th>...</th>\n",
       "      <th>WHIP</th>\n",
       "      <th>ERA</th>\n",
       "      <th>SO</th>\n",
       "      <th>SLG</th>\n",
       "      <th>OPS</th>\n",
       "      <th>WAR_y</th>\n",
       "      <th>about.atBatIndex</th>\n",
       "      <th>pitchData.nastyFactor</th>\n",
       "      <th>pitchNumber</th>\n",
       "      <th>prior_pitch_type</th>\n",
       "    </tr>\n",
       "  </thead>\n",
       "  <tbody>\n",
       "    <tr>\n",
       "      <th>0</th>\n",
       "      <td>73663</td>\n",
       "      <td>top</td>\n",
       "      <td>1</td>\n",
       "      <td>Ball - Called</td>\n",
       "      <td>Ball</td>\n",
       "      <td>R</td>\n",
       "      <td>L</td>\n",
       "      <td>607536</td>\n",
       "      <td>Men_On</td>\n",
       "      <td>14.0</td>\n",
       "      <td>...</td>\n",
       "      <td>1.171369</td>\n",
       "      <td>0.749140</td>\n",
       "      <td>0.633773</td>\n",
       "      <td>-0.744421</td>\n",
       "      <td>-0.646901</td>\n",
       "      <td>-0.924905</td>\n",
       "      <td>-1.890758</td>\n",
       "      <td>-1.311831</td>\n",
       "      <td>0.936532</td>\n",
       "      <td>0.776493</td>\n",
       "    </tr>\n",
       "    <tr>\n",
       "      <th>1</th>\n",
       "      <td>46694</td>\n",
       "      <td>bottom</td>\n",
       "      <td>7</td>\n",
       "      <td>Ball - Called</td>\n",
       "      <td>Ball</td>\n",
       "      <td>R</td>\n",
       "      <td>R</td>\n",
       "      <td>456696</td>\n",
       "      <td>Men_On</td>\n",
       "      <td>14.0</td>\n",
       "      <td>...</td>\n",
       "      <td>-0.520228</td>\n",
       "      <td>0.086192</td>\n",
       "      <td>-0.694605</td>\n",
       "      <td>-0.823360</td>\n",
       "      <td>-1.165129</td>\n",
       "      <td>-0.973927</td>\n",
       "      <td>0.440533</td>\n",
       "      <td>-0.796811</td>\n",
       "      <td>0.281590</td>\n",
       "      <td>0.776493</td>\n",
       "    </tr>\n",
       "    <tr>\n",
       "      <th>2</th>\n",
       "      <td>12163</td>\n",
       "      <td>bottom</td>\n",
       "      <td>8</td>\n",
       "      <td>Hit Into Play - Out(s)</td>\n",
       "      <td>In play, out(s)</td>\n",
       "      <td>L</td>\n",
       "      <td>R</td>\n",
       "      <td>453172</td>\n",
       "      <td>Empty</td>\n",
       "      <td>13.0</td>\n",
       "      <td>...</td>\n",
       "      <td>-0.269621</td>\n",
       "      <td>-1.136119</td>\n",
       "      <td>-0.768403</td>\n",
       "      <td>-0.383556</td>\n",
       "      <td>-0.585932</td>\n",
       "      <td>-0.238589</td>\n",
       "      <td>0.829081</td>\n",
       "      <td>2.259167</td>\n",
       "      <td>-1.028294</td>\n",
       "      <td>0.776493</td>\n",
       "    </tr>\n",
       "    <tr>\n",
       "      <th>3</th>\n",
       "      <td>58752</td>\n",
       "      <td>bottom</td>\n",
       "      <td>9</td>\n",
       "      <td>Strike - Swinging</td>\n",
       "      <td>Called Strike</td>\n",
       "      <td>R</td>\n",
       "      <td>R</td>\n",
       "      <td>476454</td>\n",
       "      <td>Loaded</td>\n",
       "      <td>7.0</td>\n",
       "      <td>...</td>\n",
       "      <td>-0.081666</td>\n",
       "      <td>0.438383</td>\n",
       "      <td>-0.079615</td>\n",
       "      <td>0.462222</td>\n",
       "      <td>0.259999</td>\n",
       "      <td>-0.728815</td>\n",
       "      <td>1.217630</td>\n",
       "      <td>0.451149</td>\n",
       "      <td>-1.028294</td>\n",
       "      <td>-1.287842</td>\n",
       "    </tr>\n",
       "    <tr>\n",
       "      <th>4</th>\n",
       "      <td>49821</td>\n",
       "      <td>bottom</td>\n",
       "      <td>2</td>\n",
       "      <td>Ball - Called</td>\n",
       "      <td>Ball</td>\n",
       "      <td>R</td>\n",
       "      <td>L</td>\n",
       "      <td>489119</td>\n",
       "      <td>RISP</td>\n",
       "      <td>14.0</td>\n",
       "      <td>...</td>\n",
       "      <td>0.920762</td>\n",
       "      <td>0.169061</td>\n",
       "      <td>-0.879102</td>\n",
       "      <td>-0.541434</td>\n",
       "      <td>-0.563069</td>\n",
       "      <td>-0.728815</td>\n",
       "      <td>-1.329521</td>\n",
       "      <td>-0.076946</td>\n",
       "      <td>0.281590</td>\n",
       "      <td>-1.287842</td>\n",
       "    </tr>\n",
       "  </tbody>\n",
       "</table>\n",
       "<p>5 rows × 22 columns</p>\n",
       "</div>"
      ],
      "text/plain": [
       "   index about.halfInning  about.inning details.call.description  \\\n",
       "0  73663              top             1            Ball - Called   \n",
       "1  46694           bottom             7            Ball - Called   \n",
       "2  12163           bottom             8   Hit Into Play - Out(s)   \n",
       "3  58752           bottom             9        Strike - Swinging   \n",
       "4  49821           bottom             2            Ball - Called   \n",
       "\n",
       "  details.description matchup.batSide.code matchup.pitchHand.code  \\\n",
       "0                Ball                    R                      L   \n",
       "1                Ball                    R                      R   \n",
       "2     In play, out(s)                    L                      R   \n",
       "3       Called Strike                    R                      R   \n",
       "4                Ball                    R                      L   \n",
       "\n",
       "   matchup.pitcher.id matchup.splits.menOnBase  pitchData.zone  \\\n",
       "0              607536                   Men_On            14.0   \n",
       "1              456696                   Men_On            14.0   \n",
       "2              453172                    Empty            13.0   \n",
       "3              476454                   Loaded             7.0   \n",
       "4              489119                     RISP            14.0   \n",
       "\n",
       "         ...             WHIP       ERA        SO       SLG       OPS  \\\n",
       "0        ...         1.171369  0.749140  0.633773 -0.744421 -0.646901   \n",
       "1        ...        -0.520228  0.086192 -0.694605 -0.823360 -1.165129   \n",
       "2        ...        -0.269621 -1.136119 -0.768403 -0.383556 -0.585932   \n",
       "3        ...        -0.081666  0.438383 -0.079615  0.462222  0.259999   \n",
       "4        ...         0.920762  0.169061 -0.879102 -0.541434 -0.563069   \n",
       "\n",
       "      WAR_y  about.atBatIndex  pitchData.nastyFactor  pitchNumber  \\\n",
       "0 -0.924905         -1.890758              -1.311831     0.936532   \n",
       "1 -0.973927          0.440533              -0.796811     0.281590   \n",
       "2 -0.238589          0.829081               2.259167    -1.028294   \n",
       "3 -0.728815          1.217630               0.451149    -1.028294   \n",
       "4 -0.728815         -1.329521              -0.076946     0.281590   \n",
       "\n",
       "   prior_pitch_type  \n",
       "0          0.776493  \n",
       "1          0.776493  \n",
       "2          0.776493  \n",
       "3         -1.287842  \n",
       "4         -1.287842  \n",
       "\n",
       "[5 rows x 22 columns]"
      ]
     },
     "execution_count": 169,
     "metadata": {},
     "output_type": "execute_result"
    }
   ],
   "source": [
    "final_train.head()"
   ]
  },
  {
   "cell_type": "code",
   "execution_count": 170,
   "metadata": {},
   "outputs": [
    {
     "data": {
      "text/plain": [
       "(array([12588., 18671., 12640., 11706.,  2407.,  6844.,  1387.,  1656.,\n",
       "         3693.,  3408.]),\n",
       " array([-1.2547359 , -0.85684958, -0.45896326, -0.06107694,  0.33680938,\n",
       "         0.7346957 ,  1.13258202,  1.53046834,  1.92835466,  2.32624098,\n",
       "         2.7241273 ]),\n",
       " <a list of 10 Patch objects>)"
      ]
     },
     "execution_count": 170,
     "metadata": {},
     "output_type": "execute_result"
    },
    {
     "data": {
      "image/png": "[encoded data removed]",
      "text/plain": [
       "<Figure size 432x288 with 1 Axes>"
      ]
     },
     "metadata": {
      "needs_background": "light"
     },
     "output_type": "display_data"
    }
   ],
   "source": [
    "plt.hist(final_train['WAR_x'])"
   ]
  },
  {
   "cell_type": "code",
   "execution_count": 171,
   "metadata": {},
   "outputs": [
    {
     "name": "stdout",
     "output_type": "stream",
     "text": [
      "<class 'pandas.core.frame.DataFrame'>\n",
      "RangeIndex: 25000 entries, 0 to 24999\n",
      "Data columns (total 22 columns):\n",
      "index                       25000 non-null int64\n",
      "about.halfInning            25000 non-null object\n",
      "about.inning                25000 non-null int64\n",
      "details.call.description    25000 non-null object\n",
      "details.description         25000 non-null object\n",
      "matchup.batSide.code        25000 non-null object\n",
      "matchup.pitchHand.code      25000 non-null object\n",
      "matchup.pitcher.id          25000 non-null int64\n",
      "matchup.splits.menOnBase    25000 non-null object\n",
      "pitchData.zone              25000 non-null float64\n",
      "count                       25000 non-null object\n",
      "WAR_x                       25000 non-null float64\n",
      "WHIP                        25000 non-null float64\n",
      "ERA                         25000 non-null float64\n",
      "SO                          25000 non-null float64\n",
      "SLG                         25000 non-null float64\n",
      "OPS                         25000 non-null float64\n",
      "WAR_y                       25000 non-null float64\n",
      "about.atBatIndex            25000 non-null float64\n",
      "pitchData.nastyFactor       25000 non-null float64\n",
      "pitchNumber                 25000 non-null float64\n",
      "prior_pitch_type            25000 non-null float64\n",
      "dtypes: float64(12), int64(3), object(7)\n",
      "memory usage: 4.2+ MB\n"
     ]
    }
   ],
   "source": [
    "final_test.info()"
   ]
  },
  {
   "cell_type": "code",
   "execution_count": 194,
   "metadata": {},
   "outputs": [],
   "source": [
    "def run_classifier_models(classifiers, X_train, X_test, y_train, y_test):\n",
    "    for classifier in classifiers:\n",
    "        #Intialize classifier pipeline\n",
    "        clf1 = Pipeline(steps=[('preprocessor', preprocessor),\n",
    "                              ('classifier', classifier)])\n",
    "        clf1.fit(X_train, y_train)\n",
    "\n",
    "        # Print accuracy metrics for each model using pitch_functions.py\n",
    "        print(classifier)\n",
    "        print('\\n')\n",
    "        print('Training Metrics')\n",
    "        pitch_functions.calc_acc_and_f1_score(y_train, clf1.predict(X_train))\n",
    "        print('\\n')\n",
    "        print('Testing Metrics')\n",
    "        pitch_functions.calc_acc_and_f1_score(y_test, clf1.predict(X_test))\n",
    "        print('\\n')"
   ]
  },
  {
   "cell_type": "markdown",
   "metadata": {},
   "source": [
    "- Need to get back to the drawing board\n",
    "- lets try dividing this up a little bit\n",
    "- national league teams\n",
    "- american league teams\n",
    "- start with the houston astros "
   ]
  },
  {
   "cell_type": "code",
   "execution_count": 195,
   "metadata": {},
   "outputs": [
    {
     "name": "stdout",
     "output_type": "stream",
     "text": [
      "DecisionTreeClassifier(class_weight=None, criterion='gini', max_depth=None,\n",
      "            max_features=None, max_leaf_nodes=None,\n",
      "            min_impurity_decrease=0.0, min_impurity_split=None,\n",
      "            min_samples_leaf=1, min_samples_split=2,\n",
      "            min_weight_fraction_leaf=0.0, presort=False, random_state=None,\n",
      "            splitter='best')\n",
      "\n",
      "\n",
      "Training Metrics\n",
      "Accuracy:1.000\n",
      "F1-Score: 1.000\n",
      "AUC: 1.000\n",
      "\n",
      "\n",
      "Testing Metrics\n",
      "Accuracy:0.716\n",
      "F1-Score: 0.716\n",
      "AUC: 0.703\n",
      "\n",
      "\n",
      "RandomForestClassifier(bootstrap=True, class_weight=None, criterion='gini',\n",
      "            max_depth=5, max_features='auto', max_leaf_nodes=None,\n",
      "            min_impurity_decrease=0.0, min_impurity_split=None,\n",
      "            min_samples_leaf=1, min_samples_split=2,\n",
      "            min_weight_fraction_leaf=0.0, n_estimators=100, n_jobs=None,\n",
      "            oob_score=False, random_state=None, verbose=0,\n",
      "            warm_start=False)\n",
      "\n",
      "\n",
      "Training Metrics\n",
      "Accuracy:0.656\n",
      "F1-Score: 0.566\n",
      "AUC: 0.565\n",
      "\n",
      "\n",
      "Testing Metrics\n",
      "Accuracy:0.654\n",
      "F1-Score: 0.563\n",
      "AUC: 0.565\n",
      "\n",
      "\n",
      "GradientBoostingClassifier(criterion='friedman_mse', init=None,\n",
      "              learning_rate=0.1, loss='deviance', max_depth=3,\n",
      "              max_features=None, max_leaf_nodes=None,\n",
      "              min_impurity_decrease=0.0, min_impurity_split=None,\n",
      "              min_samples_leaf=1, min_samples_split=2,\n",
      "              min_weight_fraction_leaf=0.0, n_estimators=100,\n",
      "              n_iter_no_change=None, presort='auto', random_state=None,\n",
      "              subsample=1.0, tol=0.0001, validation_fraction=0.1,\n",
      "              verbose=0, warm_start=False)\n",
      "\n",
      "\n",
      "Training Metrics\n",
      "Accuracy:0.760\n",
      "F1-Score: 0.752\n",
      "AUC: 0.727\n",
      "\n",
      "\n",
      "Testing Metrics\n",
      "Accuracy:0.757\n",
      "F1-Score: 0.750\n",
      "AUC: 0.726\n",
      "\n",
      "\n",
      "XGBClassifier(base_score=0.5, booster='gbtree', colsample_bylevel=1,\n",
      "       colsample_bynode=1, colsample_bytree=1, gamma=0, learning_rate=0.1,\n",
      "       max_delta_step=0, max_depth=3, min_child_weight=1, missing=None,\n",
      "       n_estimators=100, n_jobs=1, nthread=None,\n",
      "       objective='binary:logistic', random_state=0, reg_alpha=0,\n",
      "       reg_lambda=1, scale_pos_weight=1, seed=None, silent=None,\n",
      "       subsample=1, verbosity=1)\n",
      "\n",
      "\n",
      "Training Metrics\n",
      "Accuracy:0.756\n",
      "F1-Score: 0.748\n",
      "AUC: 0.723\n",
      "\n",
      "\n",
      "Testing Metrics\n",
      "Accuracy:0.753\n",
      "F1-Score: 0.745\n",
      "AUC: 0.720\n",
      "\n",
      "\n"
     ]
    }
   ],
   "source": [
    "run_classifier_models(classifiers, X_train, X_test, y_train, y_test)"
   ]
  },
  {
   "cell_type": "code",
   "execution_count": null,
   "metadata": {},
   "outputs": [],
   "source": []
  }
 ],
 "metadata": {
  "kernelspec": {
   "display_name": "Python 3",
   "language": "python",
   "name": "python3"
  },
  "language_info": {
   "codemirror_mode": {
    "name": "ipython",
    "version": 3
   },
   "file_extension": ".py",
   "mimetype": "text/x-python",
   "name": "python",
   "nbconvert_exporter": "python",
   "pygments_lexer": "ipython3",
   "version": "3.7.1"
  }
 },
 "nbformat": 4,
 "nbformat_minor": 2
}
