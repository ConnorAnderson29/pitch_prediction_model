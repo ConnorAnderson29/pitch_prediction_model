{
 "cells": [
  {
   "cell_type": "markdown",
   "metadata": {},
   "source": [
    "# Exploratory Data Analysis/Data Preparation/Data Exportation\n",
    "\n",
    "#### The purpose of this notebook is to collect and clean data, perform preliminary eda and output dataframes as CSV for later combination in another notebook"
   ]
  },
  {
   "cell_type": "markdown",
   "metadata": {},
   "source": [
    "#### Importing the necessary libraries"
   ]
  },
  {
   "cell_type": "code",
   "execution_count": 6,
   "metadata": {},
   "outputs": [],
   "source": [
    "#DATA WRANGLING\n",
    "import pandas as pd # Dataframes\n",
    "from pandas.io.json import json_normalize # JSON wrangler\n",
    "import statsapi # Python wrapper MLB data API"
   ]
  },
  {
   "cell_type": "code",
   "execution_count": 7,
   "metadata": {},
   "outputs": [],
   "source": [
    "#DATA STORAGE\n",
    "#from sqlalchemy import create_engine # SQL helper\n",
    "import psycopg2 as psql #PostgreSQL DBs"
   ]
  },
  {
   "cell_type": "code",
   "execution_count": 8,
   "metadata": {},
   "outputs": [],
   "source": [
    "#DATA MANIPULATION AND MODELLING\n",
    "import numpy as np\n",
    "np.random.seed(0)\n",
    "import matplotlib.pyplot as plt\n",
    "from sklearn.model_selection import train_test_split, cross_val_score\n",
    "from sklearn.metrics import accuracy_score, confusion_matrix, classification_report\n",
    "from sklearn.tree import DecisionTreeClassifier\n",
    "from sklearn.ensemble import BaggingClassifier, RandomForestClassifier, GradientBoostingClassifier\n",
    "from sklearn.preprocessing import OneHotEncoder\n",
    "from sklearn_pandas import DataFrameMapper, FunctionTransformer, gen_features, pipeline\n",
    "from sklearn_pandas.pipeline import Pipeline\n",
    "from sklearn.compose import ColumnTransformer\n",
    "import seaborn as sns\n",
    "from sklearn.metrics import f1_score, accuracy_score, roc_auc_score\n",
    "from sklearn.preprocessing import LabelBinarizer\n",
    "import xgboost as xgb\n",
    "import os\n",
    "import pitch_functions"
   ]
  },
  {
   "cell_type": "code",
   "execution_count": 9,
   "metadata": {},
   "outputs": [],
   "source": [
    "os.environ['KMP_DUPLICATE_LIB_OK']='True'"
   ]
  },
  {
   "cell_type": "code",
   "execution_count": 108,
   "metadata": {},
   "outputs": [],
   "source": [
    "pd.set_option('display.max_columns', None)"
   ]
  },
  {
   "cell_type": "markdown",
   "metadata": {},
   "source": [
    "## Data Extraction\n"
   ]
  },
  {
   "cell_type": "markdown",
   "metadata": {},
   "source": [
    "Importing team codes from TSV file in ```public_data direcrtory```. Using this data to construct a data frame of each teams identifier for use later. "
   ]
  },
  {
   "cell_type": "code",
   "execution_count": 10,
   "metadata": {},
   "outputs": [],
   "source": [
    "teams = pd.read_csv('public_data/team_codes.tsv', sep='\\t')\n",
    "\n",
    "teams['full_name'] = teams['full_name'].str.lower().str.replace(' ', '_').str.replace('-','_')"
   ]
  },
  {
   "cell_type": "code",
   "execution_count": 11,
   "metadata": {},
   "outputs": [
    {
     "data": {
      "text/html": [
       "<div>\n",
       "<style scoped>\n",
       "    .dataframe tbody tr th:only-of-type {\n",
       "        vertical-align: middle;\n",
       "    }\n",
       "\n",
       "    .dataframe tbody tr th {\n",
       "        vertical-align: top;\n",
       "    }\n",
       "\n",
       "    .dataframe thead th {\n",
       "        text-align: right;\n",
       "    }\n",
       "</style>\n",
       "<table border=\"1\" class=\"dataframe\">\n",
       "  <thead>\n",
       "    <tr style=\"text-align: right;\">\n",
       "      <th></th>\n",
       "      <th>code</th>\n",
       "      <th>short_name</th>\n",
       "      <th>full_name</th>\n",
       "    </tr>\n",
       "  </thead>\n",
       "  <tbody>\n",
       "    <tr>\n",
       "      <th>0</th>\n",
       "      <td>108</td>\n",
       "      <td>LAA</td>\n",
       "      <td>angels</td>\n",
       "    </tr>\n",
       "    <tr>\n",
       "      <th>1</th>\n",
       "      <td>109</td>\n",
       "      <td>ARI</td>\n",
       "      <td>d_backs</td>\n",
       "    </tr>\n",
       "    <tr>\n",
       "      <th>2</th>\n",
       "      <td>110</td>\n",
       "      <td>BAL</td>\n",
       "      <td>orioles</td>\n",
       "    </tr>\n",
       "    <tr>\n",
       "      <th>3</th>\n",
       "      <td>111</td>\n",
       "      <td>BOS</td>\n",
       "      <td>red_sox</td>\n",
       "    </tr>\n",
       "    <tr>\n",
       "      <th>4</th>\n",
       "      <td>112</td>\n",
       "      <td>CHC</td>\n",
       "      <td>cubs</td>\n",
       "    </tr>\n",
       "  </tbody>\n",
       "</table>\n",
       "</div>"
      ],
      "text/plain": [
       "   code short_name full_name\n",
       "0   108        LAA    angels\n",
       "1   109        ARI   d_backs\n",
       "2   110        BAL   orioles\n",
       "3   111        BOS   red_sox\n",
       "4   112        CHC      cubs"
      ]
     },
     "execution_count": 11,
     "metadata": {},
     "output_type": "execute_result"
    }
   ],
   "source": [
    "teams.head()"
   ]
  },
  {
   "cell_type": "code",
   "execution_count": 16,
   "metadata": {},
   "outputs": [
    {
     "data": {
      "text/html": [
       "<div>\n",
       "<style scoped>\n",
       "    .dataframe tbody tr th:only-of-type {\n",
       "        vertical-align: middle;\n",
       "    }\n",
       "\n",
       "    .dataframe tbody tr th {\n",
       "        vertical-align: top;\n",
       "    }\n",
       "\n",
       "    .dataframe thead th {\n",
       "        text-align: right;\n",
       "    }\n",
       "</style>\n",
       "<table border=\"1\" class=\"dataframe\">\n",
       "  <thead>\n",
       "    <tr style=\"text-align: right;\">\n",
       "      <th></th>\n",
       "      <th>0</th>\n",
       "    </tr>\n",
       "  </thead>\n",
       "  <tbody>\n",
       "    <tr>\n",
       "      <th>0</th>\n",
       "      <td>The angels has code 108</td>\n",
       "    </tr>\n",
       "  </tbody>\n",
       "</table>\n",
       "</div>"
      ],
      "text/plain": [
       "                         0\n",
       "0  The angels has code 108"
      ]
     },
     "execution_count": 16,
     "metadata": {},
     "output_type": "execute_result"
    }
   ],
   "source": [
    "team_code = []\n",
    "for code, team_name in zip(teams['code'],teams['full_name']):\n",
    "    text = (f'The {team_name} has code {code}')\n",
    "    team_code.append(text)\n",
    "team_code_df = pd.DataFrame(team_code)\n",
    "team_code_df.head(1)"
   ]
  },
  {
   "cell_type": "markdown",
   "metadata": {},
   "source": [
    "## Visuals"
   ]
  },
  {
   "cell_type": "markdown",
   "metadata": {},
   "source": [
    "## Pipeline Preparation"
   ]
  },
  {
   "cell_type": "code",
   "execution_count": 128,
   "metadata": {},
   "outputs": [],
   "source": [
    "pitch_clean = each_pitch_clean.dropna().copy()"
   ]
  },
  {
   "cell_type": "code",
   "execution_count": 129,
   "metadata": {},
   "outputs": [
    {
     "data": {
      "text/html": [
       "<div>\n",
       "<style scoped>\n",
       "    .dataframe tbody tr th:only-of-type {\n",
       "        vertical-align: middle;\n",
       "    }\n",
       "\n",
       "    .dataframe tbody tr th {\n",
       "        vertical-align: top;\n",
       "    }\n",
       "\n",
       "    .dataframe thead th {\n",
       "        text-align: right;\n",
       "    }\n",
       "</style>\n",
       "<table border=\"1\" class=\"dataframe\">\n",
       "  <thead>\n",
       "    <tr style=\"text-align: right;\">\n",
       "      <th></th>\n",
       "      <th>about.atBatIndex</th>\n",
       "      <th>about.halfInning</th>\n",
       "      <th>about.inning</th>\n",
       "      <th>count.balls</th>\n",
       "      <th>count.strikes</th>\n",
       "      <th>details.call.code</th>\n",
       "      <th>details.call.description</th>\n",
       "      <th>details.description</th>\n",
       "      <th>matchup.batSide.code</th>\n",
       "      <th>matchup.batter.fullName</th>\n",
       "      <th>matchup.pitchHand.code</th>\n",
       "      <th>matchup.pitcher.fullName</th>\n",
       "      <th>matchup.pitcher.id</th>\n",
       "      <th>matchup.splits.menOnBase</th>\n",
       "      <th>pitchData.nastyFactor</th>\n",
       "      <th>pitchData.zone</th>\n",
       "      <th>pitchNumber</th>\n",
       "      <th>previous_pitch_code</th>\n",
       "      <th>pitch_type</th>\n",
       "      <th>prior_pitch_type</th>\n",
       "    </tr>\n",
       "  </thead>\n",
       "  <tbody>\n",
       "    <tr>\n",
       "      <th>2</th>\n",
       "      <td>1</td>\n",
       "      <td>top</td>\n",
       "      <td>1</td>\n",
       "      <td>2.0</td>\n",
       "      <td>0.0</td>\n",
       "      <td>B</td>\n",
       "      <td>Ball - Called</td>\n",
       "      <td>Ball</td>\n",
       "      <td>R</td>\n",
       "      <td>Kris Bryant</td>\n",
       "      <td>R</td>\n",
       "      <td>Jose Urena</td>\n",
       "      <td>570632</td>\n",
       "      <td>Men_On</td>\n",
       "      <td>29.02</td>\n",
       "      <td>13.0</td>\n",
       "      <td>2.0</td>\n",
       "      <td>FT</td>\n",
       "      <td>Fastball</td>\n",
       "      <td>Fastball</td>\n",
       "    </tr>\n",
       "    <tr>\n",
       "      <th>3</th>\n",
       "      <td>1</td>\n",
       "      <td>top</td>\n",
       "      <td>1</td>\n",
       "      <td>2.0</td>\n",
       "      <td>1.0</td>\n",
       "      <td>S</td>\n",
       "      <td>Strike - Swinging</td>\n",
       "      <td>Swinging Strike</td>\n",
       "      <td>R</td>\n",
       "      <td>Kris Bryant</td>\n",
       "      <td>R</td>\n",
       "      <td>Jose Urena</td>\n",
       "      <td>570632</td>\n",
       "      <td>Men_On</td>\n",
       "      <td>41.63</td>\n",
       "      <td>13.0</td>\n",
       "      <td>3.0</td>\n",
       "      <td>FT</td>\n",
       "      <td>Fastball</td>\n",
       "      <td>Fastball</td>\n",
       "    </tr>\n",
       "  </tbody>\n",
       "</table>\n",
       "</div>"
      ],
      "text/plain": [
       "   about.atBatIndex about.halfInning  about.inning  count.balls  \\\n",
       "2                 1              top             1          2.0   \n",
       "3                 1              top             1          2.0   \n",
       "\n",
       "   count.strikes details.call.code details.call.description  \\\n",
       "2            0.0                 B            Ball - Called   \n",
       "3            1.0                 S        Strike - Swinging   \n",
       "\n",
       "  details.description matchup.batSide.code matchup.batter.fullName  \\\n",
       "2                Ball                    R             Kris Bryant   \n",
       "3     Swinging Strike                    R             Kris Bryant   \n",
       "\n",
       "  matchup.pitchHand.code matchup.pitcher.fullName  matchup.pitcher.id  \\\n",
       "2                      R               Jose Urena              570632   \n",
       "3                      R               Jose Urena              570632   \n",
       "\n",
       "  matchup.splits.menOnBase  pitchData.nastyFactor  pitchData.zone  \\\n",
       "2                   Men_On                  29.02            13.0   \n",
       "3                   Men_On                  41.63            13.0   \n",
       "\n",
       "   pitchNumber previous_pitch_code pitch_type prior_pitch_type  \n",
       "2          2.0                  FT   Fastball         Fastball  \n",
       "3          3.0                  FT   Fastball         Fastball  "
      ]
     },
     "execution_count": 129,
     "metadata": {},
     "output_type": "execute_result"
    }
   ],
   "source": [
    "# Lost about 600, but this is just a test\n",
    "pitch_clean.head(2)"
   ]
  },
  {
   "cell_type": "code",
   "execution_count": 130,
   "metadata": {},
   "outputs": [],
   "source": [
    "target = pitch_clean['pitch_type']"
   ]
  },
  {
   "cell_type": "code",
   "execution_count": 184,
   "metadata": {},
   "outputs": [],
   "source": [
    "predictors = pitch_clean.drop(['pitch_type', 'matchup.pitcher.fullName', 'matchup.batter.fullName'], axis=1)"
   ]
  },
  {
   "cell_type": "code",
   "execution_count": 185,
   "metadata": {},
   "outputs": [],
   "source": [
    "numerical_values = list(predictors['pitchNumber'])"
   ]
  },
  {
   "cell_type": "code",
   "execution_count": 186,
   "metadata": {},
   "outputs": [],
   "source": [
    "num_features = list(predictors.select_dtypes(exclude='object'))"
   ]
  },
  {
   "cell_type": "code",
   "execution_count": 187,
   "metadata": {},
   "outputs": [],
   "source": [
    "numeric_transformer = Pipeline(steps=[('keeper', None)])"
   ]
  },
  {
   "cell_type": "code",
   "execution_count": 188,
   "metadata": {},
   "outputs": [],
   "source": [
    "categorical_value_df = predictors.drop(['pitchNumber'], axis=1)"
   ]
  },
  {
   "cell_type": "code",
   "execution_count": 189,
   "metadata": {},
   "outputs": [],
   "source": [
    "categorial_values = list(categorical_value_df)"
   ]
  },
  {
   "cell_type": "code",
   "execution_count": 190,
   "metadata": {},
   "outputs": [],
   "source": [
    "cat_features = list(predictors.select_dtypes(include='object'))"
   ]
  },
  {
   "cell_type": "code",
   "execution_count": 191,
   "metadata": {},
   "outputs": [],
   "source": [
    "cat_transfomer = Pipeline(steps=[('onehot', OneHotEncoder())])"
   ]
  },
  {
   "cell_type": "code",
   "execution_count": 192,
   "metadata": {},
   "outputs": [],
   "source": [
    "preprocessor = ColumnTransformer(transformers=[('num', numeric_transformer, num_features),\n",
    "                                              ('cat', cat_transfomer, cat_features)])"
   ]
  },
  {
   "cell_type": "code",
   "execution_count": 193,
   "metadata": {},
   "outputs": [],
   "source": [
    "classifiers = [DecisionTreeClassifier(), RandomForestClassifier(n_estimators=100, max_depth=5), \n",
    "               GradientBoostingClassifier(n_estimators=100), xgb.XGBClassifier()]"
   ]
  },
  {
   "cell_type": "markdown",
   "metadata": {},
   "source": [
    "## Model Creation"
   ]
  },
  {
   "cell_type": "code",
   "execution_count": 194,
   "metadata": {},
   "outputs": [],
   "source": [
    "X_train, X_test, y_train, y_test = train_test_split(predictors, target, random_state=10)"
   ]
  },
  {
   "cell_type": "code",
   "execution_count": 197,
   "metadata": {},
   "outputs": [],
   "source": [
    "#X_test[X_test['matchup.batter.fullName'].str.contains(\"Lucas Sims\")==True]"
   ]
  },
  {
   "cell_type": "code",
   "execution_count": 196,
   "metadata": {},
   "outputs": [
    {
     "name": "stdout",
     "output_type": "stream",
     "text": [
      "DecisionTreeClassifier(class_weight=None, criterion='gini', max_depth=None,\n",
      "            max_features=None, max_leaf_nodes=None,\n",
      "            min_impurity_decrease=0.0, min_impurity_split=None,\n",
      "            min_samples_leaf=1, min_samples_split=2,\n",
      "            min_weight_fraction_leaf=0.0, presort=False, random_state=None,\n",
      "            splitter='best')\n",
      "\n",
      "\n",
      "Training Metrics\n",
      "Accuracy:1.000\n",
      "F1-Score: 1.000\n",
      "AUC: 1.000\n",
      "\n",
      "\n",
      "Testing Metrics\n",
      "Accuracy:0.627\n",
      "F1-Score: 0.629\n",
      "AUC: 0.646\n",
      "\n",
      "\n",
      "RandomForestClassifier(bootstrap=True, class_weight=None, criterion='gini',\n",
      "            max_depth=5, max_features='auto', max_leaf_nodes=None,\n",
      "            min_impurity_decrease=0.0, min_impurity_split=None,\n",
      "            min_samples_leaf=1, min_samples_split=2,\n",
      "            min_weight_fraction_leaf=0.0, n_estimators=100, n_jobs=None,\n",
      "            oob_score=False, random_state=None, verbose=0,\n",
      "            warm_start=False)\n",
      "\n",
      "\n",
      "Training Metrics\n",
      "Accuracy:0.648\n",
      "F1-Score: 0.547\n",
      "AUC: 0.544\n",
      "\n",
      "\n",
      "Testing Metrics\n",
      "Accuracy:0.652\n",
      "F1-Score: 0.552\n",
      "AUC: 0.544\n",
      "\n",
      "\n",
      "GradientBoostingClassifier(criterion='friedman_mse', init=None,\n",
      "              learning_rate=0.1, loss='deviance', max_depth=3,\n",
      "              max_features=None, max_leaf_nodes=None,\n",
      "              min_impurity_decrease=0.0, min_impurity_split=None,\n",
      "              min_samples_leaf=1, min_samples_split=2,\n",
      "              min_weight_fraction_leaf=0.0, n_estimators=100,\n",
      "              n_iter_no_change=None, presort='auto', random_state=None,\n",
      "              subsample=1.0, tol=0.0001, validation_fraction=0.1,\n",
      "              verbose=0, warm_start=False)\n",
      "\n",
      "\n",
      "Training Metrics\n",
      "Accuracy:0.711\n",
      "F1-Score: 0.674\n",
      "AUC: 0.648\n",
      "\n",
      "\n",
      "Testing Metrics\n",
      "Accuracy:0.712\n",
      "F1-Score: 0.676\n",
      "AUC: 0.648\n",
      "\n",
      "\n",
      "XGBClassifier(base_score=0.5, booster='gbtree', colsample_bylevel=1,\n",
      "       colsample_bynode=1, colsample_bytree=1, gamma=0, learning_rate=0.1,\n",
      "       max_delta_step=0, max_depth=3, min_child_weight=1, missing=None,\n",
      "       n_estimators=100, n_jobs=1, nthread=None,\n",
      "       objective='multi:softprob', random_state=0, reg_alpha=0,\n",
      "       reg_lambda=1, scale_pos_weight=1, seed=None, silent=None,\n",
      "       subsample=1, verbosity=1)\n",
      "\n",
      "\n",
      "Training Metrics\n",
      "Accuracy:0.699\n",
      "F1-Score: 0.655\n",
      "AUC: 0.629\n",
      "\n",
      "\n",
      "Testing Metrics\n",
      "Accuracy:0.701\n",
      "F1-Score: 0.658\n",
      "AUC: 0.630\n",
      "\n",
      "\n"
     ]
    }
   ],
   "source": [
    "for classifier in classifiers:\n",
    "    #Intialize classifier pipeline\n",
    "    clf1 = Pipeline(steps=[('preprocessor', preprocessor),\n",
    "                          ('classifier', classifier)])\n",
    "    clf1.fit(X_train, y_train)\n",
    "    one_hot_names = list(clf1.named_steps['preprocessor'].transformers_[1][1].named_steps['onehot'].get_feature_names())\n",
    "    final_feats = num_features + one_hot_names\n",
    "    # Print accuracy metrics for each model using pitch_functions.py\n",
    "    print(classifier)\n",
    "    print('\\n')\n",
    "    print('Training Metrics')\n",
    "    pitch_functions.calc_acc_and_f1_score(y_train, clf1.predict(X_train))\n",
    "    print('\\n')\n",
    "    print('Testing Metrics')\n",
    "    pitch_functions.calc_acc_and_f1_score(y_test, clf1.predict(X_test))\n",
    "    print('\\n')\n",
    "    "
   ]
  },
  {
   "cell_type": "code",
   "execution_count": null,
   "metadata": {},
   "outputs": [],
   "source": []
  },
  {
   "cell_type": "code",
   "execution_count": null,
   "metadata": {},
   "outputs": [],
   "source": []
  }
 ],
 "metadata": {
  "kernelspec": {
   "display_name": "Python 3",
   "language": "python",
   "name": "python3"
  },
  "language_info": {
   "codemirror_mode": {
    "name": "ipython",
    "version": 3
   },
   "file_extension": ".py",
   "mimetype": "text/x-python",
   "name": "python",
   "nbconvert_exporter": "python",
   "pygments_lexer": "ipython3",
   "version": "3.7.1"
  }
 },
 "nbformat": 4,
 "nbformat_minor": 2
}
