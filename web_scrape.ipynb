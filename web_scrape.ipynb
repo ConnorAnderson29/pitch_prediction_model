{
 "cells": [
  {
   "cell_type": "code",
   "execution_count": 23,
   "metadata": {},
   "outputs": [],
   "source": [
    "from selenium import webdriver\n",
    "from selenium.webdriver.common.keys import Keys\n",
    "from selenium.webdriver.support.ui import WebDriverWait\n",
    "from bs4 import BeautifulSoup\n",
    "import pandas as pd\n",
    "import re\n",
    "import os"
   ]
  },
  {
   "cell_type": "code",
   "execution_count": 42,
   "metadata": {},
   "outputs": [],
   "source": [
    "browser = Firefox()\n",
    "url = 'http://www.espn.com/mlb/stats/batting/_/year/2018/seasontype/2'\n",
    "browser.get(url)"
   ]
  },
  {
   "cell_type": "code",
   "execution_count": 71,
   "metadata": {},
   "outputs": [],
   "source": [
    "def get_players(browser):\n",
    "    \"\"\" Returning player name\"\"\"\n",
    "    sel = 'tbody'\n",
    "    players = browser.find_elements_by_css_selector(sel)\n",
    "    return [player.text for player in players]\n",
    "    #return players"
   ]
  },
  {
   "cell_type": "code",
   "execution_count": 72,
   "metadata": {},
   "outputs": [],
   "source": [
    "player_list = get_players(browser)"
   ]
  },
  {
   "cell_type": "code",
   "execution_count": 73,
   "metadata": {},
   "outputs": [
    {
     "data": {
      "text/html": [
       "<div>\n",
       "<style scoped>\n",
       "    .dataframe tbody tr th:only-of-type {\n",
       "        vertical-align: middle;\n",
       "    }\n",
       "\n",
       "    .dataframe tbody tr th {\n",
       "        vertical-align: top;\n",
       "    }\n",
       "\n",
       "    .dataframe thead th {\n",
       "        text-align: right;\n",
       "    }\n",
       "</style>\n",
       "<table border=\"1\" class=\"dataframe\">\n",
       "  <thead>\n",
       "    <tr style=\"text-align: right;\">\n",
       "      <th></th>\n",
       "      <th>0</th>\n",
       "    </tr>\n",
       "  </thead>\n",
       "  <tbody>\n",
       "    <tr>\n",
       "      <th>0</th>\n",
       "      <td>Sortable Batting\\nRK PLAYER TEAM AB R H 2B 3B ...</td>\n",
       "    </tr>\n",
       "  </tbody>\n",
       "</table>\n",
       "</div>"
      ],
      "text/plain": [
       "                                                   0\n",
       "0  Sortable Batting\\nRK PLAYER TEAM AB R H 2B 3B ..."
      ]
     },
     "execution_count": 73,
     "metadata": {},
     "output_type": "execute_result"
    }
   ],
   "source": [
    "player_df = pd.DataFrame(player_list)\n",
    "player_df"
   ]
  },
  {
   "cell_type": "code",
   "execution_count": 74,
   "metadata": {},
   "outputs": [
    {
     "data": {
      "text/plain": [
       "'Sortable Batting\\nRK PLAYER TEAM AB R H 2B 3B HR RBI SB CS BB SO AVG OBP SLG OPS WAR\\n1 Mookie Betts BOS 520 129 180 47 5 32 80 30 6 81 91 .346 .438 .640 1.078 10.9\\n2 J.D. Martinez BOS 569 111 188 37 2 43 130 6 1 69 146 .330 .402 .629 1.031 6.4\\n3 Christian Yelich MIL 574 118 187 34 7 36 110 22 4 68 135 .326 .402 .598 1.000 7.6\\n4 Jose Altuve HOU 534 84 169 29 2 13 61 17 4 55 79 .316 .386 .451 .837 5.2\\n5 Mike Trout LAA 471 101 147 24 4 39 79 24 2 122 124 .312 .460 .628 1.088 10.2\\n6 Scooter Gennett CIN 584 86 181 30 3 23 92 4 2 42 125 .310 .357 .490 .847 4.2\\n7 Freddie Freeman ATL 618 94 191 44 4 23 98 10 3 76 132 .309 .388 .505 .892 6.1\\n8 Michael Brantley CLE 570 89 176 36 2 17 76 12 3 48 60 .309 .364 .468 .832 3.6\\n9 Anthony Rendon WSH 529 88 163 44 2 24 92 2 1 55 82 .308 .374 .535 .909 4.2\\n10 Lorenzo Cain MIL 539 90 166 25 2 10 38 30 7 71 94 .308 .395 .417 .813 6.9\\nRK PLAYER TEAM AB R H 2B 3B HR RBI SB CS BB SO AVG OBP SLG OPS WAR\\n11 Ben Zobrist CHC 455 67 139 28 3 9 58 3 4 55 60 .305 .378 .440 .817 3.3\\n12 Jose Martinez STL 534 64 163 30 0 17 83 0 3 49 104 .305 .364 .457 .821 1.5\\n13 Whit Merrifield KC 632 88 192 43 3 12 60 45 10 61 114 .304 .367 .438 .806 5.5\\n14 Jean Segura SEA 586 91 178 29 3 10 63 20 11 32 69 .304 .341 .415 .755 4.3\\n15 Joey Wendle TB 487 62 146 33 6 7 61 16 4 37 96 .300 .354 .435 .789 4.3\\n16 Corey Dickerson PIT 504 65 151 35 7 13 55 8 3 21 80 .300 .330 .474 .804 3.8\\n17 Nicholas Castellanos DET 620 88 185 46 5 23 89 2 1 49 151 .298 .354 .500 .854 2.9\\n18 Manny Machado BAL/LAD 632 84 188 35 3 37 107 14 2 70 104 .297 .367 .538 .905 5.7\\n19 Nick Markakis ATL 623 78 185 43 2 14 93 1 1 72 80 .297 .366 .440 .806 2.6\\n20 Miguel Andujar NYY 573 83 170 47 2 27 92 2 1 25 97 .297 .328 .527 .855 2.2\\nRK PLAYER TEAM AB R H 2B 3B HR RBI SB CS BB SO AVG OBP SLG OPS WAR\\n21 Nolan Arenado COL 590 104 175 38 2 38 110 2 2 73 122 .297 .374 .561 .935 5.6\\n22 Mallex Smith TB 480 65 142 27 10 2 40 40 12 47 98 .296 .367 .406 .773 3.5\\n23 Matt Duffy TB 503 59 148 22 1 4 44 12 6 47 93 .294 .361 .366 .727 2.4\\n24 David Peralta ARI 560 75 164 25 5 30 87 4 0 48 124 .293 .352 .516 .868 3.9\\n25 Andrelton Simmons LAA 554 68 162 26 5 11 75 10 2 35 44 .292 .337 .417 .754 6.2\\n26 Trevor Story COL 598 88 174 42 6 37 108 27 6 47 168 .291 .348 .567 .914 5.6\\n27 Charlie Blackmon COL 626 119 182 31 7 29 70 12 4 59 134 .291 .358 .502 .860 0.8\\n28 Yuli Gurriel HOU 537 70 156 33 1 13 85 5 1 23 63 .291 .323 .428 .751 2.2\\n29 Javier Baez CHC 606 101 176 40 9 34 111 21 9 29 167 .290 .326 .554 .881 6.3\\n30 Andrew Benintendi BOS 579 103 168 41 6 16 87 21 3 71 106 .290 .366 .465 .830 3.9\\nRK PLAYER TEAM AB R H 2B 3B HR RBI SB CS BB SO AVG OBP SLG OPS WAR\\n31 Paul Goldschmidt ARI 593 95 172 35 5 33 83 7 4 90 173 .290 .389 .533 .922 5.4\\n32 Matt Kemp LAD 462 62 134 25 0 21 85 0 0 36 115 .290 .338 .481 .818 1.1\\n33 Xander Bogaerts BOS 513 72 148 45 3 23 103 8 2 55 102 .288 .360 .522 .883 3.8\\n34 Eddie Rosario MIN 559 87 161 31 2 24 77 8 2 30 104 .288 .323 .479 .803 3.6\\n35 Jose Peraza CIN 632 85 182 31 4 14 58 23 6 29 75 .288 .326 .416 .742 2.3\\n36 Alex Bregman HOU 594 105 170 51 1 31 103 10 4 96 85 .286 .394 .532 .926 6.9\\n37 Mitch Haniger SEA 596 90 170 38 4 26 93 8 2 70 148 .285 .366 .493 .859 6.1\\n38 Joey Votto CIN 503 67 143 28 2 12 67 2 0 108 101 .284 .417 .419 .837 3.5\\n39 Eugenio Suarez CIN 527 79 149 22 2 34 104 1 1 64 142 .283 .366 .526 .892 4.2\\n40 Anthony Rizzo CHC 566 74 160 29 1 25 101 6 4 70 80 .283 .376 .470 .846 2.7'"
      ]
     },
     "execution_count": 74,
     "metadata": {},
     "output_type": "execute_result"
    }
   ],
   "source": [
    "player_list[0]"
   ]
  },
  {
   "cell_type": "code",
   "execution_count": 62,
   "metadata": {},
   "outputs": [],
   "source": [
    "headers_list = player_list[0].split(sep='\\n')[:1][0].split()"
   ]
  },
  {
   "cell_type": "code",
   "execution_count": 63,
   "metadata": {},
   "outputs": [],
   "source": [
    "header_list_clean = [word.replace('AVG▼', 'AVG')\n",
    " for word in headers_list] "
   ]
  },
  {
   "cell_type": "code",
   "execution_count": 64,
   "metadata": {},
   "outputs": [],
   "source": [
    "stats_raw = player_list[0].split(sep='\\n')[1:]"
   ]
  },
  {
   "cell_type": "code",
   "execution_count": 65,
   "metadata": {},
   "outputs": [
    {
     "data": {
      "text/plain": [
       "[['RK PLAYER TEAM AB R H 2B 3B HR RBI SB CS BB SO AVG OBP SLG OPS WAR'],\n",
       " ['1 Mookie Betts BOS 520 129 180 47 5 32 80 30 6 81 91 .346 .438 .640 1.078 10.9'],\n",
       " ['2 J.D. Martinez BOS 569 111 188 37 2 43 130 6 1 69 146 .330 .402 .629 1.031 6.4'],\n",
       " ['3 Christian Yelich MIL 574 118 187 34 7 36 110 22 4 68 135 .326 .402 .598 1.000 7.6'],\n",
       " ['4 Jose Altuve HOU 534 84 169 29 2 13 61 17 4 55 79 .316 .386 .451 .837 5.2'],\n",
       " ['5 Mike Trout LAA 471 101 147 24 4 39 79 24 2 122 124 .312 .460 .628 1.088 10.2'],\n",
       " ['6 Scooter Gennett CIN 584 86 181 30 3 23 92 4 2 42 125 .310 .357 .490 .847 4.2'],\n",
       " ['7 Freddie Freeman ATL 618 94 191 44 4 23 98 10 3 76 132 .309 .388 .505 .892 6.1'],\n",
       " ['8 Michael Brantley CLE 570 89 176 36 2 17 76 12 3 48 60 .309 .364 .468 .832 3.6'],\n",
       " ['9 Anthony Rendon WSH 529 88 163 44 2 24 92 2 1 55 82 .308 .374 .535 .909 4.2'],\n",
       " ['10 Lorenzo Cain MIL 539 90 166 25 2 10 38 30 7 71 94 .308 .395 .417 .813 6.9'],\n",
       " ['RK PLAYER TEAM AB R H 2B 3B HR RBI SB CS BB SO AVG OBP SLG OPS WAR'],\n",
       " ['11 Ben Zobrist CHC 455 67 139 28 3 9 58 3 4 55 60 .305 .378 .440 .817 3.3'],\n",
       " ['12 Jose Martinez STL 534 64 163 30 0 17 83 0 3 49 104 .305 .364 .457 .821 1.5'],\n",
       " ['13 Whit Merrifield KC 632 88 192 43 3 12 60 45 10 61 114 .304 .367 .438 .806 5.5'],\n",
       " ['14 Jean Segura SEA 586 91 178 29 3 10 63 20 11 32 69 .304 .341 .415 .755 4.3'],\n",
       " ['15 Joey Wendle TB 487 62 146 33 6 7 61 16 4 37 96 .300 .354 .435 .789 4.3'],\n",
       " ['16 Corey Dickerson PIT 504 65 151 35 7 13 55 8 3 21 80 .300 .330 .474 .804 3.8'],\n",
       " ['17 Nicholas Castellanos DET 620 88 185 46 5 23 89 2 1 49 151 .298 .354 .500 .854 2.9'],\n",
       " ['18 Manny Machado BAL/LAD 632 84 188 35 3 37 107 14 2 70 104 .297 .367 .538 .905 5.7'],\n",
       " ['19 Nick Markakis ATL 623 78 185 43 2 14 93 1 1 72 80 .297 .366 .440 .806 2.6'],\n",
       " ['20 Miguel Andujar NYY 573 83 170 47 2 27 92 2 1 25 97 .297 .328 .527 .855 2.2'],\n",
       " ['RK PLAYER TEAM AB R H 2B 3B HR RBI SB CS BB SO AVG OBP SLG OPS WAR'],\n",
       " ['21 Nolan Arenado COL 590 104 175 38 2 38 110 2 2 73 122 .297 .374 .561 .935 5.6'],\n",
       " ['22 Mallex Smith TB 480 65 142 27 10 2 40 40 12 47 98 .296 .367 .406 .773 3.5'],\n",
       " ['23 Matt Duffy TB 503 59 148 22 1 4 44 12 6 47 93 .294 .361 .366 .727 2.4'],\n",
       " ['24 David Peralta ARI 560 75 164 25 5 30 87 4 0 48 124 .293 .352 .516 .868 3.9'],\n",
       " ['25 Andrelton Simmons LAA 554 68 162 26 5 11 75 10 2 35 44 .292 .337 .417 .754 6.2'],\n",
       " ['26 Trevor Story COL 598 88 174 42 6 37 108 27 6 47 168 .291 .348 .567 .914 5.6'],\n",
       " ['27 Charlie Blackmon COL 626 119 182 31 7 29 70 12 4 59 134 .291 .358 .502 .860 0.8'],\n",
       " ['28 Yuli Gurriel HOU 537 70 156 33 1 13 85 5 1 23 63 .291 .323 .428 .751 2.2'],\n",
       " ['29 Javier Baez CHC 606 101 176 40 9 34 111 21 9 29 167 .290 .326 .554 .881 6.3'],\n",
       " ['30 Andrew Benintendi BOS 579 103 168 41 6 16 87 21 3 71 106 .290 .366 .465 .830 3.9'],\n",
       " ['RK PLAYER TEAM AB R H 2B 3B HR RBI SB CS BB SO AVG OBP SLG OPS WAR'],\n",
       " ['31 Paul Goldschmidt ARI 593 95 172 35 5 33 83 7 4 90 173 .290 .389 .533 .922 5.4'],\n",
       " ['32 Matt Kemp LAD 462 62 134 25 0 21 85 0 0 36 115 .290 .338 .481 .818 1.1'],\n",
       " ['33 Xander Bogaerts BOS 513 72 148 45 3 23 103 8 2 55 102 .288 .360 .522 .883 3.8'],\n",
       " ['34 Eddie Rosario MIN 559 87 161 31 2 24 77 8 2 30 104 .288 .323 .479 .803 3.6'],\n",
       " ['35 Jose Peraza CIN 632 85 182 31 4 14 58 23 6 29 75 .288 .326 .416 .742 2.3'],\n",
       " ['36 Alex Bregman HOU 594 105 170 51 1 31 103 10 4 96 85 .286 .394 .532 .926 6.9'],\n",
       " ['37 Mitch Haniger SEA 596 90 170 38 4 26 93 8 2 70 148 .285 .366 .493 .859 6.1'],\n",
       " ['38 Joey Votto CIN 503 67 143 28 2 12 67 2 0 108 101 .284 .417 .419 .837 3.5'],\n",
       " ['39 Eugenio Suarez CIN 527 79 149 22 2 34 104 1 1 64 142 .283 .366 .526 .892 4.2'],\n",
       " ['40 Anthony Rizzo CHC 566 74 160 29 1 25 101 6 4 70 80 .283 .376 .470 .846 2.7'],\n",
       " ['TOP | NEXT | BOT'],\n",
       " ['Glossary'],\n",
       " ['AB: At Bats'],\n",
       " ['R: Runs'],\n",
       " ['H: Hits'],\n",
       " ['2B: Doubles'],\n",
       " ['3B: Triples'],\n",
       " ['HR: Home Runs'],\n",
       " ['RBI: Runs Batted In'],\n",
       " ['SB: Stolen Bases'],\n",
       " ['CS: Caught Stealing'],\n",
       " ['BB: Walks'],\n",
       " ['SO: Strikeouts'],\n",
       " ['AVG: Batting Average'],\n",
       " ['OBP: On Base Percentage'],\n",
       " ['SLG: Slugging Percentage'],\n",
       " ['OPS: OPS = OBP + SLG'],\n",
       " ['WAR: Wins Above Replacement'],\n",
       " ['Statistics Glossary »'],\n",
       " [''],\n",
       " ['WAR data provided by Baseball-Reference'],\n",
       " ['Sponsored Headlines'],\n",
       " ['Switch and save an average of $699. Savings make me smile.'],\n",
       " ['Progressive'],\n",
       " ['|'],\n",
       " ['Sponsored'],\n",
       " ['Sweats You Can Wear To Work Without Getting Fired'],\n",
       " ['Public Rec'],\n",
       " ['|'],\n",
       " ['Sponsored'],\n",
       " ['The Average American Will Only Get 7 Right Answers. What Will…'],\n",
       " ['QuizGriz'],\n",
       " ['|'],\n",
       " ['Sponsored'],\n",
       " ['2019 Lexus Vehicles Worth Buying for Their Resale Value'],\n",
       " ['Kelley Blue Book'],\n",
       " ['|'],\n",
       " ['Sponsored'],\n",
       " ['Play this for 1 minute and see why everyone is addicted'],\n",
       " ['Vikings: Free Online Game'],\n",
       " ['|'],\n",
       " ['Sponsored'],\n",
       " [\"If You're Over 40 And Own A Computer, This Game Is A Must!\"],\n",
       " ['Throne: Free Online Games'],\n",
       " ['|'],\n",
       " ['Sponsored'],\n",
       " ['Our $5 Wines Are Better Than Most $50 Wines'],\n",
       " ['Firstleaf'],\n",
       " ['|'],\n",
       " ['Sponsored'],\n",
       " ['Italian Actress Sophia Loren Turned 83 & She Is Still Gorge…'],\n",
       " ['PsychicMonday'],\n",
       " ['|'],\n",
       " ['Sponsored'],\n",
       " ['The Genius Trick Every Costco Shopper Should Know'],\n",
       " ['Wikibuy'],\n",
       " ['|'],\n",
       " ['Sponsored'],\n",
       " ['Research Bulk Flash Drives'],\n",
       " ['Yahoo Search'],\n",
       " ['|'],\n",
       " ['Sponsored'],\n",
       " ['Say Bye To Your Expensive House Payment If You Have No…'],\n",
       " ['Fetcharate'],\n",
       " ['|'],\n",
       " ['Sponsored'],\n",
       " ['The Most Successful Attorneys In Tacoma. See The List'],\n",
       " ['Lawyers | Search Ads'],\n",
       " ['|'],\n",
       " ['Sponsored']]"
      ]
     },
     "execution_count": 65,
     "metadata": {},
     "output_type": "execute_result"
    }
   ],
   "source": [
    "[word.split(sep='\\t') for word in stats_raw]"
   ]
  },
  {
   "cell_type": "code",
   "execution_count": 66,
   "metadata": {},
   "outputs": [],
   "source": [
    "stats_clean = []\n",
    "for line in stats_raw:\n",
    "    stats_clean.append(line.split())"
   ]
  },
  {
   "cell_type": "code",
   "execution_count": 67,
   "metadata": {},
   "outputs": [
    {
     "data": {
      "text/plain": [
       "[['RK',\n",
       "  'PLAYER',\n",
       "  'TEAM',\n",
       "  'AB',\n",
       "  'R',\n",
       "  'H',\n",
       "  '2B',\n",
       "  '3B',\n",
       "  'HR',\n",
       "  'RBI',\n",
       "  'SB',\n",
       "  'CS',\n",
       "  'BB',\n",
       "  'SO',\n",
       "  'AVG',\n",
       "  'OBP',\n",
       "  'SLG',\n",
       "  'OPS',\n",
       "  'WAR'],\n",
       " ['1',\n",
       "  'Mookie',\n",
       "  'Betts',\n",
       "  'BOS',\n",
       "  '520',\n",
       "  '129',\n",
       "  '180',\n",
       "  '47',\n",
       "  '5',\n",
       "  '32',\n",
       "  '80',\n",
       "  '30',\n",
       "  '6',\n",
       "  '81',\n",
       "  '91',\n",
       "  '.346',\n",
       "  '.438',\n",
       "  '.640',\n",
       "  '1.078',\n",
       "  '10.9']]"
      ]
     },
     "execution_count": 67,
     "metadata": {},
     "output_type": "execute_result"
    }
   ],
   "source": [
    "stats_clean[0:2]"
   ]
  },
  {
   "cell_type": "markdown",
   "metadata": {},
   "source": [
    "Tutorial Practice"
   ]
  },
  {
   "cell_type": "code",
   "execution_count": 28,
   "metadata": {},
   "outputs": [],
   "source": [
    "base_url = \"http://mlb.mlb.com/stats/sortable.jsp#elem=%5Bobject+Object%5D&tab_level=child&click_text=Sortable+Player+hitting&game_type='R'&season=2018&season_type=ANY&league_code='MLB'&sectionType=sp&statType=hitting&page=1&ts=1561508001794&playerType=ALL&sportCode='mlb'&split=preas&team_id=&active_sw=&position=&page_type=SortablePlayer&sortOrder='desc'&sortColumn=avg&results=&perPage=50&timeframe=preas&last_x_days=&extended=0\"\n",
    "#videos_url = \"https://programmingwithgilbert.firebaseapp.com/videos/keras-tutorials\""
   ]
  },
  {
   "cell_type": "code",
   "execution_count": 36,
   "metadata": {},
   "outputs": [],
   "source": [
    "driver = webdriver.Firefox()\n",
    "driver.get(base_url)\n",
    "driver.implicitly_wait(100)"
   ]
  },
  {
   "cell_type": "code",
   "execution_count": 41,
   "metadata": {},
   "outputs": [
    {
     "data": {
      "text/plain": [
       "[<selenium.webdriver.firefox.webelement.FirefoxWebElement (session=\"35fdf87a-f2bd-5d4f-96e8-7f1366a6249d\", element=\"a8fc196b-8e6e-484e-86c7-89b539351f80\")>]"
      ]
     },
     "execution_count": 41,
     "metadata": {},
     "output_type": "execute_result"
    }
   ],
   "source": [
    "chart = driver.find_elements_by_class_name(\"stats_table.data_grid\")\n"
   ]
  },
  {
   "cell_type": "code",
   "execution_count": 39,
   "metadata": {},
   "outputs": [],
   "source": [
    "tutorial_soup = BeautifulSoup(driver.page_source, 'html.parser')\n",
    "tutorial_code_soup = tutorial_soup.find_all('table', attrs={'class': 'stats_table.data_grid'})"
   ]
  },
  {
   "cell_type": "code",
   "execution_count": 40,
   "metadata": {},
   "outputs": [
    {
     "data": {
      "text/plain": [
       "[]"
      ]
     },
     "execution_count": 40,
     "metadata": {},
     "output_type": "execute_result"
    }
   ],
   "source": [
    "tutorial_code_soup"
   ]
  },
  {
   "cell_type": "markdown",
   "metadata": {},
   "source": [
    "# Follow this tutorial later!!!!"
   ]
  },
  {
   "cell_type": "code",
   "execution_count": 76,
   "metadata": {},
   "outputs": [],
   "source": [
    "# https://news.codecademy.com/web-scraping-python-beautiful-soup-mlb-stats/"
   ]
  },
  {
   "cell_type": "code",
   "execution_count": null,
   "metadata": {},
   "outputs": [],
   "source": []
  }
 ],
 "metadata": {
  "kernelspec": {
   "display_name": "learn-env",
   "language": "python",
   "name": "learn-env"
  },
  "language_info": {
   "codemirror_mode": {
    "name": "ipython",
    "version": 3
   },
   "file_extension": ".py",
   "mimetype": "text/x-python",
   "name": "python",
   "nbconvert_exporter": "python",
   "pygments_lexer": "ipython3",
   "version": "3.7.0"
  }
 },
 "nbformat": 4,
 "nbformat_minor": 2
}
