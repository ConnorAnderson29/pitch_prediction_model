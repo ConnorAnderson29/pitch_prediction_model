{
 "cells": [
  {
   "cell_type": "markdown",
   "metadata": {},
   "source": [
    "# First Neural Network Experiement\n"
   ]
  },
  {
   "cell_type": "markdown",
   "metadata": {},
   "source": [
    "## Pipeline Preparation"
   ]
  },
  {
   "cell_type": "code",
   "execution_count": 1,
   "metadata": {},
   "outputs": [],
   "source": [
    "import numpy as np\n",
    "import pandas as pd\n",
    "np.random.seed(0)\n",
    "import matplotlib.pyplot as plt\n",
    "from sklearn.model_selection import train_test_split, cross_val_score\n",
    "from sklearn.metrics import accuracy_score, confusion_matrix, classification_report\n",
    "from sklearn.tree import DecisionTreeClassifier\n",
    "from sklearn.ensemble import BaggingClassifier, RandomForestClassifier, GradientBoostingClassifier\n",
    "from sklearn.preprocessing import OneHotEncoder\n",
    "from sklearn_pandas import DataFrameMapper, FunctionTransformer, gen_features, pipeline\n",
    "from sklearn_pandas.pipeline import Pipeline\n",
    "from sklearn.compose import ColumnTransformer\n",
    "import seaborn as sns\n",
    "from sklearn.metrics import f1_score, accuracy_score, roc_auc_score\n",
    "from sklearn.preprocessing import LabelBinarizer\n",
    "import xgboost as xgb\n",
    "import os\n",
    "import pitch_functions\n",
    "import sklearn"
   ]
  },
  {
   "cell_type": "code",
   "execution_count": 2,
   "metadata": {},
   "outputs": [
    {
     "name": "stderr",
     "output_type": "stream",
     "text": [
      "Using TensorFlow backend.\n"
     ]
    }
   ],
   "source": [
    "from matplotlib import pyplot as plt\n",
    "import numpy as np\n",
    "from sklearn.model_selection import train_test_split\n",
    "from sklearn import metrics\n",
    "from sklearn.preprocessing import StandardScaler\n",
    "from keras.models import Sequential\n",
    "from keras.layers import Dense, LSTM\n",
    "\n",
    "from keras.utils import to_categorical\n",
    "from sklearn.feature_extraction.text import TfidfVectorizer"
   ]
  },
  {
   "cell_type": "code",
   "execution_count": 4,
   "metadata": {},
   "outputs": [],
   "source": [
    "os.environ['KMP_DUPLICATE_LIB_OK']='True'"
   ]
  },
  {
   "cell_type": "code",
   "execution_count": 5,
   "metadata": {},
   "outputs": [],
   "source": [
    "pd.set_option('display.max_columns', None)"
   ]
  },
  {
   "cell_type": "code",
   "execution_count": 3,
   "metadata": {},
   "outputs": [],
   "source": [
    "each_pitch_clean = pd.read_csv('raw_data/master.csv')"
   ]
  },
  {
   "cell_type": "code",
   "execution_count": 6,
   "metadata": {},
   "outputs": [],
   "source": [
    "pitch_clean = each_pitch_clean.dropna().copy()"
   ]
  },
  {
   "cell_type": "code",
   "execution_count": 7,
   "metadata": {},
   "outputs": [],
   "source": [
    "pitch_clean = pitch_clean"
   ]
  },
  {
   "cell_type": "code",
   "execution_count": 8,
   "metadata": {},
   "outputs": [],
   "source": [
    "pitch_clean['count.balls'] = pitch_clean['count.balls'].astype(str)"
   ]
  },
  {
   "cell_type": "code",
   "execution_count": 9,
   "metadata": {},
   "outputs": [],
   "source": [
    "pitch_clean['count.strikes'] = pitch_clean['count.strikes'].astype(str)"
   ]
  },
  {
   "cell_type": "code",
   "execution_count": 10,
   "metadata": {},
   "outputs": [],
   "source": [
    "pitch_clean['count'] = pitch_clean['count.balls'] + '-' + pitch_clean['count.strikes'] "
   ]
  },
  {
   "cell_type": "code",
   "execution_count": 11,
   "metadata": {},
   "outputs": [],
   "source": [
    "pitch_clean = pitch_clean.drop([ 'previous_pitch_code', 'details.call.code', 'count.balls', 'count.strikes'], axis=1)"
   ]
  },
  {
   "cell_type": "code",
   "execution_count": 13,
   "metadata": {},
   "outputs": [
    {
     "data": {
      "text/plain": [
       "(516273, 24)"
      ]
     },
     "execution_count": 13,
     "metadata": {},
     "output_type": "execute_result"
    }
   ],
   "source": [
    "pitch_clean.shape"
   ]
  },
  {
   "cell_type": "code",
   "execution_count": 14,
   "metadata": {},
   "outputs": [],
   "source": [
    "pitch_clean.to_csv(r'raw_data/cleaned_pitches.csv', index=False, sep=',', encoding='utf-8')"
   ]
  },
  {
   "cell_type": "code",
   "execution_count": 302,
   "metadata": {},
   "outputs": [],
   "source": [
    "cat_features = list(predictors.select_dtypes(include='object'))\n",
    "cat_features.extend(['about.inning', 'pitchData.zone', 'count'])"
   ]
  },
  {
   "cell_type": "code",
   "execution_count": 303,
   "metadata": {},
   "outputs": [
    {
     "data": {
      "text/plain": [
       "['pitcher',\n",
       " 'hitter',\n",
       " 'about.halfInning',\n",
       " 'details.call.description',\n",
       " 'details.description',\n",
       " 'matchup.batSide.code',\n",
       " 'matchup.pitchHand.code',\n",
       " 'matchup.splits.menOnBase',\n",
       " 'prior_pitch_type',\n",
       " 'count',\n",
       " 'about.inning',\n",
       " 'pitchData.zone',\n",
       " 'count']"
      ]
     },
     "execution_count": 303,
     "metadata": {},
     "output_type": "execute_result"
    }
   ],
   "source": [
    "cat_features"
   ]
  },
  {
   "cell_type": "code",
   "execution_count": 304,
   "metadata": {},
   "outputs": [],
   "source": [
    "target = pitch_clean['pitch_type']"
   ]
  },
  {
   "cell_type": "code",
   "execution_count": 305,
   "metadata": {},
   "outputs": [],
   "source": [
    "predictors = pitch_clean.drop(['pitch_type'], axis=1)"
   ]
  },
  {
   "cell_type": "markdown",
   "metadata": {},
   "source": [
    "## Data Prep for Neural Network \n",
    "- Game Plan for Today\n",
    "- Engineer the count column with a string of what the count is - maybe turn each ball and strike into a string and then combine them.\n",
    "- One Hot Encode the final data frame with all categorical columns \n",
    "- Create Final Dataframe for computer work today, then look into creating a neural network on the cloud. "
   ]
  },
  {
   "cell_type": "code",
   "execution_count": 306,
   "metadata": {},
   "outputs": [],
   "source": [
    "pitches_dict = {'Fastball': 0, 'Breaking_Ball': 1, 'Changeup': 2}"
   ]
  },
  {
   "cell_type": "code",
   "execution_count": 307,
   "metadata": {},
   "outputs": [],
   "source": [
    "pitches_numerical = target.map(pitches_dict)"
   ]
  },
  {
   "cell_type": "code",
   "execution_count": 308,
   "metadata": {},
   "outputs": [],
   "source": [
    "X_train, X_test, y_train, y_test = train_test_split(predictors, \n",
    "                                                    pitches_numerical, \n",
    "                                                    random_state=10)"
   ]
  },
  {
   "cell_type": "code",
   "execution_count": 309,
   "metadata": {},
   "outputs": [
    {
     "name": "stdout",
     "output_type": "stream",
     "text": [
      "75\n",
      "75\n"
     ]
    }
   ],
   "source": [
    "print(len(X_train)) \n",
    "print(len(y_train))"
   ]
  },
  {
   "cell_type": "code",
   "execution_count": 310,
   "metadata": {},
   "outputs": [
    {
     "name": "stdout",
     "output_type": "stream",
     "text": [
      "25\n",
      "25\n"
     ]
    }
   ],
   "source": [
    "print(len(X_test)) \n",
    "print(len(y_test))"
   ]
  },
  {
   "cell_type": "code",
   "execution_count": 311,
   "metadata": {},
   "outputs": [],
   "source": [
    "encoder = OneHotEncoder(handle_unknown='ignore', categories='auto')"
   ]
  },
  {
   "cell_type": "code",
   "execution_count": 312,
   "metadata": {},
   "outputs": [
    {
     "data": {
      "text/plain": [
       "Index(['pitcher', 'WAR_x', 'WHIP', 'ERA', 'SO', 'hitter', 'SLG', 'OPS',\n",
       "       'WAR_y', 'about.atBatIndex', 'about.halfInning', 'about.inning',\n",
       "       'details.call.description', 'details.description',\n",
       "       'matchup.batSide.code', 'matchup.pitchHand.code', 'matchup.pitcher.id',\n",
       "       'matchup.splits.menOnBase', 'pitchData.nastyFactor', 'pitchData.zone',\n",
       "       'pitchNumber', 'prior_pitch_type', 'count'],\n",
       "      dtype='object')"
      ]
     },
     "execution_count": 312,
     "metadata": {},
     "output_type": "execute_result"
    }
   ],
   "source": [
    "X_train.columns"
   ]
  },
  {
   "cell_type": "code",
   "execution_count": 313,
   "metadata": {},
   "outputs": [
    {
     "data": {
      "text/html": [
       "<div>\n",
       "<style scoped>\n",
       "    .dataframe tbody tr th:only-of-type {\n",
       "        vertical-align: middle;\n",
       "    }\n",
       "\n",
       "    .dataframe tbody tr th {\n",
       "        vertical-align: top;\n",
       "    }\n",
       "\n",
       "    .dataframe thead th {\n",
       "        text-align: right;\n",
       "    }\n",
       "</style>\n",
       "<table border=\"1\" class=\"dataframe\">\n",
       "  <thead>\n",
       "    <tr style=\"text-align: right;\">\n",
       "      <th></th>\n",
       "      <th>pitcher</th>\n",
       "      <th>WAR_x</th>\n",
       "      <th>WHIP</th>\n",
       "      <th>ERA</th>\n",
       "      <th>SO</th>\n",
       "      <th>hitter</th>\n",
       "      <th>SLG</th>\n",
       "      <th>OPS</th>\n",
       "      <th>WAR_y</th>\n",
       "      <th>about.atBatIndex</th>\n",
       "      <th>about.halfInning</th>\n",
       "      <th>about.inning</th>\n",
       "      <th>details.call.description</th>\n",
       "      <th>details.description</th>\n",
       "      <th>matchup.batSide.code</th>\n",
       "      <th>matchup.pitchHand.code</th>\n",
       "      <th>matchup.pitcher.id</th>\n",
       "      <th>matchup.splits.menOnBase</th>\n",
       "      <th>pitchData.nastyFactor</th>\n",
       "      <th>pitchData.zone</th>\n",
       "      <th>pitchNumber</th>\n",
       "      <th>prior_pitch_type</th>\n",
       "      <th>count</th>\n",
       "    </tr>\n",
       "  </thead>\n",
       "  <tbody>\n",
       "    <tr>\n",
       "      <th>102</th>\n",
       "      <td>Rex Brothers</td>\n",
       "      <td>0.0</td>\n",
       "      <td>0.0</td>\n",
       "      <td>0.0</td>\n",
       "      <td>0</td>\n",
       "      <td>Maikel Franco</td>\n",
       "      <td>0.467</td>\n",
       "      <td>0.780</td>\n",
       "      <td>0.2</td>\n",
       "      <td>42</td>\n",
       "      <td>top</td>\n",
       "      <td>6</td>\n",
       "      <td>Ball - Called</td>\n",
       "      <td>Ball In Dirt</td>\n",
       "      <td>R</td>\n",
       "      <td>L</td>\n",
       "      <td>571521</td>\n",
       "      <td>Loaded</td>\n",
       "      <td>27.87</td>\n",
       "      <td>13.0</td>\n",
       "      <td>5.0</td>\n",
       "      <td>Fastball</td>\n",
       "      <td>4.0-1.0</td>\n",
       "    </tr>\n",
       "    <tr>\n",
       "      <th>37</th>\n",
       "      <td>Pablo Sandoval</td>\n",
       "      <td>0.0</td>\n",
       "      <td>0.0</td>\n",
       "      <td>0.0</td>\n",
       "      <td>0</td>\n",
       "      <td>Yasmani Grandal</td>\n",
       "      <td>0.466</td>\n",
       "      <td>0.815</td>\n",
       "      <td>3.3</td>\n",
       "      <td>91</td>\n",
       "      <td>top</td>\n",
       "      <td>9</td>\n",
       "      <td>Hit Into Play - Out(s)</td>\n",
       "      <td>In play, out(s)</td>\n",
       "      <td>L</td>\n",
       "      <td>R</td>\n",
       "      <td>467055</td>\n",
       "      <td>Empty</td>\n",
       "      <td>59.34</td>\n",
       "      <td>13.0</td>\n",
       "      <td>5.0</td>\n",
       "      <td>Changeup</td>\n",
       "      <td>2.0-2.0</td>\n",
       "    </tr>\n",
       "  </tbody>\n",
       "</table>\n",
       "</div>"
      ],
      "text/plain": [
       "            pitcher  WAR_x  WHIP  ERA  SO           hitter    SLG    OPS  \\\n",
       "102    Rex Brothers    0.0   0.0  0.0   0    Maikel Franco  0.467  0.780   \n",
       "37   Pablo Sandoval    0.0   0.0  0.0   0  Yasmani Grandal  0.466  0.815   \n",
       "\n",
       "     WAR_y  about.atBatIndex about.halfInning  about.inning  \\\n",
       "102    0.2                42              top             6   \n",
       "37     3.3                91              top             9   \n",
       "\n",
       "    details.call.description details.description matchup.batSide.code  \\\n",
       "102            Ball - Called        Ball In Dirt                    R   \n",
       "37    Hit Into Play - Out(s)     In play, out(s)                    L   \n",
       "\n",
       "    matchup.pitchHand.code  matchup.pitcher.id matchup.splits.menOnBase  \\\n",
       "102                      L              571521                   Loaded   \n",
       "37                       R              467055                    Empty   \n",
       "\n",
       "     pitchData.nastyFactor  pitchData.zone  pitchNumber prior_pitch_type  \\\n",
       "102                  27.87            13.0          5.0         Fastball   \n",
       "37                   59.34            13.0          5.0         Changeup   \n",
       "\n",
       "       count  \n",
       "102  4.0-1.0  \n",
       "37   2.0-2.0  "
      ]
     },
     "execution_count": 313,
     "metadata": {},
     "output_type": "execute_result"
    }
   ],
   "source": [
    "X_train.head(2)"
   ]
  },
  {
   "cell_type": "markdown",
   "metadata": {},
   "source": [
    "- New Dataframe with columns from all categories that need to be one-hot-encoded.\n",
    "- Use the data frame that was created then "
   ]
  },
  {
   "cell_type": "code",
   "execution_count": 314,
   "metadata": {},
   "outputs": [
    {
     "data": {
      "text/html": [
       "<div>\n",
       "<style scoped>\n",
       "    .dataframe tbody tr th:only-of-type {\n",
       "        vertical-align: middle;\n",
       "    }\n",
       "\n",
       "    .dataframe tbody tr th {\n",
       "        vertical-align: top;\n",
       "    }\n",
       "\n",
       "    .dataframe thead th {\n",
       "        text-align: right;\n",
       "    }\n",
       "</style>\n",
       "<table border=\"1\" class=\"dataframe\">\n",
       "  <thead>\n",
       "    <tr style=\"text-align: right;\">\n",
       "      <th></th>\n",
       "      <th>pitcher</th>\n",
       "      <th>hitter</th>\n",
       "      <th>about.halfInning</th>\n",
       "      <th>details.call.description</th>\n",
       "      <th>details.description</th>\n",
       "      <th>matchup.batSide.code</th>\n",
       "      <th>matchup.pitchHand.code</th>\n",
       "      <th>matchup.splits.menOnBase</th>\n",
       "      <th>prior_pitch_type</th>\n",
       "      <th>count</th>\n",
       "      <th>about.inning</th>\n",
       "      <th>pitchData.zone</th>\n",
       "      <th>count</th>\n",
       "    </tr>\n",
       "  </thead>\n",
       "  <tbody>\n",
       "    <tr>\n",
       "      <th>102</th>\n",
       "      <td>Rex Brothers</td>\n",
       "      <td>Maikel Franco</td>\n",
       "      <td>top</td>\n",
       "      <td>Ball - Called</td>\n",
       "      <td>Ball In Dirt</td>\n",
       "      <td>R</td>\n",
       "      <td>L</td>\n",
       "      <td>Loaded</td>\n",
       "      <td>Fastball</td>\n",
       "      <td>4.0-1.0</td>\n",
       "      <td>6</td>\n",
       "      <td>13.0</td>\n",
       "      <td>4.0-1.0</td>\n",
       "    </tr>\n",
       "    <tr>\n",
       "      <th>37</th>\n",
       "      <td>Pablo Sandoval</td>\n",
       "      <td>Yasmani Grandal</td>\n",
       "      <td>top</td>\n",
       "      <td>Hit Into Play - Out(s)</td>\n",
       "      <td>In play, out(s)</td>\n",
       "      <td>L</td>\n",
       "      <td>R</td>\n",
       "      <td>Empty</td>\n",
       "      <td>Changeup</td>\n",
       "      <td>2.0-2.0</td>\n",
       "      <td>9</td>\n",
       "      <td>13.0</td>\n",
       "      <td>2.0-2.0</td>\n",
       "    </tr>\n",
       "    <tr>\n",
       "      <th>111</th>\n",
       "      <td>Rex Brothers</td>\n",
       "      <td>J.P. Crawford</td>\n",
       "      <td>top</td>\n",
       "      <td>Ball - Called</td>\n",
       "      <td>Ball</td>\n",
       "      <td>L</td>\n",
       "      <td>L</td>\n",
       "      <td>Loaded</td>\n",
       "      <td>Fastball</td>\n",
       "      <td>4.0-2.0</td>\n",
       "      <td>6</td>\n",
       "      <td>12.0</td>\n",
       "      <td>4.0-2.0</td>\n",
       "    </tr>\n",
       "    <tr>\n",
       "      <th>10</th>\n",
       "      <td>Kendrys Morales</td>\n",
       "      <td>Matt Olson</td>\n",
       "      <td>top</td>\n",
       "      <td>Ball - Called</td>\n",
       "      <td>Ball</td>\n",
       "      <td>L</td>\n",
       "      <td>R</td>\n",
       "      <td>Empty</td>\n",
       "      <td>Changeup</td>\n",
       "      <td>3.0-0.0</td>\n",
       "      <td>9</td>\n",
       "      <td>11.0</td>\n",
       "      <td>3.0-0.0</td>\n",
       "    </tr>\n",
       "    <tr>\n",
       "      <th>115</th>\n",
       "      <td>Matt Davidson</td>\n",
       "      <td>Gleyber Torres</td>\n",
       "      <td>top</td>\n",
       "      <td>Hit Into Play - Out(s)</td>\n",
       "      <td>In play, out(s)</td>\n",
       "      <td>R</td>\n",
       "      <td>R</td>\n",
       "      <td>Empty</td>\n",
       "      <td>Fastball</td>\n",
       "      <td>2.0-0.0</td>\n",
       "      <td>9</td>\n",
       "      <td>14.0</td>\n",
       "      <td>2.0-0.0</td>\n",
       "    </tr>\n",
       "  </tbody>\n",
       "</table>\n",
       "</div>"
      ],
      "text/plain": [
       "             pitcher           hitter about.halfInning  \\\n",
       "102     Rex Brothers    Maikel Franco              top   \n",
       "37    Pablo Sandoval  Yasmani Grandal              top   \n",
       "111     Rex Brothers    J.P. Crawford              top   \n",
       "10   Kendrys Morales       Matt Olson              top   \n",
       "115    Matt Davidson   Gleyber Torres              top   \n",
       "\n",
       "    details.call.description details.description matchup.batSide.code  \\\n",
       "102            Ball - Called        Ball In Dirt                    R   \n",
       "37    Hit Into Play - Out(s)     In play, out(s)                    L   \n",
       "111            Ball - Called                Ball                    L   \n",
       "10             Ball - Called                Ball                    L   \n",
       "115   Hit Into Play - Out(s)     In play, out(s)                    R   \n",
       "\n",
       "    matchup.pitchHand.code matchup.splits.menOnBase prior_pitch_type    count  \\\n",
       "102                      L                   Loaded         Fastball  4.0-1.0   \n",
       "37                       R                    Empty         Changeup  2.0-2.0   \n",
       "111                      L                   Loaded         Fastball  4.0-2.0   \n",
       "10                       R                    Empty         Changeup  3.0-0.0   \n",
       "115                      R                    Empty         Fastball  2.0-0.0   \n",
       "\n",
       "     about.inning  pitchData.zone    count  \n",
       "102             6            13.0  4.0-1.0  \n",
       "37              9            13.0  2.0-2.0  \n",
       "111             6            12.0  4.0-2.0  \n",
       "10              9            11.0  3.0-0.0  \n",
       "115             9            14.0  2.0-0.0  "
      ]
     },
     "execution_count": 314,
     "metadata": {},
     "output_type": "execute_result"
    }
   ],
   "source": [
    "X_train_c = X_train[cat_features]\n",
    "X_train_c.head()\n"
   ]
  },
  {
   "cell_type": "code",
   "execution_count": 315,
   "metadata": {},
   "outputs": [],
   "source": [
    "X_test_c = X_test[cat_features]"
   ]
  },
  {
   "cell_type": "code",
   "execution_count": 220,
   "metadata": {},
   "outputs": [],
   "source": [
    "y_train_c = to_categorical(y_train)"
   ]
  },
  {
   "cell_type": "code",
   "execution_count": 206,
   "metadata": {},
   "outputs": [],
   "source": [
    "y_test_c = to_categorical(y_test)"
   ]
  },
  {
   "cell_type": "code",
   "execution_count": 316,
   "metadata": {},
   "outputs": [
    {
     "data": {
      "text/plain": [
       "OneHotEncoder(categorical_features=None, categories='auto',\n",
       "       dtype=<class 'numpy.float64'>, handle_unknown='ignore',\n",
       "       n_values=None, sparse=True)"
      ]
     },
     "execution_count": 316,
     "metadata": {},
     "output_type": "execute_result"
    }
   ],
   "source": [
    "encoder.fit(X_train_c)"
   ]
  },
  {
   "cell_type": "code",
   "execution_count": 317,
   "metadata": {},
   "outputs": [
    {
     "data": {
      "text/plain": [
       "array(['x0_Alex Avila', 'x0_Anthony Rizzo', 'x0_Brandon Guyer',\n",
       "       \"x0_Chase d'Arnaud\", 'x0_Danny Valencia', 'x0_Ian Krol',\n",
       "       'x0_Kendrys Morales', 'x0_Mark Reynolds', 'x0_Matt Davidson',\n",
       "       'x0_Pablo Sandoval', 'x0_Rex Brothers', 'x1_A.J. Pollock',\n",
       "       'x1_Aaron Hicks', 'x1_Brett Gardner', 'x1_Bryan Holaday',\n",
       "       'x1_Carlos Tocci', 'x1_Chris Taylor', 'x1_Didi Gregorius',\n",
       "       'x1_Dilson Herrera', 'x1_Eugenio Suarez', 'x1_Giancarlo Stanton',\n",
       "       'x1_Gleyber Torres', 'x1_Ian Desmond', 'x1_J.P. Crawford',\n",
       "       'x1_Joey Gallo', 'x1_Jonathan Lucroy', 'x1_Kendrys Morales',\n",
       "       'x1_Maikel Franco', 'x1_Matt Chapman', 'x1_Matt Olson',\n",
       "       'x1_Max Kepler', 'x1_Miguel Andujar', 'x1_Noel Cuevas',\n",
       "       'x1_Phillip Ervin', 'x1_Preston Tucker', 'x1_Raimel Tapia',\n",
       "       'x1_Rougned Odor', 'x1_Ryan Rua', 'x1_Taylor Motter',\n",
       "       'x1_Teoscar Hernandez', 'x1_Yangervis Solarte',\n",
       "       'x1_Yasmani Grandal', 'x2_bottom', 'x2_top', 'x3_Ball - Called',\n",
       "       'x3_Hit Into Play - Out(s)', 'x3_Strike - Swinging', 'x4_Ball',\n",
       "       'x4_Ball In Dirt', 'x4_Called Strike', 'x4_Foul', 'x4_Foul Tip',\n",
       "       'x4_In play, no out', 'x4_In play, out(s)', 'x4_Swinging Strike',\n",
       "       'x4_Swinging Strike (Blocked)', 'x5_L', 'x5_R', 'x6_L', 'x6_R',\n",
       "       'x7_Empty', 'x7_Loaded', 'x7_Men_On', 'x7_RISP',\n",
       "       'x8_Breaking_Ball', 'x8_Changeup', 'x8_Fastball', 'x9_0.0-1.0',\n",
       "       'x9_0.0-2.0', 'x9_1.0-0.0', 'x9_1.0-1.0', 'x9_1.0-2.0',\n",
       "       'x9_1.0-3.0', 'x9_2.0-0.0', 'x9_2.0-1.0', 'x9_2.0-2.0',\n",
       "       'x9_3.0-0.0', 'x9_3.0-1.0', 'x9_3.0-2.0', 'x9_3.0-3.0',\n",
       "       'x9_4.0-1.0', 'x9_4.0-2.0', 'x10_6', 'x10_7', 'x10_8', 'x10_9',\n",
       "       'x11_1.0', 'x11_2.0', 'x11_3.0', 'x11_4.0', 'x11_5.0', 'x11_6.0',\n",
       "       'x11_7.0', 'x11_8.0', 'x11_9.0', 'x11_11.0', 'x11_12.0',\n",
       "       'x11_13.0', 'x11_14.0', 'x12_0.0-1.0', 'x12_0.0-2.0',\n",
       "       'x12_1.0-0.0', 'x12_1.0-1.0', 'x12_1.0-2.0', 'x12_1.0-3.0',\n",
       "       'x12_2.0-0.0', 'x12_2.0-1.0', 'x12_2.0-2.0', 'x12_3.0-0.0',\n",
       "       'x12_3.0-1.0', 'x12_3.0-2.0', 'x12_3.0-3.0', 'x12_4.0-1.0',\n",
       "       'x12_4.0-2.0'], dtype=object)"
      ]
     },
     "execution_count": 317,
     "metadata": {},
     "output_type": "execute_result"
    }
   ],
   "source": [
    "encoder.get_feature_names()"
   ]
  },
  {
   "cell_type": "code",
   "execution_count": 319,
   "metadata": {},
   "outputs": [],
   "source": [
    "X_train_1 = pd.DataFrame(encoder.transform(X_train_c).todense(),\n",
    "                   columns=encoder.get_feature_names())"
   ]
  },
  {
   "cell_type": "code",
   "execution_count": 320,
   "metadata": {},
   "outputs": [
    {
     "data": {
      "text/html": [
       "<div>\n",
       "<style scoped>\n",
       "    .dataframe tbody tr th:only-of-type {\n",
       "        vertical-align: middle;\n",
       "    }\n",
       "\n",
       "    .dataframe tbody tr th {\n",
       "        vertical-align: top;\n",
       "    }\n",
       "\n",
       "    .dataframe thead th {\n",
       "        text-align: right;\n",
       "    }\n",
       "</style>\n",
       "<table border=\"1\" class=\"dataframe\">\n",
       "  <thead>\n",
       "    <tr style=\"text-align: right;\">\n",
       "      <th></th>\n",
       "      <th>x0_Alex Avila</th>\n",
       "      <th>x0_Anthony Rizzo</th>\n",
       "      <th>x0_Brandon Guyer</th>\n",
       "      <th>x0_Chase d'Arnaud</th>\n",
       "      <th>x0_Danny Valencia</th>\n",
       "      <th>x0_Ian Krol</th>\n",
       "      <th>x0_Kendrys Morales</th>\n",
       "      <th>x0_Mark Reynolds</th>\n",
       "      <th>x0_Matt Davidson</th>\n",
       "      <th>x0_Pablo Sandoval</th>\n",
       "      <th>x0_Rex Brothers</th>\n",
       "      <th>x1_A.J. Pollock</th>\n",
       "      <th>x1_Aaron Hicks</th>\n",
       "      <th>x1_Brett Gardner</th>\n",
       "      <th>x1_Bryan Holaday</th>\n",
       "      <th>x1_Carlos Tocci</th>\n",
       "      <th>x1_Chris Taylor</th>\n",
       "      <th>x1_Didi Gregorius</th>\n",
       "      <th>x1_Dilson Herrera</th>\n",
       "      <th>x1_Eugenio Suarez</th>\n",
       "      <th>x1_Giancarlo Stanton</th>\n",
       "      <th>x1_Gleyber Torres</th>\n",
       "      <th>x1_Ian Desmond</th>\n",
       "      <th>x1_J.P. Crawford</th>\n",
       "      <th>x1_Joey Gallo</th>\n",
       "      <th>x1_Jonathan Lucroy</th>\n",
       "      <th>x1_Kendrys Morales</th>\n",
       "      <th>x1_Maikel Franco</th>\n",
       "      <th>x1_Matt Chapman</th>\n",
       "      <th>x1_Matt Olson</th>\n",
       "      <th>x1_Max Kepler</th>\n",
       "      <th>x1_Miguel Andujar</th>\n",
       "      <th>x1_Noel Cuevas</th>\n",
       "      <th>x1_Phillip Ervin</th>\n",
       "      <th>x1_Preston Tucker</th>\n",
       "      <th>x1_Raimel Tapia</th>\n",
       "      <th>x1_Rougned Odor</th>\n",
       "      <th>x1_Ryan Rua</th>\n",
       "      <th>x1_Taylor Motter</th>\n",
       "      <th>x1_Teoscar Hernandez</th>\n",
       "      <th>x1_Yangervis Solarte</th>\n",
       "      <th>x1_Yasmani Grandal</th>\n",
       "      <th>x2_bottom</th>\n",
       "      <th>x2_top</th>\n",
       "      <th>x3_Ball - Called</th>\n",
       "      <th>x3_Hit Into Play - Out(s)</th>\n",
       "      <th>x3_Strike - Swinging</th>\n",
       "      <th>x4_Ball</th>\n",
       "      <th>x4_Ball In Dirt</th>\n",
       "      <th>x4_Called Strike</th>\n",
       "      <th>x4_Foul</th>\n",
       "      <th>x4_Foul Tip</th>\n",
       "      <th>x4_In play, no out</th>\n",
       "      <th>x4_In play, out(s)</th>\n",
       "      <th>x4_Swinging Strike</th>\n",
       "      <th>x4_Swinging Strike (Blocked)</th>\n",
       "      <th>x5_L</th>\n",
       "      <th>x5_R</th>\n",
       "      <th>x6_L</th>\n",
       "      <th>x6_R</th>\n",
       "      <th>x7_Empty</th>\n",
       "      <th>x7_Loaded</th>\n",
       "      <th>x7_Men_On</th>\n",
       "      <th>x7_RISP</th>\n",
       "      <th>x8_Breaking_Ball</th>\n",
       "      <th>x8_Changeup</th>\n",
       "      <th>x8_Fastball</th>\n",
       "      <th>x9_0.0-1.0</th>\n",
       "      <th>x9_0.0-2.0</th>\n",
       "      <th>x9_1.0-0.0</th>\n",
       "      <th>x9_1.0-1.0</th>\n",
       "      <th>x9_1.0-2.0</th>\n",
       "      <th>x9_1.0-3.0</th>\n",
       "      <th>x9_2.0-0.0</th>\n",
       "      <th>x9_2.0-1.0</th>\n",
       "      <th>x9_2.0-2.0</th>\n",
       "      <th>x9_3.0-0.0</th>\n",
       "      <th>x9_3.0-1.0</th>\n",
       "      <th>x9_3.0-2.0</th>\n",
       "      <th>x9_3.0-3.0</th>\n",
       "      <th>x9_4.0-1.0</th>\n",
       "      <th>x9_4.0-2.0</th>\n",
       "      <th>x10_6</th>\n",
       "      <th>x10_7</th>\n",
       "      <th>x10_8</th>\n",
       "      <th>x10_9</th>\n",
       "      <th>x11_1.0</th>\n",
       "      <th>x11_2.0</th>\n",
       "      <th>x11_3.0</th>\n",
       "      <th>x11_4.0</th>\n",
       "      <th>x11_5.0</th>\n",
       "      <th>x11_6.0</th>\n",
       "      <th>x11_7.0</th>\n",
       "      <th>x11_8.0</th>\n",
       "      <th>x11_9.0</th>\n",
       "      <th>x11_11.0</th>\n",
       "      <th>x11_12.0</th>\n",
       "      <th>x11_13.0</th>\n",
       "      <th>x11_14.0</th>\n",
       "      <th>x12_0.0-1.0</th>\n",
       "      <th>x12_0.0-2.0</th>\n",
       "      <th>x12_1.0-0.0</th>\n",
       "      <th>x12_1.0-1.0</th>\n",
       "      <th>x12_1.0-2.0</th>\n",
       "      <th>x12_1.0-3.0</th>\n",
       "      <th>x12_2.0-0.0</th>\n",
       "      <th>x12_2.0-1.0</th>\n",
       "      <th>x12_2.0-2.0</th>\n",
       "      <th>x12_3.0-0.0</th>\n",
       "      <th>x12_3.0-1.0</th>\n",
       "      <th>x12_3.0-2.0</th>\n",
       "      <th>x12_3.0-3.0</th>\n",
       "      <th>x12_4.0-1.0</th>\n",
       "      <th>x12_4.0-2.0</th>\n",
       "    </tr>\n",
       "  </thead>\n",
       "  <tbody>\n",
       "    <tr>\n",
       "      <th>0</th>\n",
       "      <td>0.0</td>\n",
       "      <td>0.0</td>\n",
       "      <td>0.0</td>\n",
       "      <td>0.0</td>\n",
       "      <td>0.0</td>\n",
       "      <td>0.0</td>\n",
       "      <td>0.0</td>\n",
       "      <td>0.0</td>\n",
       "      <td>0.0</td>\n",
       "      <td>0.0</td>\n",
       "      <td>1.0</td>\n",
       "      <td>0.0</td>\n",
       "      <td>0.0</td>\n",
       "      <td>0.0</td>\n",
       "      <td>0.0</td>\n",
       "      <td>0.0</td>\n",
       "      <td>0.0</td>\n",
       "      <td>0.0</td>\n",
       "      <td>0.0</td>\n",
       "      <td>0.0</td>\n",
       "      <td>0.0</td>\n",
       "      <td>0.0</td>\n",
       "      <td>0.0</td>\n",
       "      <td>0.0</td>\n",
       "      <td>0.0</td>\n",
       "      <td>0.0</td>\n",
       "      <td>0.0</td>\n",
       "      <td>1.0</td>\n",
       "      <td>0.0</td>\n",
       "      <td>0.0</td>\n",
       "      <td>0.0</td>\n",
       "      <td>0.0</td>\n",
       "      <td>0.0</td>\n",
       "      <td>0.0</td>\n",
       "      <td>0.0</td>\n",
       "      <td>0.0</td>\n",
       "      <td>0.0</td>\n",
       "      <td>0.0</td>\n",
       "      <td>0.0</td>\n",
       "      <td>0.0</td>\n",
       "      <td>0.0</td>\n",
       "      <td>0.0</td>\n",
       "      <td>0.0</td>\n",
       "      <td>1.0</td>\n",
       "      <td>1.0</td>\n",
       "      <td>0.0</td>\n",
       "      <td>0.0</td>\n",
       "      <td>0.0</td>\n",
       "      <td>1.0</td>\n",
       "      <td>0.0</td>\n",
       "      <td>0.0</td>\n",
       "      <td>0.0</td>\n",
       "      <td>0.0</td>\n",
       "      <td>0.0</td>\n",
       "      <td>0.0</td>\n",
       "      <td>0.0</td>\n",
       "      <td>0.0</td>\n",
       "      <td>1.0</td>\n",
       "      <td>1.0</td>\n",
       "      <td>0.0</td>\n",
       "      <td>0.0</td>\n",
       "      <td>1.0</td>\n",
       "      <td>0.0</td>\n",
       "      <td>0.0</td>\n",
       "      <td>0.0</td>\n",
       "      <td>0.0</td>\n",
       "      <td>1.0</td>\n",
       "      <td>0.0</td>\n",
       "      <td>0.0</td>\n",
       "      <td>0.0</td>\n",
       "      <td>0.0</td>\n",
       "      <td>0.0</td>\n",
       "      <td>0.0</td>\n",
       "      <td>0.0</td>\n",
       "      <td>0.0</td>\n",
       "      <td>0.0</td>\n",
       "      <td>0.0</td>\n",
       "      <td>0.0</td>\n",
       "      <td>0.0</td>\n",
       "      <td>0.0</td>\n",
       "      <td>1.0</td>\n",
       "      <td>0.0</td>\n",
       "      <td>1.0</td>\n",
       "      <td>0.0</td>\n",
       "      <td>0.0</td>\n",
       "      <td>0.0</td>\n",
       "      <td>0.0</td>\n",
       "      <td>0.0</td>\n",
       "      <td>0.0</td>\n",
       "      <td>0.0</td>\n",
       "      <td>0.0</td>\n",
       "      <td>0.0</td>\n",
       "      <td>0.0</td>\n",
       "      <td>0.0</td>\n",
       "      <td>0.0</td>\n",
       "      <td>0.0</td>\n",
       "      <td>0.0</td>\n",
       "      <td>1.0</td>\n",
       "      <td>0.0</td>\n",
       "      <td>0.0</td>\n",
       "      <td>0.0</td>\n",
       "      <td>0.0</td>\n",
       "      <td>0.0</td>\n",
       "      <td>0.0</td>\n",
       "      <td>0.0</td>\n",
       "      <td>0.0</td>\n",
       "      <td>0.0</td>\n",
       "      <td>0.0</td>\n",
       "      <td>0.0</td>\n",
       "      <td>0.0</td>\n",
       "      <td>0.0</td>\n",
       "      <td>0.0</td>\n",
       "      <td>1.0</td>\n",
       "      <td>0.0</td>\n",
       "    </tr>\n",
       "    <tr>\n",
       "      <th>1</th>\n",
       "      <td>0.0</td>\n",
       "      <td>0.0</td>\n",
       "      <td>0.0</td>\n",
       "      <td>0.0</td>\n",
       "      <td>0.0</td>\n",
       "      <td>0.0</td>\n",
       "      <td>0.0</td>\n",
       "      <td>0.0</td>\n",
       "      <td>0.0</td>\n",
       "      <td>1.0</td>\n",
       "      <td>0.0</td>\n",
       "      <td>0.0</td>\n",
       "      <td>0.0</td>\n",
       "      <td>0.0</td>\n",
       "      <td>0.0</td>\n",
       "      <td>0.0</td>\n",
       "      <td>0.0</td>\n",
       "      <td>0.0</td>\n",
       "      <td>0.0</td>\n",
       "      <td>0.0</td>\n",
       "      <td>0.0</td>\n",
       "      <td>0.0</td>\n",
       "      <td>0.0</td>\n",
       "      <td>0.0</td>\n",
       "      <td>0.0</td>\n",
       "      <td>0.0</td>\n",
       "      <td>0.0</td>\n",
       "      <td>0.0</td>\n",
       "      <td>0.0</td>\n",
       "      <td>0.0</td>\n",
       "      <td>0.0</td>\n",
       "      <td>0.0</td>\n",
       "      <td>0.0</td>\n",
       "      <td>0.0</td>\n",
       "      <td>0.0</td>\n",
       "      <td>0.0</td>\n",
       "      <td>0.0</td>\n",
       "      <td>0.0</td>\n",
       "      <td>0.0</td>\n",
       "      <td>0.0</td>\n",
       "      <td>0.0</td>\n",
       "      <td>1.0</td>\n",
       "      <td>0.0</td>\n",
       "      <td>1.0</td>\n",
       "      <td>0.0</td>\n",
       "      <td>1.0</td>\n",
       "      <td>0.0</td>\n",
       "      <td>0.0</td>\n",
       "      <td>0.0</td>\n",
       "      <td>0.0</td>\n",
       "      <td>0.0</td>\n",
       "      <td>0.0</td>\n",
       "      <td>0.0</td>\n",
       "      <td>1.0</td>\n",
       "      <td>0.0</td>\n",
       "      <td>0.0</td>\n",
       "      <td>1.0</td>\n",
       "      <td>0.0</td>\n",
       "      <td>0.0</td>\n",
       "      <td>1.0</td>\n",
       "      <td>1.0</td>\n",
       "      <td>0.0</td>\n",
       "      <td>0.0</td>\n",
       "      <td>0.0</td>\n",
       "      <td>0.0</td>\n",
       "      <td>1.0</td>\n",
       "      <td>0.0</td>\n",
       "      <td>0.0</td>\n",
       "      <td>0.0</td>\n",
       "      <td>0.0</td>\n",
       "      <td>0.0</td>\n",
       "      <td>0.0</td>\n",
       "      <td>0.0</td>\n",
       "      <td>0.0</td>\n",
       "      <td>0.0</td>\n",
       "      <td>1.0</td>\n",
       "      <td>0.0</td>\n",
       "      <td>0.0</td>\n",
       "      <td>0.0</td>\n",
       "      <td>0.0</td>\n",
       "      <td>0.0</td>\n",
       "      <td>0.0</td>\n",
       "      <td>0.0</td>\n",
       "      <td>0.0</td>\n",
       "      <td>0.0</td>\n",
       "      <td>1.0</td>\n",
       "      <td>0.0</td>\n",
       "      <td>0.0</td>\n",
       "      <td>0.0</td>\n",
       "      <td>0.0</td>\n",
       "      <td>0.0</td>\n",
       "      <td>0.0</td>\n",
       "      <td>0.0</td>\n",
       "      <td>0.0</td>\n",
       "      <td>0.0</td>\n",
       "      <td>0.0</td>\n",
       "      <td>0.0</td>\n",
       "      <td>1.0</td>\n",
       "      <td>0.0</td>\n",
       "      <td>0.0</td>\n",
       "      <td>0.0</td>\n",
       "      <td>0.0</td>\n",
       "      <td>0.0</td>\n",
       "      <td>0.0</td>\n",
       "      <td>0.0</td>\n",
       "      <td>0.0</td>\n",
       "      <td>0.0</td>\n",
       "      <td>1.0</td>\n",
       "      <td>0.0</td>\n",
       "      <td>0.0</td>\n",
       "      <td>0.0</td>\n",
       "      <td>0.0</td>\n",
       "      <td>0.0</td>\n",
       "      <td>0.0</td>\n",
       "    </tr>\n",
       "  </tbody>\n",
       "</table>\n",
       "</div>"
      ],
      "text/plain": [
       "   x0_Alex Avila  x0_Anthony Rizzo  x0_Brandon Guyer  x0_Chase d'Arnaud  \\\n",
       "0            0.0               0.0               0.0                0.0   \n",
       "1            0.0               0.0               0.0                0.0   \n",
       "\n",
       "   x0_Danny Valencia  x0_Ian Krol  x0_Kendrys Morales  x0_Mark Reynolds  \\\n",
       "0                0.0          0.0                 0.0               0.0   \n",
       "1                0.0          0.0                 0.0               0.0   \n",
       "\n",
       "   x0_Matt Davidson  x0_Pablo Sandoval  x0_Rex Brothers  x1_A.J. Pollock  \\\n",
       "0               0.0                0.0              1.0              0.0   \n",
       "1               0.0                1.0              0.0              0.0   \n",
       "\n",
       "   x1_Aaron Hicks  x1_Brett Gardner  x1_Bryan Holaday  x1_Carlos Tocci  \\\n",
       "0             0.0               0.0               0.0              0.0   \n",
       "1             0.0               0.0               0.0              0.0   \n",
       "\n",
       "   x1_Chris Taylor  x1_Didi Gregorius  x1_Dilson Herrera  x1_Eugenio Suarez  \\\n",
       "0              0.0                0.0                0.0                0.0   \n",
       "1              0.0                0.0                0.0                0.0   \n",
       "\n",
       "   x1_Giancarlo Stanton  x1_Gleyber Torres  x1_Ian Desmond  x1_J.P. Crawford  \\\n",
       "0                   0.0                0.0             0.0               0.0   \n",
       "1                   0.0                0.0             0.0               0.0   \n",
       "\n",
       "   x1_Joey Gallo  x1_Jonathan Lucroy  x1_Kendrys Morales  x1_Maikel Franco  \\\n",
       "0            0.0                 0.0                 0.0               1.0   \n",
       "1            0.0                 0.0                 0.0               0.0   \n",
       "\n",
       "   x1_Matt Chapman  x1_Matt Olson  x1_Max Kepler  x1_Miguel Andujar  \\\n",
       "0              0.0            0.0            0.0                0.0   \n",
       "1              0.0            0.0            0.0                0.0   \n",
       "\n",
       "   x1_Noel Cuevas  x1_Phillip Ervin  x1_Preston Tucker  x1_Raimel Tapia  \\\n",
       "0             0.0               0.0                0.0              0.0   \n",
       "1             0.0               0.0                0.0              0.0   \n",
       "\n",
       "   x1_Rougned Odor  x1_Ryan Rua  x1_Taylor Motter  x1_Teoscar Hernandez  \\\n",
       "0              0.0          0.0               0.0                   0.0   \n",
       "1              0.0          0.0               0.0                   0.0   \n",
       "\n",
       "   x1_Yangervis Solarte  x1_Yasmani Grandal  x2_bottom  x2_top  \\\n",
       "0                   0.0                 0.0        0.0     1.0   \n",
       "1                   0.0                 1.0        0.0     1.0   \n",
       "\n",
       "   x3_Ball - Called  x3_Hit Into Play - Out(s)  x3_Strike - Swinging  x4_Ball  \\\n",
       "0               1.0                        0.0                   0.0      0.0   \n",
       "1               0.0                        1.0                   0.0      0.0   \n",
       "\n",
       "   x4_Ball In Dirt  x4_Called Strike  x4_Foul  x4_Foul Tip  \\\n",
       "0              1.0               0.0      0.0          0.0   \n",
       "1              0.0               0.0      0.0          0.0   \n",
       "\n",
       "   x4_In play, no out  x4_In play, out(s)  x4_Swinging Strike  \\\n",
       "0                 0.0                 0.0                 0.0   \n",
       "1                 0.0                 1.0                 0.0   \n",
       "\n",
       "   x4_Swinging Strike (Blocked)  x5_L  x5_R  x6_L  x6_R  x7_Empty  x7_Loaded  \\\n",
       "0                           0.0   0.0   1.0   1.0   0.0       0.0        1.0   \n",
       "1                           0.0   1.0   0.0   0.0   1.0       1.0        0.0   \n",
       "\n",
       "   x7_Men_On  x7_RISP  x8_Breaking_Ball  x8_Changeup  x8_Fastball  x9_0.0-1.0  \\\n",
       "0        0.0      0.0               0.0          0.0          1.0         0.0   \n",
       "1        0.0      0.0               0.0          1.0          0.0         0.0   \n",
       "\n",
       "   x9_0.0-2.0  x9_1.0-0.0  x9_1.0-1.0  x9_1.0-2.0  x9_1.0-3.0  x9_2.0-0.0  \\\n",
       "0         0.0         0.0         0.0         0.0         0.0         0.0   \n",
       "1         0.0         0.0         0.0         0.0         0.0         0.0   \n",
       "\n",
       "   x9_2.0-1.0  x9_2.0-2.0  x9_3.0-0.0  x9_3.0-1.0  x9_3.0-2.0  x9_3.0-3.0  \\\n",
       "0         0.0         0.0         0.0         0.0         0.0         0.0   \n",
       "1         0.0         1.0         0.0         0.0         0.0         0.0   \n",
       "\n",
       "   x9_4.0-1.0  x9_4.0-2.0  x10_6  x10_7  x10_8  x10_9  x11_1.0  x11_2.0  \\\n",
       "0         1.0         0.0    1.0    0.0    0.0    0.0      0.0      0.0   \n",
       "1         0.0         0.0    0.0    0.0    0.0    1.0      0.0      0.0   \n",
       "\n",
       "   x11_3.0  x11_4.0  x11_5.0  x11_6.0  x11_7.0  x11_8.0  x11_9.0  x11_11.0  \\\n",
       "0      0.0      0.0      0.0      0.0      0.0      0.0      0.0       0.0   \n",
       "1      0.0      0.0      0.0      0.0      0.0      0.0      0.0       0.0   \n",
       "\n",
       "   x11_12.0  x11_13.0  x11_14.0  x12_0.0-1.0  x12_0.0-2.0  x12_1.0-0.0  \\\n",
       "0       0.0       1.0       0.0          0.0          0.0          0.0   \n",
       "1       0.0       1.0       0.0          0.0          0.0          0.0   \n",
       "\n",
       "   x12_1.0-1.0  x12_1.0-2.0  x12_1.0-3.0  x12_2.0-0.0  x12_2.0-1.0  \\\n",
       "0          0.0          0.0          0.0          0.0          0.0   \n",
       "1          0.0          0.0          0.0          0.0          0.0   \n",
       "\n",
       "   x12_2.0-2.0  x12_3.0-0.0  x12_3.0-1.0  x12_3.0-2.0  x12_3.0-3.0  \\\n",
       "0          0.0          0.0          0.0          0.0          0.0   \n",
       "1          1.0          0.0          0.0          0.0          0.0   \n",
       "\n",
       "   x12_4.0-1.0  x12_4.0-2.0  \n",
       "0          1.0          0.0  \n",
       "1          0.0          0.0  "
      ]
     },
     "execution_count": 320,
     "metadata": {},
     "output_type": "execute_result"
    }
   ],
   "source": [
    "X_train_1.head(2)"
   ]
  },
  {
   "cell_type": "code",
   "execution_count": 321,
   "metadata": {},
   "outputs": [],
   "source": [
    "X_test_1 = pd.DataFrame(encoder.transform(X_test_c).todense(),\n",
    "                   columns=encoder.get_feature_names())"
   ]
  },
  {
   "cell_type": "code",
   "execution_count": 322,
   "metadata": {},
   "outputs": [
    {
     "data": {
      "text/plain": [
       "75"
      ]
     },
     "execution_count": 322,
     "metadata": {},
     "output_type": "execute_result"
    }
   ],
   "source": [
    "len(X_train_1)"
   ]
  },
  {
   "cell_type": "code",
   "execution_count": 323,
   "metadata": {},
   "outputs": [
    {
     "data": {
      "text/plain": [
       "(75, 114)"
      ]
     },
     "execution_count": 323,
     "metadata": {},
     "output_type": "execute_result"
    }
   ],
   "source": [
    "X_train_1.shape"
   ]
  },
  {
   "cell_type": "code",
   "execution_count": 324,
   "metadata": {},
   "outputs": [
    {
     "data": {
      "text/plain": [
       "(25, 114)"
      ]
     },
     "execution_count": 324,
     "metadata": {},
     "output_type": "execute_result"
    }
   ],
   "source": [
    "X_test_1.shape"
   ]
  },
  {
   "cell_type": "code",
   "execution_count": 325,
   "metadata": {},
   "outputs": [
    {
     "data": {
      "text/plain": [
       "25"
      ]
     },
     "execution_count": 325,
     "metadata": {},
     "output_type": "execute_result"
    }
   ],
   "source": [
    "len(X_test_1)"
   ]
  },
  {
   "cell_type": "code",
   "execution_count": 95,
   "metadata": {},
   "outputs": [],
   "source": [
    "# List of Normalish Distributions\n",
    "#OPS\n",
    "#WAR_y\n",
    "#Nasty Factor\n",
    "#Drop matchup.pitcher.id or drop all players in general"
   ]
  },
  {
   "cell_type": "code",
   "execution_count": 96,
   "metadata": {},
   "outputs": [],
   "source": [
    "from keras.layers import Bidirectional, Activation\n",
    "import numpy as np"
   ]
  },
  {
   "cell_type": "code",
   "execution_count": null,
   "metadata": {},
   "outputs": [],
   "source": []
  },
  {
   "cell_type": "code",
   "execution_count": 97,
   "metadata": {},
   "outputs": [],
   "source": [
    "X_train_r = np.reshape(np.asarray(X_train_1), (X_train_1.shape[0], 1, X_train_1.shape[1]))\n",
    "X_test_r = np.reshape(np.asarray(X_test_1), (X_test_1.shape[0], 1, X_test_1.shape[1]))\n",
    "y_train_r = np.reshape(np.asarray(y_train_c), (y_train_c.shape[0], 1, y_train_c.shape[1]))\n",
    "y_test_r = np.reshape(np.asarray(y_test_c), (y_test_c.shape[0], 1, y_test_c.shape[1]))"
   ]
  },
  {
   "cell_type": "code",
   "execution_count": 98,
   "metadata": {},
   "outputs": [
    {
     "data": {
      "text/plain": [
       "(7500, 1, 4882)"
      ]
     },
     "execution_count": 98,
     "metadata": {},
     "output_type": "execute_result"
    }
   ],
   "source": [
    "X_train_r.shape"
   ]
  },
  {
   "cell_type": "code",
   "execution_count": 99,
   "metadata": {},
   "outputs": [],
   "source": [
    "model = Sequential()\n",
    "model.add(Bidirectional(LSTM(10, return_sequences=True),\n",
    "                        input_shape=(X_train_r.shape[1], X_train_r.shape[2] )))\n",
    "model.add(Bidirectional(LSTM(10)))\n",
    "model.add(Dense(5))\n",
    "# model.add(Activation('softmax'))\n",
    "model.compile(loss='categorical_crossentropy', optimizer='rmsprop')"
   ]
  },
  {
   "cell_type": "code",
   "execution_count": 100,
   "metadata": {},
   "outputs": [],
   "source": [
    "# model = Sequential()\n",
    "# inputs = X_train_1.shape[1]\n",
    "\n",
    "# model.add(Dense(inputs, activation='relu'))\n",
    "# model.add(Dense(100, activation='relu'))\n",
    "\n",
    "# model.add(Dense(3, activation='softmax'))"
   ]
  },
  {
   "cell_type": "code",
   "execution_count": 101,
   "metadata": {},
   "outputs": [],
   "source": [
    "# model.compile(optimizer='adam', loss='categorical_crossentropy', metrics=['acc'])"
   ]
  },
  {
   "cell_type": "code",
   "execution_count": 102,
   "metadata": {},
   "outputs": [],
   "source": [
    "rnn = Sequential()\n",
    "\n",
    "inputs = X_train_r.shape[2]\n",
    "\n",
    "rnn.add(LSTM(inputs, input_shape=(1, inputs), return_sequences=True))\n",
    "rnn.add(LSTM(200, return_sequences=True))\n",
    "rnn.add(LSTM(30, return_sequences=True))\n",
    "rnn.add(Dense(3, activation='softmax'))"
   ]
  },
  {
   "cell_type": "code",
   "execution_count": 103,
   "metadata": {},
   "outputs": [],
   "source": [
    "rnn.compile(optimizer='rmsprop', loss='categorical_crossentropy', metrics=['acc'])"
   ]
  },
  {
   "cell_type": "code",
   "execution_count": 104,
   "metadata": {},
   "outputs": [
    {
     "name": "stdout",
     "output_type": "stream",
     "text": [
      "Train on 7500 samples, validate on 2500 samples\n",
      "Epoch 1/5\n",
      "7500/7500 [==============================] - 943s 126ms/step - loss: 0.7401 - acc: 0.6635 - val_loss: 0.7191 - val_acc: 0.6812\n",
      "Epoch 2/5\n",
      "7500/7500 [==============================] - 900s 120ms/step - loss: 0.6428 - acc: 0.7225 - val_loss: 0.6982 - val_acc: 0.6880\n",
      "Epoch 3/5\n",
      "7500/7500 [==============================] - 899s 120ms/step - loss: 0.5734 - acc: 0.7544 - val_loss: 0.6979 - val_acc: 0.6964\n",
      "Epoch 4/5\n",
      "7500/7500 [==============================] - 3015s 402ms/step - loss: 0.5069 - acc: 0.7836 - val_loss: 0.7223 - val_acc: 0.6916\n",
      "Epoch 5/5\n",
      "7500/7500 [==============================] - 897s 120ms/step - loss: 0.4439 - acc: 0.8121 - val_loss: 0.7575 - val_acc: 0.6844\n"
     ]
    }
   ],
   "source": [
    "logg= rnn.fit(X_train_r, y_train_r,\n",
    "          validation_data = (X_test_r, y_test_r), epochs=5)"
   ]
  },
  {
   "cell_type": "code",
   "execution_count": null,
   "metadata": {},
   "outputs": [],
   "source": []
  },
  {
   "cell_type": "code",
   "execution_count": null,
   "metadata": {},
   "outputs": [],
   "source": []
  },
  {
   "cell_type": "code",
   "execution_count": null,
   "metadata": {},
   "outputs": [],
   "source": []
  },
  {
   "cell_type": "code",
   "execution_count": null,
   "metadata": {},
   "outputs": [],
   "source": []
  }
 ],
 "metadata": {
  "kernelspec": {
   "display_name": "learn-env",
   "language": "python",
   "name": "learn-env"
  },
  "language_info": {
   "codemirror_mode": {
    "name": "ipython",
    "version": 3
   },
   "file_extension": ".py",
   "mimetype": "text/x-python",
   "name": "python",
   "nbconvert_exporter": "python",
   "pygments_lexer": "ipython3",
   "version": "3.7.0"
  }
 },
 "nbformat": 4,
 "nbformat_minor": 2
}
